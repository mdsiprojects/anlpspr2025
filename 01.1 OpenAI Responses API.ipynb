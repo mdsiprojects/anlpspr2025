{
 "cells": [
  {
   "cell_type": "markdown",
   "metadata": {},
   "source": [
    "# Setup"
   ]
  },
  {
   "cell_type": "code",
   "execution_count": 1,
   "metadata": {},
   "outputs": [],
   "source": [
    "from openai import OpenAI\n",
    "from openai import embeddings"
   ]
  },
  {
   "cell_type": "code",
   "execution_count": null,
   "metadata": {},
   "outputs": [
    {
     "data": {
      "text/plain": [
       "True"
      ]
     },
     "execution_count": 2,
     "metadata": {},
     "output_type": "execute_result"
    }
   ],
   "source": [
    "from dotenv import load_dotenv\n",
    "import os\n",
    "import json\n",
    "\n",
    "load_dotenv()\n",
    "\n"
   ]
  },
  {
   "cell_type": "code",
   "execution_count": 3,
   "metadata": {},
   "outputs": [
    {
     "name": "stdout",
     "output_type": "stream",
     "text": [
      "sk-proj-eUanLfMUnbXn ...\n",
      "org-8d28 ...\n",
      "proj_30j ...\n"
     ]
    }
   ],
   "source": [
    "print(os.getenv(\"OPENAI_API_KEY\")[:20], \"...\")\n",
    "print(os.getenv(\"OPENAI_ORG\")[:8], \"...\")\n",
    "print(os.getenv(\"OPENAI_PROJECT\")[:8], \"...\")"
   ]
  },
  {
   "cell_type": "markdown",
   "metadata": {},
   "source": [
    "## Envinronment Variables\n",
    "\n",
    "Create a .env File: In the root of your project directory, create a file named `.env`. This file will hold your environment variables in the form of key-value pairs. For example:\n",
    "\n",
    "```ini\n",
    "    OPENAI_API_KEY = <openai_apikey>\n",
    "\n",
    "\n",
    "    # optional \n",
    "    OPENAI_ORG = <openai_org_id>\n",
    "    OPENAI_PROJECT = <openai_project_id>\n",
    "\n",
    "```"
   ]
  },
  {
   "cell_type": "code",
   "execution_count": 4,
   "metadata": {},
   "outputs": [],
   "source": [
    "\n",
    "# Set the API key and endpoint\n",
    "api_key = os.getenv('OPENAI_API_KEY')\n",
    "org = os.getenv('OPENAI_ORG')\n",
    "project = os.getenv('OPENAI_PROJECT')\n",
    "# model = \"gpt-5-mini-2025-08-07\"\n",
    "model = \"gpt-4.1-mini\""
   ]
  },
  {
   "cell_type": "markdown",
   "metadata": {},
   "source": [
    "## OpenAI Client\n",
    "Azure OpenAI provides two methods for authentication. You can use either API Keys or Microsoft Entra ID.\n",
    "\n",
    "* API Key authentication: For this type of authentication, all API requests must include the API Key in the api-key HTTP header. \n",
    "\n",
    "* Microsoft Entra ID authentication: You can authenticate an API call using a Microsoft Entra token. Authentication tokens are included in a request as the Authorization header. The token provided must be preceded by Bearer, for example Bearer YOUR_AUTH_TOKEN. You can read our how-to guide on authenticating with Microsoft Entra ID.\n",
    "\n",
    "We will be using API Key for this class. Store the API Key in the `.env` file, never share your API Key with others. \n"
   ]
  },
  {
   "cell_type": "code",
   "execution_count": 5,
   "metadata": {},
   "outputs": [],
   "source": [
    "client = OpenAI(\n",
    "    api_key=api_key,\n",
    "    organization=org,\n",
    "    project=project\n",
    ")"
   ]
  },
  {
   "cell_type": "code",
   "execution_count": 6,
   "metadata": {},
   "outputs": [
    {
     "data": {
      "text/plain": [
       "[]"
      ]
     },
     "execution_count": 6,
     "metadata": {},
     "output_type": "execute_result"
    }
   ],
   "source": [
    "[m.id for m in client.models.list().data if m.id.startswith(\"gpt-gpt\")]"
   ]
  },
  {
   "cell_type": "markdown",
   "metadata": {},
   "source": [
    "# Responses API "
   ]
  },
  {
   "cell_type": "code",
   "execution_count": 7,
   "metadata": {},
   "outputs": [
    {
     "name": "stdout",
     "output_type": "stream",
     "text": [
      "Response(id='resp_68d3abaaec448193bb3981fde2f7944606fd3263f4d4c8c9', created_at=1758702507.0, error=None, incomplete_details=None, instructions=None, metadata={}, model='gpt-4.1-mini-2025-04-14', object='response', output=[ResponseOutputMessage(id='msg_68d3abab9e008193a9029b86e15b345f06fd3263f4d4c8c9', content=[ResponseOutputText(annotations=[], text='Hello, world! How can I assist you today?', type='output_text', logprobs=[])], role='assistant', status='completed', type='message')], parallel_tool_calls=True, temperature=1.0, tool_choice='auto', tools=[], top_p=1.0, background=False, conversation=None, max_output_tokens=None, max_tool_calls=None, previous_response_id=None, prompt=None, prompt_cache_key=None, reasoning=Reasoning(effort=None, generate_summary=None, summary=None), safety_identifier=None, service_tier='default', status='completed', text=ResponseTextConfig(format=ResponseFormatText(type='text'), verbosity='medium'), top_logprobs=0, truncation='disabled', usage=ResponseUsage(input_tokens=11, input_tokens_details=InputTokensDetails(cached_tokens=0), output_tokens=12, output_tokens_details=OutputTokensDetails(reasoning_tokens=0), total_tokens=23), user=None, billing={'payer': 'developer'}, store=True)\n"
     ]
    }
   ],
   "source": [
    "response = client.responses.create(\n",
    "    model=model,\n",
    "    input=\"Hello, world!\"\n",
    ")\n",
    "\n",
    "print(response)"
   ]
  },
  {
   "cell_type": "code",
   "execution_count": 9,
   "metadata": {},
   "outputs": [],
   "source": [
    "response = client.responses.create(\n",
    "    model=\"gpt-4o-mini\",\n",
    "    input=[\n",
    "        {\"role\": \"assistant\", \"content\": \"You are a helpful assistant.\"},\n",
    "        {\"role\": \"user\", \"content\": \"Who won the world series in 2020?\"}\n",
    "    ]\n",
    ")"
   ]
  },
  {
   "cell_type": "code",
   "execution_count": 10,
   "metadata": {},
   "outputs": [
    {
     "name": "stdout",
     "output_type": "stream",
     "text": [
      "{\n",
      "  \"id\": \"resp_68d3abbb0fd48194add108f8099a195e0f12aefbffb866cb\",\n",
      "  \"created_at\": 1758702523.0,\n",
      "  \"error\": null,\n",
      "  \"incomplete_details\": null,\n",
      "  \"instructions\": null,\n",
      "  \"metadata\": {},\n",
      "  \"model\": \"gpt-4o-mini-2024-07-18\",\n",
      "  \"object\": \"response\",\n",
      "  \"output\": [\n",
      "    {\n",
      "      \"id\": \"msg_68d3abbbf5dc819493c48b3289b04d0b0f12aefbffb866cb\",\n",
      "      \"content\": [\n",
      "        {\n",
      "          \"annotations\": [],\n",
      "          \"text\": \"The Los Angeles Dodgers won the World Series in 2020, defeating the Tampa Bay Rays. This victory marked the Dodgers' first World Series title since 1988.\",\n",
      "          \"type\": \"output_text\",\n",
      "          \"logprobs\": []\n",
      "        }\n",
      "      ],\n",
      "      \"role\": \"assistant\",\n",
      "      \"status\": \"completed\",\n",
      "      \"type\": \"message\"\n",
      "    }\n",
      "  ],\n",
      "  \"parallel_tool_calls\": true,\n",
      "  \"temperature\": 1.0,\n",
      "  \"tool_choice\": \"auto\",\n",
      "  \"tools\": [],\n",
      "  \"top_p\": 1.0,\n",
      "  \"background\": false,\n",
      "  \"max_output_tokens\": null,\n",
      "  \"max_tool_calls\": null,\n",
      "  \"previous_response_id\": null,\n",
      "  \"prompt_cache_key\": null,\n",
      "  \"reasoning\": {\n",
      "    \"effort\": null,\n",
      "    \"summary\": null\n",
      "  },\n",
      "  \"safety_identifier\": null,\n",
      "  \"service_tier\": \"default\",\n",
      "  \"status\": \"completed\",\n",
      "  \"text\": {\n",
      "    \"format\": {\n",
      "      \"type\": \"text\"\n",
      "    },\n",
      "    \"verbosity\": \"medium\"\n",
      "  },\n",
      "  \"top_logprobs\": 0,\n",
      "  \"truncation\": \"disabled\",\n",
      "  \"usage\": {\n",
      "    \"input_tokens\": 27,\n",
      "    \"input_tokens_details\": {\n",
      "      \"cached_tokens\": 0\n",
      "    },\n",
      "    \"output_tokens\": 35,\n",
      "    \"output_tokens_details\": {\n",
      "      \"reasoning_tokens\": 0\n",
      "    },\n",
      "    \"total_tokens\": 62\n",
      "  },\n",
      "  \"user\": null,\n",
      "  \"billing\": {\n",
      "    \"payer\": \"developer\"\n",
      "  },\n",
      "  \"store\": true\n",
      "}\n"
     ]
    }
   ],
   "source": [
    "print(response.to_json())"
   ]
  },
  {
   "cell_type": "markdown",
   "metadata": {},
   "source": [
    "## Multimodal Input"
   ]
  },
  {
   "cell_type": "code",
   "execution_count": 14,
   "metadata": {},
   "outputs": [],
   "source": [
    "input=[\n",
    "    {\"role\": \"assistant\", \"content\": \"You are a helpful assistant.\"},\n",
    "    {\n",
    "        \"role\": \"user\",\n",
    "        \"content\": [\n",
    "\n",
    "                { \"type\": \"input_text\", \"text\": \"describe \" },\n",
    "                {\n",
    "                    \"type\": \"input_image\",\n",
    "                    \"image_url\": \"https://upload.wikimedia.org/wikipedia/commons/thumb/d/dd/Gfp-wisconsin-madison-the-nature-boardwalk.jpg/2560px-Gfp-wisconsin-madison-the-nature-boardwalk.jpg\"\n",
    "                }\n",
    "        ]\n",
    "    }\n",
    "]\n",
    "response = client.responses.create(\n",
    "    model=model,\n",
    "    input=input\n",
    ")\n"
   ]
  },
  {
   "cell_type": "code",
   "execution_count": 15,
   "metadata": {},
   "outputs": [
    {
     "name": "stdout",
     "output_type": "stream",
     "text": [
      "The image shows a wooden pathway cutting through a lush, green grassy field. The grass is tall and dense on both sides of the path, with some bushes and small trees visible in the background. The sky above is bright and mostly clear, with a few scattered clouds and a soft gradient of blue, white, and hints of yellow. The overall atmosphere is tranquil and inviting, suggesting a pleasant outdoor setting.\n"
     ]
    }
   ],
   "source": [
    "print(response.output_text)"
   ]
  },
  {
   "cell_type": "code",
   "execution_count": 16,
   "metadata": {},
   "outputs": [
    {
     "name": "stdout",
     "output_type": "stream",
     "text": [
      "{\n",
      "  \"id\": \"resp_0a2f13c1eac0c3bb0068c8a8ab0034819fa0ac87b2957f05f6\",\n",
      "  \"created_at\": 1757980843.0,\n",
      "  \"error\": null,\n",
      "  \"incomplete_details\": null,\n",
      "  \"instructions\": null,\n",
      "  \"metadata\": {},\n",
      "  \"model\": \"gpt-4.1-mini-2025-04-14\",\n",
      "  \"object\": \"response\",\n",
      "  \"output\": [\n",
      "    {\n",
      "      \"id\": \"msg_0a2f13c1eac0c3bb0068c8a8ad3e6c819f9bf6af8ca63dcfe0\",\n",
      "      \"content\": [\n",
      "        {\n",
      "          \"annotations\": [],\n",
      "          \"text\": \"The image shows a wooden pathway cutting through a lush, green grassy field. The grass is tall and dense on both sides of the path, with some bushes and small trees visible in the background. The sky above is bright and mostly clear, with a few scattered clouds and a soft gradient of blue, white, and hints of yellow. The overall atmosphere is tranquil and inviting, suggesting a pleasant outdoor setting.\",\n",
      "          \"type\": \"output_text\",\n",
      "          \"logprobs\": []\n",
      "        }\n",
      "      ],\n",
      "      \"role\": \"assistant\",\n",
      "      \"status\": \"completed\",\n",
      "      \"type\": \"message\"\n",
      "    }\n",
      "  ],\n",
      "  \"parallel_tool_calls\": true,\n",
      "  \"temperature\": 1.0,\n",
      "  \"tool_choice\": \"auto\",\n",
      "  \"tools\": [],\n",
      "  \"top_p\": 1.0,\n",
      "  \"background\": false,\n",
      "  \"max_output_tokens\": null,\n",
      "  \"max_tool_calls\": null,\n",
      "  \"previous_response_id\": null,\n",
      "  \"prompt_cache_key\": null,\n",
      "  \"reasoning\": {\n",
      "    \"effort\": null,\n",
      "    \"summary\": null\n",
      "  },\n",
      "  \"safety_identifier\": null,\n",
      "  \"service_tier\": \"default\",\n",
      "  \"status\": \"completed\",\n",
      "  \"text\": {\n",
      "    \"format\": {\n",
      "      \"type\": \"text\"\n",
      "    },\n",
      "    \"verbosity\": \"medium\"\n",
      "  },\n",
      "  \"top_logprobs\": 0,\n",
      "  \"truncation\": \"disabled\",\n",
      "  \"usage\": {\n",
      "    \"input_tokens\": 2431,\n",
      "    \"input_tokens_details\": {\n",
      "      \"cached_tokens\": 0\n",
      "    },\n",
      "    \"output_tokens\": 82,\n",
      "    \"output_tokens_details\": {\n",
      "      \"reasoning_tokens\": 0\n",
      "    },\n",
      "    \"total_tokens\": 2513\n",
      "  },\n",
      "  \"user\": null,\n",
      "  \"store\": true\n",
      "}\n"
     ]
    }
   ],
   "source": [
    "\n",
    "print(response.to_json())"
   ]
  },
  {
   "cell_type": "code",
   "execution_count": 17,
   "metadata": {},
   "outputs": [
    {
     "name": "stdout",
     "output_type": "stream",
     "text": [
      "{\n",
      "  \"input_tokens\": 2431,\n",
      "  \"input_tokens_details\": {\n",
      "    \"cached_tokens\": 0\n",
      "  },\n",
      "  \"output_tokens\": 82,\n",
      "  \"output_tokens_details\": {\n",
      "    \"reasoning_tokens\": 0\n",
      "  },\n",
      "  \"total_tokens\": 2513\n",
      "}\n"
     ]
    }
   ],
   "source": [
    "print(response.usage.to_json())"
   ]
  },
  {
   "cell_type": "code",
   "execution_count": 18,
   "metadata": {},
   "outputs": [],
   "source": [
    "image_url = 'https://thumbs.dreamstime.com/z/worksheet-mathematical-puzzle-game-learning-mathematics-tasks-addition-preschool-children-kids-vector-186763165.jpg'\n",
    "\n",
    "\n",
    "input=[\n",
    "    {\n",
    "        \"role\": \"user\",\n",
    "        \"content\": [\n",
    "\n",
    "                { \"type\": \"input_text\", \"text\": \"solve \" },\n",
    "                {\n",
    "                    \"type\": \"input_image\",\n",
    "                    \"image_url\": image_url\n",
    "                }\n",
    "        ]\n",
    "    }\n",
    "]\n",
    "response = client.responses.create(\n",
    "    model=model,\n",
    "    input=input\n",
    ")\n"
   ]
  },
  {
   "cell_type": "code",
   "execution_count": 19,
   "metadata": {},
   "outputs": [
    {
     "name": "stdout",
     "output_type": "stream",
     "text": [
      "Let's denote the values of the butterfly, grapes, and apple as B, G, and A respectively.\n",
      "\n",
      "From the first equation:\n",
      "B = 5\n",
      "\n",
      "From the second equation:\n",
      "G = B + 4\n",
      "G = 5 + 4\n",
      "G = 9\n",
      "\n",
      "From the third equation:\n",
      "A = G - 7\n",
      "A = 9 - 7\n",
      "A = 2\n",
      "\n",
      "So, the value of the apple is 2.\n"
     ]
    }
   ],
   "source": [
    "print(response.output_text)"
   ]
  },
  {
   "cell_type": "code",
   "execution_count": 20,
   "metadata": {},
   "outputs": [
    {
     "data": {
      "text/html": [
       "<img src=\"https://thumbs.dreamstime.com/z/worksheet-mathematical-puzzle-game-learning-mathematics-tasks-addition-preschool-children-kids-vector-186763165.jpg\" height=\"300\"/>"
      ],
      "text/plain": [
       "<IPython.core.display.Image object>"
      ]
     },
     "execution_count": 20,
     "metadata": {},
     "output_type": "execute_result"
    }
   ],
   "source": [
    "# display image from url\n",
    "from IPython.display import Image\n",
    "Image(url=image_url, height=300)\n"
   ]
  },
  {
   "cell_type": "code",
   "execution_count": 36,
   "metadata": {},
   "outputs": [
    {
     "name": "stdout",
     "output_type": "stream",
     "text": [
      "The image shows three Labrador Retrievers lying on the green grass in a sunny outdoor setting. The dog on the left has a chocolate brown coat, the dog in the middle has a light cream or yellow coat, and the dog on the right has a solid black coat. All three dogs have their tongues out, giving the impression that they are happy or relaxed. They appear to be well-groomed and healthy, and the background features a blurred green meadow or field with some small yellow flowers. The overall atmosphere is bright and cheerful.\n"
     ]
    }
   ],
   "source": [
    "import requests\n",
    "import base64\n",
    "\n",
    "image_file = \"./data/dogs.jpg\"\n",
    "# image_file = \"./data/71835.jpg\"\n",
    "\n",
    "# encode the image as base64\n",
    "# response = requests.get(image_url)\n",
    "with open(image_file, \"rb\") as image_file:\n",
    "    image_base64 = base64.b64encode(image_file.read()).decode('utf-8')\n",
    "\n",
    "input=[\n",
    "    {\"role\": \"assistant\", \"content\":\n",
    "     \"\"\"You are a helpful assistant.\n",
    "     \"\"\"},\n",
    "    {\n",
    "        \"role\": \"user\",\n",
    "        \"content\": [\n",
    "            { \"type\": \"input_text\", \"text\": \"describe \" },\n",
    "            {\n",
    "                \"type\": \"input_image\",\n",
    "                \"image_url\": f\"data:image/jpeg;base64,{image_base64}\"\n",
    "            }\n",
    "        ]\n",
    "    }\n",
    "]\n",
    "response = client.responses.create(\n",
    "    model=model,\n",
    "    input=input\n",
    ")\n",
    "\n",
    "\n",
    "print(response.output_text)"
   ]
  },
  {
   "cell_type": "markdown",
   "metadata": {},
   "source": [
    "## Responses API Streaming\n"
   ]
  },
  {
   "cell_type": "code",
   "execution_count": 25,
   "metadata": {},
   "outputs": [
    {
     "name": "stdout",
     "output_type": "stream",
     "text": [
      "<openai.Stream object at 0x000001C76B7ACA50>\n"
     ]
    }
   ],
   "source": [
    "response = client.responses.create(\n",
    "    model=model,\n",
    "    input=\"write a long poem\",\n",
    "    stream=True\n",
    ")\n",
    "\n",
    "print(response)"
   ]
  },
  {
   "cell_type": "code",
   "execution_count": 26,
   "metadata": {},
   "outputs": [
    {
     "name": "stdout",
     "output_type": "stream",
     "text": [
      "Certainly! Here’s a long poem for you:\n",
      "\n",
      "---\n",
      "\n",
      "**Whispers of the Endless Sky**\n",
      "\n",
      "Beneath the vault of endless blue,  \n",
      "Where clouds drift by in silver hue,  \n",
      "The winds compose a soft embrace,  \n",
      "A quiet song in endless space.  \n",
      "\n",
      "The trees, like ancient sentinels, stand,  \n",
      "With roots that delve beneath the land.  \n",
      "Their branches reach for sun and rain,  \n",
      "In whispered stories, joy and pain.  \n",
      "\n",
      "The rivers sing a sparkling tune,  \n",
      "Reflecting stars and chasing moon.  \n",
      "They carve the earth with tender hands,  \n",
      "A bridge between the sea and sands.  \n",
      "\n",
      "Mountains rise with jagged grace,  \n",
      "Guardians of this sacred place.  \n",
      "Their peaks like crowns against the light,  \n",
      "Touching dawn, retreating night.  \n",
      "\n",
      "In fields where wildflowers bloom and sway,  \n",
      "Colors dance in bright array,  \n",
      "Each petal holds a tale untold,  \n",
      "Of seasons passed and days of gold.  \n",
      "\n",
      "The creatures of this world awake,  \n",
      "In forest glen and meadows lake.  \n",
      "From tiniest ant to soaring hawk,  \n",
      "They share the earth, in silent talk.  \n",
      "\n",
      "And we, mere travelers passing through,  \n",
      "Hold fleeting moments, fresh and new.  \n",
      "In hearts that beat and minds that dream,  \n",
      "Part of the universal seam.  \n",
      "\n",
      "So listen close to skies and seas,  \n",
      "The rustling grass, the whispered breeze.  \n",
      "For in their voice, a truth does lie —  \n",
      "We are the breath of earth and sky.  \n",
      "\n",
      "Connected deep, through time and space,  \n",
      "A single thread, a shared embrace.  \n",
      "The world, a poem, soft and grand,  \n",
      "Composed by nature’s gentle hand.\n",
      "\n",
      "---\n",
      "\n",
      "I hope you enjoyed the journey through this poem! Would you like me to write more or on a particular theme?"
     ]
    }
   ],
   "source": [
    "for event in response:\n",
    "    if event.type == 'response.output_text.delta':\n",
    "        print(event.delta, end='')"
   ]
  },
  {
   "cell_type": "markdown",
   "metadata": {},
   "source": []
  }
 ],
 "metadata": {
  "kernelspec": {
   "display_name": "openai_env",
   "language": "python",
   "name": "python3"
  },
  "language_info": {
   "codemirror_mode": {
    "name": "ipython",
    "version": 3
   },
   "file_extension": ".py",
   "mimetype": "text/x-python",
   "name": "python",
   "nbconvert_exporter": "python",
   "pygments_lexer": "ipython3",
   "version": "3.13.5"
  }
 },
 "nbformat": 4,
 "nbformat_minor": 2
}
