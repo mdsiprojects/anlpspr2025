{
 "cells": [
  {
   "cell_type": "markdown",
   "metadata": {},
   "source": [
    "# Setup"
   ]
  },
  {
   "cell_type": "code",
   "execution_count": 1,
   "metadata": {},
   "outputs": [
    {
     "name": "stdout",
     "output_type": "stream",
     "text": [
      "1.107.3\n",
      "sk-proj-eUanLfMUnbXn ...\n",
      "org-8d28 ...\n",
      "proj_30j ...\n"
     ]
    }
   ],
   "source": [
    "from openai import OpenAI\n",
    "from openai import embeddings\n",
    "from openai import __version__\n",
    "print(__version__)\n",
    "\n",
    "\n",
    "from IPython.display import display, Markdown\n",
    "\n",
    "from dotenv import load_dotenv\n",
    "import os\n",
    "import json\n",
    "\n",
    "load_dotenv()\n",
    "\n",
    "print(os.getenv(\"OPENAI_API_KEY\")[:20], \"...\")\n",
    "print(os.getenv(\"OPENAI_ORG\")[:8], \"...\")\n",
    "print(os.getenv(\"OPENAI_PROJECT\")[:8], \"...\")"
   ]
  },
  {
   "cell_type": "markdown",
   "metadata": {},
   "source": [
    "## Envinronment Variables\n",
    "\n",
    "Create a .env File: In the root of your project directory, create a file named `.env`. This file will hold your environment variables in the form of key-value pairs. For example:\n",
    "\n",
    "```ini\n",
    "    OPENAI_API_KEY = <openai_apikey>\n",
    "\n",
    "\n",
    "    # optional \n",
    "    OPENAI_ORG = <openai_org_id>\n",
    "    OPENAI_PROJECT = <openai_project_id>\n",
    "\n",
    "```"
   ]
  },
  {
   "cell_type": "code",
   "execution_count": 2,
   "metadata": {},
   "outputs": [],
   "source": [
    "\n",
    "# Set the API key and endpoint\n",
    "api_key = os.getenv('OPENAI_API_KEY')\n",
    "org = os.getenv('OPENAI_ORG')\n",
    "project = os.getenv('OPENAI_PROJECT')\n",
    "# model = \"gpt-5-mini-2025-08-07\"\n",
    "model = \"gpt-4o-mini\""
   ]
  },
  {
   "cell_type": "markdown",
   "metadata": {},
   "source": [
    "## OpenAI Client\n",
    "\n"
   ]
  },
  {
   "cell_type": "code",
   "execution_count": 3,
   "metadata": {},
   "outputs": [],
   "source": [
    "client = OpenAI(\n",
    "    api_key=api_key,\n",
    "    organization=org,\n",
    "    project=project\n",
    ")"
   ]
  },
  {
   "cell_type": "code",
   "execution_count": 4,
   "metadata": {},
   "outputs": [
    {
     "data": {
      "text/plain": [
       "['gpt-4o',\n",
       " 'gpt-4o-2024-05-13',\n",
       " 'gpt-4o-mini-2024-07-18',\n",
       " 'gpt-4o-mini',\n",
       " 'gpt-4o-2024-08-06',\n",
       " 'gpt-4o-realtime-preview-2024-10-01',\n",
       " 'gpt-4o-audio-preview-2024-10-01',\n",
       " 'gpt-4o-audio-preview',\n",
       " 'gpt-4o-realtime-preview',\n",
       " 'gpt-4o-realtime-preview-2024-12-17',\n",
       " 'gpt-4o-audio-preview-2024-12-17',\n",
       " 'gpt-4o-mini-realtime-preview-2024-12-17',\n",
       " 'gpt-4o-mini-audio-preview-2024-12-17',\n",
       " 'gpt-4o-mini-realtime-preview',\n",
       " 'gpt-4o-mini-audio-preview',\n",
       " 'gpt-4o-2024-11-20',\n",
       " 'gpt-4o-search-preview-2025-03-11',\n",
       " 'gpt-4o-search-preview',\n",
       " 'gpt-4o-mini-search-preview-2025-03-11',\n",
       " 'gpt-4o-mini-search-preview',\n",
       " 'gpt-4o-transcribe',\n",
       " 'gpt-4o-mini-transcribe',\n",
       " 'gpt-4o-mini-tts',\n",
       " 'gpt-4o-realtime-preview-2025-06-03',\n",
       " 'gpt-4o-audio-preview-2025-06-03']"
      ]
     },
     "execution_count": 4,
     "metadata": {},
     "output_type": "execute_result"
    }
   ],
   "source": [
    "[m.id for m in client.models.list().data if m.id.startswith(\"gpt-4o\")]"
   ]
  },
  {
   "cell_type": "code",
   "execution_count": 5,
   "metadata": {},
   "outputs": [],
   "source": [
    "response = client.responses.create(\n",
    "    model=model,\n",
    "    input=[\n",
    "        {\"role\": \"system\", \"content\": \"You are a helpful assistant.\"},\n",
    "        {\"role\": \"user\", \"content\": \"Who won the world series in 2020?\"}\n",
    "\n",
    "\n",
    "    ],\n",
    ")"
   ]
  },
  {
   "cell_type": "code",
   "execution_count": 6,
   "metadata": {},
   "outputs": [
    {
     "name": "stdout",
     "output_type": "stream",
     "text": [
      "The Los Angeles Dodgers won the World Series in 2020. They defeated the Tampa Bay Rays, clinching the championship in six games. This victory marked the Dodgers' first World Series title since 1988.\n",
      "{\n",
      "  \"input_tokens\": 27,\n",
      "  \"input_tokens_details\": {\n",
      "    \"cached_tokens\": 0\n",
      "  },\n",
      "  \"output_tokens\": 44,\n",
      "  \"output_tokens_details\": {\n",
      "    \"reasoning_tokens\": 0\n",
      "  },\n",
      "  \"total_tokens\": 71\n",
      "}\n"
     ]
    }
   ],
   "source": [
    "print(response.output_text)\n",
    "print(response.usage.to_json())"
   ]
  },
  {
   "cell_type": "markdown",
   "metadata": {},
   "source": [
    "## Function Wrapper\n",
    "\n",
    "Now let's wrap the chat completions API call in a function `get_response` for ease of use: "
   ]
  },
  {
   "cell_type": "code",
   "execution_count": 7,
   "metadata": {},
   "outputs": [],
   "source": [
    "system_prompt = \"You are a helpful assistant. Keep your response short and to the point.\"\n",
    "\n",
    "\n",
    "def get_response(prompt, system_prompt=system_prompt):\n",
    "    response = client.responses.create(\n",
    "        model=model,\n",
    "        input=[\n",
    "            {\"role\": \"system\", \"content\": system_prompt},\n",
    "            {\"role\": \"user\", \"content\": prompt}\n",
    "        ]\n",
    "    )\n",
    "    output = response.output_text\n",
    "    return output\n"
   ]
  },
  {
   "cell_type": "markdown",
   "metadata": {},
   "source": [
    "# Prompting with the Responses API \n",
    "\n",
    "You can craft your prompt to instruct the model to perform different tasks, including text completion, text analytics, and other tasks based on your requirements."
   ]
  },
  {
   "cell_type": "markdown",
   "metadata": {},
   "source": [
    "## Entity Extractions"
   ]
  },
  {
   "cell_type": "code",
   "execution_count": 8,
   "metadata": {},
   "outputs": [
    {
     "name": "stdout",
     "output_type": "stream",
     "text": [
      "```json\n",
      "{\n",
      "  \"entities\": [\n",
      "    {\n",
      "      \"type\": \"Product\",\n",
      "      \"value\": \"iPhone\"\n",
      "    },\n",
      "    {\n",
      "      \"type\": \"Company\",\n",
      "      \"value\": \"Apple\"\n",
      "    },\n",
      "    {\n",
      "      \"type\": \"Time\",\n",
      "      \"value\": \"next month\"\n",
      "    },\n",
      "    {\n",
      "      \"type\": \"Feature\",\n",
      "      \"value\": \"larger screen\"\n",
      "    },\n",
      "    {\n",
      "      \"type\": \"Feature\",\n",
      "      \"value\": \"improved camera\"\n",
      "    }\n",
      "  ]\n",
      "}\n",
      "```\n"
     ]
    }
   ],
   "source": [
    "#Entity Extraction\n",
    "\n",
    "prompt = \"\"\"Please extract entities from\n",
    "the following news article: 'The\n",
    "new iPhone model is set to be\n",
    "released next month. It has\n",
    "been highly anticipated by\n",
    "Apple fans and is expected to\n",
    "feature a larger screen and\n",
    "improved camera, present results in a json format\"\"\"\n",
    "\n",
    "\n",
    "print(get_response(prompt))\n",
    "\n"
   ]
  },
  {
   "cell_type": "markdown",
   "metadata": {},
   "source": [
    "## Sentiment Analysis"
   ]
  },
  {
   "cell_type": "code",
   "execution_count": 9,
   "metadata": {},
   "outputs": [
    {
     "name": "stdout",
     "output_type": "stream",
     "text": [
      "The sentiment of the text is positive. It highlights the innovative features and appealing design of the iPhone.\n"
     ]
    }
   ],
   "source": [
    "# Sentiment analysis\n",
    "\n",
    "\n",
    "prompt = \"\"\"Please provide a sentiment for the\n",
    "following text:\n",
    "The iPhone is a line of smartphones\n",
    "designed and marketed by Apple Inc.\n",
    "These devices combine a computer,\n",
    "camera, and internet connectivity in a\n",
    "single device, and are known for their\n",
    "sleek design and user-friendly\n",
    "\"\"\"\n",
    "\n",
    "\n",
    "\n",
    "\n",
    "print(get_response(prompt))"
   ]
  },
  {
   "cell_type": "markdown",
   "metadata": {},
   "source": [
    "## Summarisation\n"
   ]
  },
  {
   "cell_type": "code",
   "execution_count": 10,
   "metadata": {},
   "outputs": [
    {
     "name": "stdout",
     "output_type": "stream",
     "text": [
      "length of prompt: 6222\n",
      "length of response: 663\n",
      "The 2024 report from the National Drug and Alcohol Research Centre at UNSW Sydney reveals that 54% of surveyed regular drug users had taken pharmaceutical stimulants without a prescription in the past six months, the highest percentage since 2007. Pharmaceutical stimulants, often used to treat ADHD, were reportedly easy to obtain. While non-prescribed use has tripled since monitoring began, users typically engage infrequently. Risks include increased heart rate and blood pressure, potential for serious side effects, and dangers from combining with other substances. Harm reduction strategies and continued monitoring are recommended to address these issues.\n"
     ]
    }
   ],
   "source": [
    "# Summarisation\n",
    "\n",
    "\n",
    "prompt = \"\"\"\n",
    "\n",
    "Please summarise the following text:\n",
    "\n",
    "\n",
    "Each year, the National Drug and Alcohol Research Centre at UNSW Sydney surveys hundreds of people who regularly use drugs in Australia to understand trends in substance use around the country.\n",
    "\n",
    "Today, we’ve released the 2024 report, which canvassed 740 people from Australian capital cities who regularly use ecstasy or other illicit stimulants.\n",
    "\n",
    "While the focus of this research is largely on illegal drugs and markets, we also monitor trends in the use of pharmaceutical stimulants, such as ADHD drugs, without a prescription.\n",
    "\n",
    "This year, 54% of the people we spoke to had used pharmaceutical stimulants in the previous six months when it was not prescribed to them. This was the highest percentage we’ve seen since we started asking people about this type of drug use in 2007.\n",
    "\n",
    "Start your day with evidence-based news.\n",
    "What are pharmaceutical stimulants?\n",
    "Pharmaceutical stimulants include the drug methylphenidate (brand names Concerta and Ritalin), as well as dexamphetamine and lisdexamfetamine (Vyvanse).\n",
    "\n",
    "These medicines are commonly prescribed to treat attention deficit hyperactivity disorder (ADHD) and narcolepsy, a chronic neurological disorder that causes excessive sleepiness and sudden bouts of sleep during the day.\n",
    "\n",
    "These medications work in different ways depending on the type. But they treat ADHD by increasing the levels of important chemicals (neurotransmitters) in the brain, including dopamine and noradrenaline.\n",
    "\n",
    "However, as with many pharmaceutical substances, people also use these stimulants when they’re not prescribed them. There are a range of reasons someone might choose to use these medicines without a prescription.\n",
    "\n",
    "Studies of university students have shown these substances are often used to increase alertness, concentration and memory. Studies among broader populations have shown they may also be used to experiment, or to get high.\n",
    "\n",
    "Worldwide, including in Australia, there have been notable increases in the prescribing of ADHD medications in recent years, likely due to increasing identification and diagnosis of ADHD. As prescriptions increase, there is increased potential for these substances to be diverted to illicit drug markets.\n",
    "\n",
    "A young man working on a laptop in a library.\n",
    "Some people might seek pharmaceutical stimulants to increase alertness and concentration. Ground Picture/Shutterstock\n",
    "What we found\n",
    "Non-prescribed use of pharmaceutical stimulants has tripled since monitoring began, from 17% of those surveyed in 2007 to 54% in 2024. It has been similarly high in recent years (52% in 2022 and 47% in 2023).\n",
    "\n",
    "Frequency of use has remained relatively low. Respondents have typically reported using non-prescribed pharmaceutical stimulants monthly or less frequently.\n",
    "\n",
    "In this survey, participants most commonly reported using dexamphetamine, followed by methylphenidate and lisdexamfetamine. Most (79%) reported it was “easy” or “very easy” to obtain these substances, similar to 2022 and 2023.\n",
    "\n",
    "Of course, given our research looks at people who regularly use drugs, the use of pharmaceutical stimulants without a prescription doesn’t reflect use in the general population.\n",
    "\n",
    "In the 2022–23 National Drug Strategy Household Survey, a general population survey of Australians aged 14 years and older, 2.1% of the population (equating to roughly 400,000 people) reported having used pharmaceutical stimulants for non‑medical purposes in the previous year. This was similar to the percentage of people reporting ecstasy use.\n",
    "\n",
    "What are the risks?\n",
    "Pharmaceutical stimulants are considered to have a relatively safe toxicity profile. However, as with all stimulants, these substances increase activity of the sympathetic nervous system, which controls various functions in the body during times of stress. This in turn increases heart rate, blood pressure and breathing rate.\n",
    "\n",
    "These changes can cause acute cardiac events (such as arrhythmias, or irregular heartbeat) and, with repeated use of high doses, chronic changes in the heart’s functioning.\n",
    "\n",
    "Recent Australian studies have documented an increase in poisonings involving these substances, although a notable proportion of these appear to be intentional poisoning. Of poisonings that only involved pharmaceutical stimulants, the drugs were mostly taken orally, with a median dose more than ten times a typical prescribed dose. The most common symptoms were hypertension (high blood pressure), tachycardia (increased heart rate) and agitation.\n",
    "\n",
    "In our survey, those who had used pharmaceutical stimulants most commonly swallowed them in tablet form and generally took a dose slightly higher than what’s typically prescribed.\n",
    "\n",
    "However, about one in four reported snorting as a route of administration. This can result in physical harms such as damage to the sinuses, and can heighten potential risks from the drug because it may take effect more quickly in the body.\n",
    "\n",
    "A hand holds a bag of white powder.\n",
    "Snorting pharmaceutical stimulants can be more dangerous. DedMityay/Shutterstock\n",
    "Some pharmaceutical stimulants are “long-acting”, released into the body over a day. So there may also be a risk of premature re-dosing if people unknowingly use these formulations more than once a day. That is, if people don’t experience the desired effects within the expected time frame, they may take another dose, which can increase the risk of adverse effects.\n",
    "\n",
    "Finally, non-prescribed pharmaceutical stimulants may have adverse effects when taken alongside other drugs. This can include a “masking effect” (for example, the stimulant may mask the signs of alcohol intoxication).\n",
    "\n",
    "So what should we do?\n",
    "Pharmaceutical stimulants are an important medicine to treat ADHD and narcolepsy, and when used as prescribed are relatively safe. However, there are additional risks when people use these substances without a prescription.\n",
    "\n",
    "Harm reduction campaigns highlighting these risks, including differences across formulations, may be useful. Continual monitoring, alongside more in-depth investigation of associated harms, is also crucial.\n",
    "\n",
    "You can access free and confidential advice about alcohol and other drugs by calling the National Alcohol and Other Drug Hotline on 1800 250 015.\n",
    "\n",
    "\"\"\"\n",
    "\n",
    "response = get_response(prompt)\n",
    "\n",
    "print(f\"length of prompt: {len(prompt)}\")\n",
    "print(f\"length of response: {len(response)}\")\n",
    "\n",
    "print(response)"
   ]
  },
  {
   "cell_type": "markdown",
   "metadata": {},
   "source": [
    "# Prompt Engineering\n",
    "Prompt engineering is a technique used to instruct LLM models to produce high quality results. \n"
   ]
  },
  {
   "cell_type": "markdown",
   "metadata": {},
   "source": [
    "## Few shot examples"
   ]
  },
  {
   "cell_type": "code",
   "execution_count": 11,
   "metadata": {},
   "outputs": [
    {
     "name": "stdout",
     "output_type": "stream",
     "text": [
      "7. A \"pun\"derful wordsmith!\n",
      "8. Why don’t scientists trust atoms? Because they make up everything!\n",
      "9. I told my computer I needed a break, and now it won't stop sending me \"bytes.\"\n",
      "10. What did one wall say to the other wall? I'll meet you at the corner!\n"
     ]
    }
   ],
   "source": [
    "# few shot examples\n",
    "\n",
    "\n",
    "prompt = \"\"\"write a list of puns.\n",
    "\n",
    "1. Why did Adele cross the road? To say hello from the other side.\n",
    "2. What kind of concert only costs 45 cents? A 50 Cent concert featuring\n",
    "Nickelback.\n",
    "3. What did the grape say when it got crushed? Nothing, it just let out a\n",
    "little wine.\n",
    "4. What was Forrest Gump's email password? 1forrest1\n",
    "5. Can February March? No, but April May.\n",
    "6. What do you call fancy language model\n",
    "\"\"\"\n",
    "\n",
    "\n",
    "\n",
    "\n",
    "print(get_response(prompt))"
   ]
  },
  {
   "cell_type": "markdown",
   "metadata": {},
   "source": [
    "## Few shot reasoning"
   ]
  },
  {
   "cell_type": "code",
   "execution_count": 12,
   "metadata": {},
   "outputs": [
    {
     "name": "stdout",
     "output_type": "stream",
     "text": [
      "The cafeteria has 9 apples now. (23 - 20 + 6 = 9)\n",
      "The cafeteria started with 23 apples. After using 20, they have 3 left. Then, they bought 6 more. \n",
      "\n",
      "So, 3 + 6 = 9 apples.\n",
      "\n",
      "The answer is 9.\n"
     ]
    }
   ],
   "source": [
    "# few shot reasoning\n",
    "\n",
    "print(get_response(\"\"\"\n",
    "Roger has 5 tennis balls. He buys 2 more cans of\n",
    "tennis balls. Each can has 3 tennis balls. How many\n",
    "tennis balls does he have now?\n",
    "Answer: The answer is 11.\n",
    "The cafeteria has 23 apples. If they used 20 to make\n",
    "lunch and bought 6 more, how many do they have?\n",
    "\"\"\"))\n",
    "\n",
    "\n",
    "\n",
    "print(get_response(\"\"\"\n",
    "Roger has 5 tennis balls. He buys 2 more cans of\n",
    "tennis balls. Each can has 3 tennis balls. How many\n",
    "tennis balls does he have now?\n",
    "Answer: Answer: Roger started with 5 balls. 2 cans of 3\n",
    "tennis balls each is 6 tennis balls. 5+6 = 11. The\n",
    "answer is 11.\n",
    "\n",
    "The cafeteria has 23 apples. If they used 20 to make\n",
    "lunch and bought 6 more, how many do they have?\n",
    "\"\"\"))"
   ]
  },
  {
   "cell_type": "markdown",
   "metadata": {},
   "source": [
    "## break the task down"
   ]
  },
  {
   "cell_type": "code",
   "execution_count": 13,
   "metadata": {},
   "outputs": [
    {
     "name": "stdout",
     "output_type": "stream",
     "text": [
      "**Factual Claims:**\n",
      "\n",
      "1. John Smith is married to Lucy Smith.\n",
      "2. They have five kids.\n",
      "3. John Smith works as a software engineer at Microsoft.\n",
      "\n",
      "**Search Queries:**\n",
      "\n",
      "SEARCH(\"John Smith married to Lucy Smith\")  \n",
      "SEARCH(\"John Smith and Lucy Smith children\")  \n",
      "SEARCH(\"John Smith software engineer Microsoft\")\n"
     ]
    }
   ],
   "source": [
    "# break the task down\n",
    "# LLMs often perform better if the task is broken down into smaller steps.\n",
    "\n",
    "prompt = \"\"\"\n",
    "You will read a paragraph, and then issue queries to a search engine in order\n",
    "to fact-check it.\n",
    "---\n",
    "PARAGRAPH\n",
    "John Smith is married to Lucy Smith. They have five kids, and he works as a\n",
    "software engineer at Microsoft. What search queries should I do to fact-check\n",
    "this?\n",
    "---\n",
    "Now you will extract factual claims first, and then issue queries to fact-check\n",
    "them. When issuing a query, use the function SEARCH(\"query\")\n",
    "\n",
    "\"\"\"\n",
    "\n",
    "print(get_response(prompt))"
   ]
  },
  {
   "cell_type": "markdown",
   "metadata": {},
   "source": [
    "## Meta prompts"
   ]
  },
  {
   "cell_type": "code",
   "execution_count": 14,
   "metadata": {},
   "outputs": [
    {
     "name": "stdout",
     "output_type": "stream",
     "text": [
      "No system prompt: \n"
     ]
    },
    {
     "data": {
      "text/markdown": [
       "Cosmos is a decentralized network of independent, parallel blockchains, each powered by the Tendermint consensus algorithm. It aims to facilitate interoperability between different blockchain systems, allowing them to communicate and share data. Cosmos provides the tools and framework for developers to build their own blockchains, enhancing scalability and usability within the cryptocurrency ecosystem."
      ],
      "text/plain": [
       "<IPython.core.display.Markdown object>"
      ]
     },
     "metadata": {},
     "output_type": "display_data"
    },
    {
     "name": "stdout",
     "output_type": "stream",
     "text": [
      "With a systen prompt: \n"
     ]
    },
    {
     "data": {
      "text/markdown": [
       "Microsoft Azure Cosmos DB is a globally distributed, multi-model database service designed for high availability and scalability. It supports various data models, including key-value, document, graph, and column-family, allowing developers to work with data in the way that best suits their applications. Cosmos DB offers seamless multi-region replication, low-latency access, and comprehensive service-level agreements (SLAs) for performance and availability. \n",
       "\n",
       "If you’d like to know more specifics, feel free to ask! 😊"
      ],
      "text/plain": [
       "<IPython.core.display.Markdown object>"
      ]
     },
     "metadata": {},
     "output_type": "display_data"
    }
   ],
   "source": [
    "# Meta prompts / System messages\n",
    "# Provide specific instructions, tone, guardrails, task definition and personality\n",
    "\n",
    "system_prompt = \"\"\"You are an AI assistant called Softy\n",
    "that helps people find information on Microsoft\n",
    "products and services. You will decline to discuss any\n",
    "topics other than Microsoft products and services.\n",
    "You will end each response with an emoji.\"\"\"\n",
    "\n",
    "\n",
    "prompt = \"What is Cosmos\"\n",
    "\n",
    "print(\"No system prompt: \")\n",
    "\n",
    "display(Markdown(get_response(prompt)))\n",
    "\n",
    "print(\"With a systen prompt: \")\n",
    "\n",
    "display(Markdown(get_response(prompt, system_prompt=system_prompt)))"
   ]
  },
  {
   "cell_type": "markdown",
   "metadata": {},
   "source": [
    "## Chain of Thought (CoT) prompting"
   ]
  },
  {
   "cell_type": "code",
   "execution_count": 16,
   "metadata": {},
   "outputs": [
    {
     "data": {
      "text/markdown": [
       "The most decorated individual athlete at the Sydney 2000 Olympics was Michael Phelps, who won six gold medals and two bronze medals in swimming. However, it's important to note that while Phelps is one of the most decorated athletes in Olympic history, he did not compete in the Sydney Olympics. The most decorated athlete at the Sydney Games was Ian Thorpe, who won three gold medals and two bronze medals in swimming."
      ],
      "text/plain": [
       "<IPython.core.display.Markdown object>"
      ]
     },
     "metadata": {},
     "output_type": "display_data"
    }
   ],
   "source": [
    "# chain of thought prompting\n",
    "# instruct model to proceed step-by-step and present all the steps invovled\n",
    "\n",
    "system_prompt = \"\"\"Take a step-by-step approach in your response, cite sources and give\n",
    "reasoning before sharing final answer\"\"\"\n",
    "\n",
    "prompt = \"\"\"Who was the most decorated (maximum medals) individual athlete in the\n",
    "Olympic games that were held at Sydney? \"\"\"\n",
    "\n",
    "display(Markdown(get_response(prompt)))"
   ]
  },
  {
   "cell_type": "code",
   "execution_count": 17,
   "metadata": {},
   "outputs": [
    {
     "data": {
      "text/markdown": [
       "The most decorated individual athlete at the Sydney 2000 Olympics was **Michael Phelps**, who won a total of **six medals**, including five golds and one bronze. However, it is essential to note that while Phelps is often recognized as one of the most decorated Olympians in history, he did not compete in the Sydney Olympics.\n",
       "\n",
       "Instead, the athlete with the most medals in Sydney was **Ian Thorpe**, the Australian swimmer. He won a total of **five medals**: three golds in the 400m freestyle, 4x100m freestyle relay, and 4x200m freestyle relay, along with two bronze medals in the 4x100m medley relay and the 200m freestyle.\n",
       "\n",
       "### Reasoning:\n",
       "1. **Medal Count**: Thorpe's five-medal achievement was the highest for individual competitors at the Sydney Games.\n",
       "  \n",
       "2. **Historical Context**: Michael Phelps gained fame later in the 2004 Athens Olympics, where he began his record-setting career.\n",
       "\n",
       "3. **Sources**: The Olympic records and official athlete statistics are used to track medal counts.\n",
       "\n",
       "### Conclusion:\n",
       "Therefore, the most decorated individual athlete at the Sydney 2000 Olympics was indeed **Ian Thorpe** with his impressive tally of five medals."
      ],
      "text/plain": [
       "<IPython.core.display.Markdown object>"
      ]
     },
     "metadata": {},
     "output_type": "display_data"
    }
   ],
   "source": [
    "display(Markdown(get_response(prompt, system_prompt=system_prompt)))"
   ]
  },
  {
   "cell_type": "code",
   "execution_count": null,
   "metadata": {},
   "outputs": [],
   "source": []
  }
 ],
 "metadata": {
  "kernelspec": {
   "display_name": "md_env",
   "language": "python",
   "name": "python3"
  },
  "language_info": {
   "codemirror_mode": {
    "name": "ipython",
    "version": 3
   },
   "file_extension": ".py",
   "mimetype": "text/x-python",
   "name": "python",
   "nbconvert_exporter": "python",
   "pygments_lexer": "ipython3",
   "version": "3.13.7"
  }
 },
 "nbformat": 4,
 "nbformat_minor": 2
}
