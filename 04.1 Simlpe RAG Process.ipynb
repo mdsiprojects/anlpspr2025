{
 "cells": [
  {
   "cell_type": "code",
   "execution_count": null,
   "metadata": {},
   "outputs": [
    {
     "data": {
      "text/plain": [
       "True"
      ]
     },
     "execution_count": 16,
     "metadata": {},
     "output_type": "execute_result"
    }
   ],
   "source": [
    "from openai import OpenAI\n",
    "from openai import embeddings\n",
    "from dotenv import load_dotenv\n",
    "\n",
    "from IPython.display import Markdown, display\n",
    "\n",
    "\n",
    "from azure.identity import DefaultAzureCredential\n",
    "from azure.core.credentials import AzureKeyCredential\n",
    "import os\n",
    "\n",
    "from azure.search.documents import SearchClient\n",
    "from azure.search.documents.models import VectorizableTextQuery, VectorQuery, VectorizedQuery, QueryType\n",
    "\n",
    "\n",
    "load_dotenv(override=True) # take environment variables from .env.\n",
    "\n",
    "endpoint = os.environ[\"AZURE_SEARCH_SERVICE_ENDPOINT\"]\n",
    "credential = AzureKeyCredential(os.environ[\"AZURE_SEARCH_ADMIN_KEY\"]) if len(os.environ[\"AZURE_SEARCH_ADMIN_KEY\"]) > 0 else DefaultAzureCredential()\n",
    "index_name = os.environ[\"AZURE_SEARCH_INDEX\"]\n",
    "\n",
    "# Set the API key and endpoint\n",
    "api_key = os.getenv('OPENAI_API_KEY')\n",
    "org = os.getenv('OPENAI_ORG')\n",
    "project = os.getenv('OPENAI_PROJECT')\n",
    "# model = \"gpt-5-mini-2025-08-07\"\n",
    "embedding_model = \"text-embedding-3-small\"\n",
    "model = \"gpt-5-mini\"\n"
   ]
  },
  {
   "cell_type": "code",
   "execution_count": 93,
   "metadata": {},
   "outputs": [],
   "source": [
    "# Set query parameters for grounding the conversation on your search index\n",
    "search_type=\"text\"\n",
    "use_semantic_reranker=True\n",
    "sources_to_include=5"
   ]
  },
  {
   "cell_type": "code",
   "execution_count": 94,
   "metadata": {},
   "outputs": [],
   "source": [
    "client = OpenAI(\n",
    "    api_key=api_key,\n",
    "    organization=org,\n",
    "    project=project\n",
    ")"
   ]
  },
  {
   "cell_type": "code",
   "execution_count": 95,
   "metadata": {},
   "outputs": [],
   "source": [
    "search_client = SearchClient(\n",
    "    endpoint,\n",
    "    index_name,\n",
    "    credential=credential)\n",
    "\n"
   ]
  },
  {
   "cell_type": "code",
   "execution_count": 96,
   "metadata": {},
   "outputs": [],
   "source": [
    "\n",
    "def generate_embeddings(text):\n",
    "    client = OpenAI(\n",
    "        api_key=api_key,\n",
    "        organization=org,\n",
    "        project=project\n",
    "    )\n",
    "\n",
    "    embedding = client.embeddings.create(\n",
    "        model=embedding_model,\n",
    "        input=text\n",
    "    )\n",
    "    embedding = embedding.data[0].embedding\n",
    "    return embedding"
   ]
  },
  {
   "cell_type": "code",
   "execution_count": 97,
   "metadata": {},
   "outputs": [],
   "source": [
    "# define a search function\n",
    "\n",
    "def search_function(query_text, top_k=5, vector_only=False):\n",
    "    vector = generate_embeddings(query_text)\n",
    "    vector_query = VectorizedQuery(\n",
    "        vector=vector,\n",
    "        k_nearest_neighbors=top_k,\n",
    "        fields=\"content_vector\",\n",
    "        exhaustive=True,\n",
    "    )\n",
    "\n",
    "    search_client = SearchClient(\n",
    "        endpoint,\n",
    "        index_name,\n",
    "        credential=credential)\n",
    "\n",
    "    search_text = None if vector_only else query_text\n",
    "    results = search_client.search(\n",
    "        search_text=search_text,\n",
    "        vector_queries=[vector_query],\n",
    "        select=[\"chunk_id\", \"file_name\", \"base_name\", \"content\", \"content_vector\"],\n",
    "        top=top_k,\n",
    "        include_total_count=True,\n",
    "        # query_type=QueryType.FULL,\n",
    "        semantic_configuration_name=\"my-semantic-config\",\n",
    "    )\n",
    "    return results"
   ]
  },
  {
   "cell_type": "code",
   "execution_count": 98,
   "metadata": {},
   "outputs": [],
   "source": [
    "def search_display_result(query_text, vector_only=False):\n",
    "    results  = search_function(query_text, vector_only=vector_only)\n",
    "    for i, result in enumerate(results):\n",
    "        display(Markdown(f\"### Result {i+1}\"))\n",
    "        display(Markdown(f\"**Chunk ID:** {result['chunk_id']}\"))\n",
    "        display(Markdown(f\"**Score:** {result['@search.score']}\"))\n",
    "        display(Markdown(f\"**Content:** {result['content']}\"))\n",
    "        display(Markdown(\"---\"))"
   ]
  },
  {
   "cell_type": "code",
   "execution_count": 99,
   "metadata": {},
   "outputs": [
    {
     "data": {
      "text/markdown": [
       "### Result 1"
      ],
      "text/plain": [
       "<IPython.core.display.Markdown object>"
      ]
     },
     "metadata": {},
     "output_type": "display_data"
    },
    {
     "data": {
      "text/markdown": [
       "**Chunk ID:** Northwind_Health_Plus_Benefits_Details_0000"
      ],
      "text/plain": [
       "<IPython.core.display.Markdown object>"
      ]
     },
     "metadata": {},
     "output_type": "display_data"
    },
    {
     "data": {
      "text/markdown": [
       "**Score:** 0.5680338"
      ],
      "text/plain": [
       "<IPython.core.display.Markdown object>"
      ]
     },
     "metadata": {},
     "output_type": "display_data"
    },
    {
     "data": {
      "text/markdown": [
       "**Content:** # Contoso Electronics  \n",
       "Northwind Health Plus Plan  \n",
       "<figure>  \n",
       "Contoso\n",
       "Electronics  \n",
       "</figure>  \n",
       "<!-- PageBreak -->  \n",
       "This document contains information generated using a language model (Azure OpenAI). The\n",
       "information contained in this document is only for demonstration purposes and does not\n",
       "reflect the opinions or beliefs of Microsoft. Microsoft makes no representations or\n",
       "warranties of any kind, express or implied, about the completeness, accuracy, reliability,\n",
       "suitability or availability with respect to the information contained in this document.  \n",
       "All rights reserved to Microsoft  \n",
       "<!-- PageBreak -->"
      ],
      "text/plain": [
       "<IPython.core.display.Markdown object>"
      ]
     },
     "metadata": {},
     "output_type": "display_data"
    },
    {
     "data": {
      "text/markdown": [
       "---"
      ],
      "text/plain": [
       "<IPython.core.display.Markdown object>"
      ]
     },
     "metadata": {},
     "output_type": "display_data"
    },
    {
     "data": {
      "text/markdown": [
       "### Result 2"
      ],
      "text/plain": [
       "<IPython.core.display.Markdown object>"
      ]
     },
     "metadata": {},
     "output_type": "display_data"
    },
    {
     "data": {
      "text/markdown": [
       "**Chunk ID:** Northwind_Standard_Benefits_Details_0000"
      ],
      "text/plain": [
       "<IPython.core.display.Markdown object>"
      ]
     },
     "metadata": {},
     "output_type": "display_data"
    },
    {
     "data": {
      "text/markdown": [
       "**Score:** 0.5650901"
      ],
      "text/plain": [
       "<IPython.core.display.Markdown object>"
      ]
     },
     "metadata": {},
     "output_type": "display_data"
    },
    {
     "data": {
      "text/markdown": [
       "**Content:** # Contoso Electronics  \n",
       "Northwind Health Standard Plan  \n",
       "<figure>  \n",
       "Contoso\n",
       "Electronics  \n",
       "</figure>  \n",
       "<!-- PageBreak -->  \n",
       "This document contains information generated using a language model (Azure OpenAI). The\n",
       "information contained in this document is only for demonstration purposes and does not\n",
       "reflect the opinions or beliefs of Microsoft. Microsoft makes no representations or\n",
       "warranties of any kind, express or implied, about the completeness, accuracy, reliability,\n",
       "suitability or availability with respect to the information contained in this document.  \n",
       "All rights reserved to Microsoft  \n",
       "<!-- PageBreak -->"
      ],
      "text/plain": [
       "<IPython.core.display.Markdown object>"
      ]
     },
     "metadata": {},
     "output_type": "display_data"
    },
    {
     "data": {
      "text/markdown": [
       "---"
      ],
      "text/plain": [
       "<IPython.core.display.Markdown object>"
      ]
     },
     "metadata": {},
     "output_type": "display_data"
    },
    {
     "data": {
      "text/markdown": [
       "### Result 3"
      ],
      "text/plain": [
       "<IPython.core.display.Markdown object>"
      ]
     },
     "metadata": {},
     "output_type": "display_data"
    },
    {
     "data": {
      "text/markdown": [
       "**Chunk ID:** employee_handbook_0000"
      ],
      "text/plain": [
       "<IPython.core.display.Markdown object>"
      ]
     },
     "metadata": {},
     "output_type": "display_data"
    },
    {
     "data": {
      "text/markdown": [
       "**Score:** 0.5584068"
      ],
      "text/plain": [
       "<IPython.core.display.Markdown object>"
      ]
     },
     "metadata": {},
     "output_type": "display_data"
    },
    {
     "data": {
      "text/markdown": [
       "**Content:** # Contoso Electronics Employee Handbook  \n",
       "<figure>  \n",
       "Contoso\n",
       "Electronics  \n",
       "</figure>  \n",
       "<!-- PageBreak -->  \n",
       "This document contains information generated using a language model (Azure OpenAI). The\n",
       "information contained in this document is only for demonstration purposes and does not\n",
       "reflect the opinions or beliefs of Microsoft. Microsoft makes no representations or\n",
       "warranties of any kind, express or implied, about the completeness, accuracy, reliability,\n",
       "suitability or availability with respect to the information contained in this document.  \n",
       "All rights reserved to Microsoft  \n",
       "<!-- PageBreak -->"
      ],
      "text/plain": [
       "<IPython.core.display.Markdown object>"
      ]
     },
     "metadata": {},
     "output_type": "display_data"
    },
    {
     "data": {
      "text/markdown": [
       "---"
      ],
      "text/plain": [
       "<IPython.core.display.Markdown object>"
      ]
     },
     "metadata": {},
     "output_type": "display_data"
    },
    {
     "data": {
      "text/markdown": [
       "### Result 4"
      ],
      "text/plain": [
       "<IPython.core.display.Markdown object>"
      ]
     },
     "metadata": {},
     "output_type": "display_data"
    },
    {
     "data": {
      "text/markdown": [
       "**Chunk ID:** Benefit_Options_0000"
      ],
      "text/plain": [
       "<IPython.core.display.Markdown object>"
      ]
     },
     "metadata": {},
     "output_type": "display_data"
    },
    {
     "data": {
      "text/markdown": [
       "**Score:** 0.55668515"
      ],
      "text/plain": [
       "<IPython.core.display.Markdown object>"
      ]
     },
     "metadata": {},
     "output_type": "display_data"
    },
    {
     "data": {
      "text/markdown": [
       "**Content:** # Contoso Electronics  \n",
       "Plan and Benefit Packages  \n",
       "<figure>  \n",
       "Contoso\n",
       "Electronics  \n",
       "</figure>  \n",
       "<!-- PageBreak -->  \n",
       "This document contains information generated using a language model (Azure OpenAI). The information\n",
       "contained in this document is only for demonstration purposes and does not reflect the opinions or\n",
       "beliefs of Microsoft. Microsoft makes no representations or warranties of any kind, express or implied,\n",
       "about the completeness, accuracy, reliability, suitability or availability with respect to the information\n",
       "contained in this document.  \n",
       "All rights reserved to Microsoft  \n",
       "<!-- PageBreak -->  \n",
       "Welcome to Contoso Electronics! We are excited to offer our employees two comprehensive health\n",
       "insurance plans through Northwind Health."
      ],
      "text/plain": [
       "<IPython.core.display.Markdown object>"
      ]
     },
     "metadata": {},
     "output_type": "display_data"
    },
    {
     "data": {
      "text/markdown": [
       "---"
      ],
      "text/plain": [
       "<IPython.core.display.Markdown object>"
      ]
     },
     "metadata": {},
     "output_type": "display_data"
    },
    {
     "data": {
      "text/markdown": [
       "### Result 5"
      ],
      "text/plain": [
       "<IPython.core.display.Markdown object>"
      ]
     },
     "metadata": {},
     "output_type": "display_data"
    },
    {
     "data": {
      "text/markdown": [
       "**Chunk ID:** PerksPlus_0000"
      ],
      "text/plain": [
       "<IPython.core.display.Markdown object>"
      ]
     },
     "metadata": {},
     "output_type": "display_data"
    },
    {
     "data": {
      "text/markdown": [
       "**Score:** 0.5494856"
      ],
      "text/plain": [
       "<IPython.core.display.Markdown object>"
      ]
     },
     "metadata": {},
     "output_type": "display_data"
    },
    {
     "data": {
      "text/markdown": [
       "**Content:** PerksPlus Health and Wellness\n",
       "Reimbursement Program for\n",
       "Contoso Electronics Employees  \n",
       "<figure>  \n",
       "Contoso\n",
       "Electronics  \n",
       "</figure>  \n",
       "<!-- PageBreak -->  \n",
       "This document contains information generated using a language model (Azure OpenAI). The information\n",
       "contained in this document is only for demonstration purposes and does not reflect the opinions or\n",
       "beliefs of Microsoft. Microsoft makes no representations or warranties of any kind, express or implied,\n",
       "about the completeness, accuracy, reliability, suitability or availability with respect to the information\n",
       "contained in this document.  \n",
       "All rights reserved to Microsoft  \n",
       "<!-- PageBreak -->"
      ],
      "text/plain": [
       "<IPython.core.display.Markdown object>"
      ]
     },
     "metadata": {},
     "output_type": "display_data"
    },
    {
     "data": {
      "text/markdown": [
       "---"
      ],
      "text/plain": [
       "<IPython.core.display.Markdown object>"
      ]
     },
     "metadata": {},
     "output_type": "display_data"
    }
   ],
   "source": [
    "search_display_result(\"embeddings in AI\", vector_only=True)"
   ]
  },
  {
   "cell_type": "code",
   "execution_count": 100,
   "metadata": {},
   "outputs": [],
   "source": [
    " # This prompt provides instructions to the model\n",
    " GROUNDED_PROMPT=\"\"\"\n",
    " # PURPOSE:\n",
    " You are a friendly assistant that answer questions from company's HR policy and information documents.\n",
    " Answer the query using only the sources provided below in a friendly and concise bulleted manner.\n",
    " Answer ONLY with the facts listed in the list of sources below.\n",
    " If there isn't enough information below, say you don't know.\n",
    " Do not generate answers that don't use the sources below.\n",
    "\n",
    " # CITATION:\n",
    " Always provide citations inline from sources provided, and also include a list of sources as a foot note in bullet points format. example list of sources:\n",
    " Only include sources that were used to generate the answer. example list of sources:\n",
    " ### Sources:\n",
    " - SOURCE NO 1. filename1.pdf(chunk id number))\n",
    " - SOURCE NO 2. filename2.pdf(3)\n",
    " - SOURCE NO 3. filename3.pdf(5)\n",
    " Sources:\\n{sources}\n",
    "\n",
    " Semantic Answer:\\n{semantic_response}\n",
    " \"\"\""
   ]
  },
  {
   "cell_type": "code",
   "execution_count": 115,
   "metadata": {},
   "outputs": [
    {
     "name": "stdout",
     "output_type": "stream",
     "text": [
      "What is the process for performance reviews?\n"
     ]
    }
   ],
   "source": [
    "\n",
    " # Query is the question being asked. It's sent to the search engine and the LLM.\n",
    "# user_query=\"what the role of a project manager?\"\n",
    "\n",
    "user_query = input(\"Enter your question: \") or \"am i covered for eye exams\"\n",
    "\n",
    "print(user_query)"
   ]
  },
  {
   "cell_type": "code",
   "execution_count": 116,
   "metadata": {},
   "outputs": [
    {
     "name": "stdout",
     "output_type": "stream",
     "text": [
      "\n",
      "You are asked to read the user query, understand it, and then turn it into a search query.\n",
      "The search query should be sent to the search engine to find the relevant information.\n",
      "the search query should be similar to what a user would type into a search engine, and similar in meaning to the provided user query.\n",
      "the user query is: 'What is the process for performance reviews?'\n",
      "return only the search query text. \n",
      "search query intent:  performance review process steps and best practices\n"
     ]
    }
   ],
   "source": [
    "#extract user search intent\n",
    "SEARCH_INTENT_PROMPT = \"\"\"\n",
    "You are asked to read the user query, understand it, and then turn it into a search query.\n",
    "The search query should be sent to the search engine to find the relevant information.\n",
    "the search query should be similar to what a user would type into a search engine, and similar in meaning to the provided user query.\n",
    "the user query is: '{user_query}'\n",
    "return only the search query text. \"\"\"\n",
    "\n",
    "print(SEARCH_INTENT_PROMPT.format(user_query=user_query))\n",
    "\n",
    "\n",
    "response = client.responses.create(\n",
    "    model=model,\n",
    "    input=[\n",
    "        {\"role\": \"system\", \"content\": SEARCH_INTENT_PROMPT.format(user_query=user_query)},\n",
    "    ]\n",
    ")\n",
    "\n",
    "search_query = response.output_text\n",
    "\n",
    "print(\"search query intent: \" , search_query)"
   ]
  },
  {
   "cell_type": "code",
   "execution_count": 117,
   "metadata": {},
   "outputs": [],
   "source": [
    " # Retrieve the selected fields from the search index related to the question.\n",
    "results = search_function(search_query)\n"
   ]
  },
  {
   "cell_type": "code",
   "execution_count": 118,
   "metadata": {},
   "outputs": [],
   "source": [
    "results.get_answers()"
   ]
  },
  {
   "cell_type": "code",
   "execution_count": 119,
   "metadata": {},
   "outputs": [],
   "source": [
    "\n",
    "\n",
    "semantic_answers = results.get_answers()\n",
    "semantic_response = \"\"\n",
    "if semantic_answers:\n",
    "    for answer in semantic_answers:\n",
    "        if answer.highlights:\n",
    "            semantic_response = answer.highlights\n",
    "            # print(f\"Semantic Answer: {answer.highlights}\")\n",
    "        else:\n",
    "            semantic_response = answer.text\n",
    "            # print(f\"Semantic Answer: {answer.text}\")\n",
    "        print(f\"Semantic Answer: {semantic_response}\")\n",
    "        print(f\"Semantic Answer Score: {answer.score}\\n\")"
   ]
  },
  {
   "cell_type": "code",
   "execution_count": 120,
   "metadata": {},
   "outputs": [],
   "source": [
    "list_of_sources = [f'\\nSOURCE NO {index + 1}. {result[\"base_name\"]}({result[\"chunk_id\"]}): {result[\"content\"]} )' for index, result in enumerate(results)]"
   ]
  },
  {
   "cell_type": "code",
   "execution_count": 121,
   "metadata": {},
   "outputs": [
    {
     "name": "stdout",
     "output_type": "stream",
     "text": [
      "[\"\\nSOURCE NO 1. employee_handbook.md(employee_handbook_0004): ## Performance Reviews  \\n### Performance Reviews at Contoso Electronics  \\nAt Contoso Electronics, we strive to ensure our employees are getting the feedback they\\nneed to continue growing and developing in their roles. We understand that performance\\nreviews are a key part of this process and it is important to us that they are conducted in an\\neffective and efficient manner.  \\nPerformance reviews are conducted annually and are an important part of your career\\ndevelopment. During the review, your supervisor will discuss your performance over the\\npast year and provide feedback on areas for improvement. They will also provide you with\\nan opportunity to discuss your goals and objectives for the upcoming year.  \\nPerformance reviews are a two-way dialogue between managers and employees. We\\nencourage all employees to be honest and open during the review process, as it is an\\nimportant opportunity to discuss successes and challenges in the workplace.  \\nWe aim to provide positive and constructive feedback during performance reviews. This\\nfeedback should be used as an opportunity to help employees develop and grow in their\\nroles.  \\nEmployees will receive a written summary of their performance review which will be\\ndiscussed during the review session. This written summary will include a rating of the\\nemployee's performance, feedback, and goals and objectives for the upcoming year.  \\nWe understand that performance reviews can be a stressful process. We are committed to\\nmaking sure that all employees feel supported and empowered during the process. We\\nencourage all employees to reach out to their managers with any questions or concerns\\nthey may have.  \\nWe look forward to conducting performance reviews with all our employees. They are an\\nimportant part of our commitment to helping our employees grow and develop in their\\nroles.  \\n<!-- PageBreak --> )\", \"\\nSOURCE NO 2. Northwind_Standard_Benefits_Details.md(Northwind_Standard_Benefits_Details_0105): At the third and final level of review, the case is evaluated by a Medical Review Officer, who\\nis an MD or DO. The Medical Review Officer reviews the case and makes a final\\ndetermination as to whether the proposed course of treatment is medically necessary or\\nnot. If the Medical Review Officer approves the case, then the member can proceed with the\\ntreatment. If the Medical Review Officer does not approve the case, then the member is not\\neligible to receive the treatment.  \\nThe Northwind Standard plan also offers several exceptions to the clinical review process.\\nFor example, certain types of medical services are exempt from clinical review and can be\\napproved without going through the process. Additionally, certain time-sensitive services\\nmay be approved without going through the clinical review process if the member's health\\nis in immediate danger.  \\nIt is important for members to understand the clinical review process and the exceptions\\nthat are available. Members should be aware that some medical services may require pre-\\nauthorization before they can be approved, and that the clinical review process may take\\nsome time. Additionally, members should keep in mind that the clinical review process is\\ndesigned to ensure that medically necessary treatments are provided in a timely and cost-\\neffective manner.  \\nTo help ensure that the clinical review process runs smoothly and quickly, members should\\nprovide accurate and detailed information about their medical needs when requesting\\ntreatment. This includes a complete list of their current medications, as well as all relevant\\nmedical history. Additionally, members should provide any necessary documentation that\\nmay be required, such as test results or lab reports. Finally, members should make sure that\\nthey understand the process and any exceptions that may apply.  \\nOverall, the clinical review process is an important component of the Northwind Standard )\", '\\nSOURCE NO 3. Northwind_Standard_Benefits_Details.md(Northwind_Standard_Benefits_Details_0106): Overall, the clinical review process is an important component of the Northwind Standard\\nplan, and it helps to ensure that members receive high-quality, cost-effective care. The\\nprocess is designed to be straightforward and efficient, and the exceptions that are available\\ncan help to ensure that members receive the care they need in a timely manner. By  \\n<!-- PageBreak -->  \\nunderstanding the clinical review process and the exceptions that are available, members\\ncan help to ensure that they receive the care they need in a timely and cost-effective\\nmanner. )', \"\\nSOURCE NO 4. Northwind_Standard_Benefits_Details.md(Northwind_Standard_Benefits_Details_0104): help you understand the process of prior authorization.  \\nClinical Review\\nCARE MANAGEMENT: Clinical Review  \\nThe Northwind Standard plan offers a variety of care management services to help ensure\\nthat members receive quality, cost-effective care. These services include clinical review,\\nwhich is a process that evaluates the medical necessity and appropriateness of a proposed\\ncourse of treatment, as well as any adjustment or changes to existing treatments.  \\nClinical review is conducted by Northwind Health's Medical Management Department,\\nwhich is staffed by licensed clinicians who are experienced in the various medical\\nconditions and treatments that are covered by the Northwind Standard plan. These\\nclinicians use evidence-based guidelines and other important criteria to evaluate the\\nproposed course of treatment and make sure that it is medically necessary and appropriate.  \\n<!-- PageBreak -->  \\nNorthwind Health utilizes a three-level clinical review process. The first level of review\\ninvolves a Registered Nurse (RN) or Medical Doctor (MD) evaluating the proposed course of\\ntreatment. If the RN or MD determines that the proposed course of treatment is medically\\nnecessary, then the case is approved and the member can proceed with the treatment. If the\\nRN or MD determines that the proposed course of treatment is not medically necessary,\\nthen the case is referred to the next level of review.  \\nAt the second level of review, the case is evaluated by a Medical Director, who is an MD or\\nDoctor of Osteopathic Medicine (DO). The Medical Director reviews the case and makes a\\nfinal determination as to whether the proposed course of treatment is medically necessary\\nor not. If the Medical Director approves the case, then the member can proceed with the\\ntreatment. If the Medical Director does not approve the case, then the case is referred to the\\nthird level of review.  \\nAt the third and final level of review, the case is evaluated by a Medical Review Officer, who )\", \"\\nSOURCE NO 5. Northwind_Standard_Benefits_Details.md(Northwind_Standard_Benefits_Details_0126): . Keep a copy of your appeal for your records.  \\n. Don't hesitate to contact your plan if you need assistance with the appeal process.  \\n· Follow up with your plan if you don't receive a response to your appeal within a\\nreasonable amount of time.  \\n. Consider hiring a lawyer if you need help with your appeal.  \\nOnce The IRO Decides\\nOnce The IRO Decides  \\n<!-- PageBreak -->  \\nThe Independent Review Organization (IRO) is a third-party organization that reviews\\nappeals and complaints about healthcare services that have been denied coverage under the\\nNorthwind Standard plan. If an employee is not satisfied with the decision made by\\nNorthwind Health, they can submit a written complaint or request an appeal by filing a\\nformal grievance.  \\nWhat Happens After The IRO Decides?  \\nOnce the IRO has completed its review, it will issue a formal decision either upholding the\\noriginal decision or reversing it. The decision made by the IRO is considered final and\\nbinding.  \\n#### Exceptions  \\nThere are some exceptions to the IRO decision that could be applicable to your case. If the\\nIRO determines that the decision was the result of a misapplication of plan provisions or\\nincorrect information, the decision can be reversed. Additionally, if the IRO finds that the\\ndecision was not made in accordance with the terms of the plan, the decision can be\\nreversed.  \\n#### Tips For Employees  \\nIf you are not satisfied with the decision made by Northwind Health, there are some tips\\nthat can help you in the appeals process.  \\n· Familiarize yourself with the Northwind Standard plan provisions and the process for\\nfiling an appeal.  \\n· Gather all relevant information, including medical records, reports, and documents related\\nto the decision that you are appealing.  \\n· Ensure that all relevant information is included in the appeal.  \\n· Submit the appeal within the timeframe specified in the plan.  \\n. Keep a copy of your appeal and all supporting documentation. )\"]\n"
     ]
    }
   ],
   "source": [
    "print(list_of_sources)"
   ]
  },
  {
   "cell_type": "code",
   "execution_count": 122,
   "metadata": {},
   "outputs": [],
   "source": [
    "joined_sources = \"\\n\".join(list_of_sources)"
   ]
  },
  {
   "cell_type": "code",
   "execution_count": 123,
   "metadata": {},
   "outputs": [
    {
     "name": "stdout",
     "output_type": "stream",
     "text": [
      "\n",
      "SOURCE NO 1. employee_handbook.md(employee_handbook_0004): ## Performance Reviews  \n",
      "### Performance Reviews at Contoso Electronics  \n",
      "At Contoso Electronics, we strive to ensure our employees are getting the feedback they\n",
      "need to continue growing and developing in their roles. We understand that performance\n",
      "reviews are a key part of this process and it is important to us that they are conducted in an\n",
      "effective and efficient manner.  \n",
      "Performance reviews are conducted annually and are an important part of your career\n",
      "development. During the review, your supervisor will discuss your performance over the\n",
      "past year and provide feedback on areas for improvement. They will also provide you with\n",
      "an opportunity to discuss your goals and objectives for the upcoming year.  \n",
      "Performance reviews are a two-way dialogue between managers and employees. We\n",
      "encourage all employees to be honest and open during the review process, as it is an\n",
      "important opportunity to discuss successes and challenges in the workplace.  \n",
      "We aim to provide positive and constructive feedback during performance reviews. This\n",
      "feedback should be used as an opportunity to help employees develop and grow in their\n",
      "roles.  \n",
      "Employees will receive a written summary of their performance review which will be\n",
      "discussed during the review session. This written summary will include a rating of the\n",
      "employee's performance, feedback, and goals and objectives for the upcoming year.  \n",
      "We understand that performance reviews can be a stressful process. We are committed to\n",
      "making sure that all employees feel supported and empowered during the process. We\n",
      "encourage all employees to reach out to their managers with any questions or concerns\n",
      "they may have.  \n",
      "We look forward to conducting performance reviews with all our employees. They are an\n",
      "important part of our commitment to helping our employees grow and develop in their\n",
      "roles.  \n",
      "<!-- PageBreak --> )\n",
      "\n",
      "SOURCE NO 2. Northwind_Standard_Benefits_Details.md(Northwind_Standard_Benefits_Details_0105): At the third and final level of review, the case is evaluated by a Medical Review Officer, who\n",
      "is an MD or DO. The Medical Review Officer reviews the case and makes a final\n",
      "determination as to whether the proposed course of treatment is medically necessary or\n",
      "not. If the Medical Review Officer approves the case, then the member can proceed with the\n",
      "treatment. If the Medical Review Officer does not approve the case, then the member is not\n",
      "eligible to receive the treatment.  \n",
      "The Northwind Standard plan also offers several exceptions to the clinical review process.\n",
      "For example, certain types of medical services are exempt from clinical review and can be\n",
      "approved without going through the process. Additionally, certain time-sensitive services\n",
      "may be approved without going through the clinical review process if the member's health\n",
      "is in immediate danger.  \n",
      "It is important for members to understand the clinical review process and the exceptions\n",
      "that are available. Members should be aware that some medical services may require pre-\n",
      "authorization before they can be approved, and that the clinical review process may take\n",
      "some time. Additionally, members should keep in mind that the clinical review process is\n",
      "designed to ensure that medically necessary treatments are provided in a timely and cost-\n",
      "effective manner.  \n",
      "To help ensure that the clinical review process runs smoothly and quickly, members should\n",
      "provide accurate and detailed information about their medical needs when requesting\n",
      "treatment. This includes a complete list of their current medications, as well as all relevant\n",
      "medical history. Additionally, members should provide any necessary documentation that\n",
      "may be required, such as test results or lab reports. Finally, members should make sure that\n",
      "they understand the process and any exceptions that may apply.  \n",
      "Overall, the clinical review process is an important component of the Northwind Standard )\n",
      "\n",
      "SOURCE NO 3. Northwind_Standard_Benefits_Details.md(Northwind_Standard_Benefits_Details_0106): Overall, the clinical review process is an important component of the Northwind Standard\n",
      "plan, and it helps to ensure that members receive high-quality, cost-effective care. The\n",
      "process is designed to be straightforward and efficient, and the exceptions that are available\n",
      "can help to ensure that members receive the care they need in a timely manner. By  \n",
      "<!-- PageBreak -->  \n",
      "understanding the clinical review process and the exceptions that are available, members\n",
      "can help to ensure that they receive the care they need in a timely and cost-effective\n",
      "manner. )\n",
      "\n",
      "SOURCE NO 4. Northwind_Standard_Benefits_Details.md(Northwind_Standard_Benefits_Details_0104): help you understand the process of prior authorization.  \n",
      "Clinical Review\n",
      "CARE MANAGEMENT: Clinical Review  \n",
      "The Northwind Standard plan offers a variety of care management services to help ensure\n",
      "that members receive quality, cost-effective care. These services include clinical review,\n",
      "which is a process that evaluates the medical necessity and appropriateness of a proposed\n",
      "course of treatment, as well as any adjustment or changes to existing treatments.  \n",
      "Clinical review is conducted by Northwind Health's Medical Management Department,\n",
      "which is staffed by licensed clinicians who are experienced in the various medical\n",
      "conditions and treatments that are covered by the Northwind Standard plan. These\n",
      "clinicians use evidence-based guidelines and other important criteria to evaluate the\n",
      "proposed course of treatment and make sure that it is medically necessary and appropriate.  \n",
      "<!-- PageBreak -->  \n",
      "Northwind Health utilizes a three-level clinical review process. The first level of review\n",
      "involves a Registered Nurse (RN) or Medical Doctor (MD) evaluating the proposed course of\n",
      "treatment. If the RN or MD determines that the proposed course of treatment is medically\n",
      "necessary, then the case is approved and the member can proceed with the treatment. If the\n",
      "RN or MD determines that the proposed course of treatment is not medically necessary,\n",
      "then the case is referred to the next level of review.  \n",
      "At the second level of review, the case is evaluated by a Medical Director, who is an MD or\n",
      "Doctor of Osteopathic Medicine (DO). The Medical Director reviews the case and makes a\n",
      "final determination as to whether the proposed course of treatment is medically necessary\n",
      "or not. If the Medical Director approves the case, then the member can proceed with the\n",
      "treatment. If the Medical Director does not approve the case, then the case is referred to the\n",
      "third level of review.  \n",
      "At the third and final level of review, the case is evaluated by a Medical Review Officer, who )\n",
      "\n",
      "SOURCE NO 5. Northwind_Standard_Benefits_Details.md(Northwind_Standard_Benefits_Details_0126): . Keep a copy of your appeal for your records.  \n",
      ". Don't hesitate to contact your plan if you need assistance with the appeal process.  \n",
      "· Follow up with your plan if you don't receive a response to your appeal within a\n",
      "reasonable amount of time.  \n",
      ". Consider hiring a lawyer if you need help with your appeal.  \n",
      "Once The IRO Decides\n",
      "Once The IRO Decides  \n",
      "<!-- PageBreak -->  \n",
      "The Independent Review Organization (IRO) is a third-party organization that reviews\n",
      "appeals and complaints about healthcare services that have been denied coverage under the\n",
      "Northwind Standard plan. If an employee is not satisfied with the decision made by\n",
      "Northwind Health, they can submit a written complaint or request an appeal by filing a\n",
      "formal grievance.  \n",
      "What Happens After The IRO Decides?  \n",
      "Once the IRO has completed its review, it will issue a formal decision either upholding the\n",
      "original decision or reversing it. The decision made by the IRO is considered final and\n",
      "binding.  \n",
      "#### Exceptions  \n",
      "There are some exceptions to the IRO decision that could be applicable to your case. If the\n",
      "IRO determines that the decision was the result of a misapplication of plan provisions or\n",
      "incorrect information, the decision can be reversed. Additionally, if the IRO finds that the\n",
      "decision was not made in accordance with the terms of the plan, the decision can be\n",
      "reversed.  \n",
      "#### Tips For Employees  \n",
      "If you are not satisfied with the decision made by Northwind Health, there are some tips\n",
      "that can help you in the appeals process.  \n",
      "· Familiarize yourself with the Northwind Standard plan provisions and the process for\n",
      "filing an appeal.  \n",
      "· Gather all relevant information, including medical records, reports, and documents related\n",
      "to the decision that you are appealing.  \n",
      "· Ensure that all relevant information is included in the appeal.  \n",
      "· Submit the appeal within the timeframe specified in the plan.  \n",
      ". Keep a copy of your appeal and all supporting documentation. )\n"
     ]
    }
   ],
   "source": [
    "print(joined_sources)"
   ]
  },
  {
   "cell_type": "code",
   "execution_count": 124,
   "metadata": {},
   "outputs": [
    {
     "name": "stdout",
     "output_type": "stream",
     "text": [
      "\n",
      "# PURPOSE:\n",
      "You are a friendly assistant that answer questions from company's HR policy and information documents.\n",
      "Answer the query using only the sources provided below in a friendly and concise bulleted manner.\n",
      "Answer ONLY with the facts listed in the list of sources below.\n",
      "If there isn't enough information below, say you don't know.\n",
      "Do not generate answers that don't use the sources below.\n",
      "\n",
      "# CITATION:\n",
      "Always provide citations inline from sources provided, and also include a list of sources as a foot note in bullet points format. example list of sources:\n",
      "Only include sources that were used to generate the answer. example list of sources:\n",
      "### Sources:\n",
      "- SOURCE NO 1. filename1.pdf(chunk id number))\n",
      "- SOURCE NO 2. filename2.pdf(3)\n",
      "- SOURCE NO 3. filename3.pdf(5)\n",
      "Sources:\n",
      "\n",
      "SOURCE NO 1. employee_handbook.md(employee_handbook_0004): ## Performance Reviews  \n",
      "### Performance Reviews at Contoso Electronics  \n",
      "At Contoso Electronics, we strive to ensure our employees are getting the feedback they\n",
      "need to continue growing and developing in their roles. We understand that performance\n",
      "reviews are a key part of this process and it is important to us that they are conducted in an\n",
      "effective and efficient manner.  \n",
      "Performance reviews are conducted annually and are an important part of your career\n",
      "development. During the review, your supervisor will discuss your performance over the\n",
      "past year and provide feedback on areas for improvement. They will also provide you with\n",
      "an opportunity to discuss your goals and objectives for the upcoming year.  \n",
      "Performance reviews are a two-way dialogue between managers and employees. We\n",
      "encourage all employees to be honest and open during the review process, as it is an\n",
      "important opportunity to discuss successes and challenges in the workplace.  \n",
      "We aim to provide positive and constructive feedback during performance reviews. This\n",
      "feedback should be used as an opportunity to help employees develop and grow in their\n",
      "roles.  \n",
      "Employees will receive a written summary of their performance review which will be\n",
      "discussed during the review session. This written summary will include a rating of the\n",
      "employee's performance, feedback, and goals and objectives for the upcoming year.  \n",
      "We understand that performance reviews can be a stressful process. We are committed to\n",
      "making sure that all employees feel supported and empowered during the process. We\n",
      "encourage all employees to reach out to their managers with any questions or concerns\n",
      "they may have.  \n",
      "We look forward to conducting performance reviews with all our employees. They are an\n",
      "important part of our commitment to helping our employees grow and develop in their\n",
      "roles.  \n",
      "<!-- PageBreak --> )\n",
      "\n",
      "SOURCE NO 2. Northwind_Standard_Benefits_Details.md(Northwind_Standard_Benefits_Details_0105): At the third and final level of review, the case is evaluated by a Medical Review Officer, who\n",
      "is an MD or DO. The Medical Review Officer reviews the case and makes a final\n",
      "determination as to whether the proposed course of treatment is medically necessary or\n",
      "not. If the Medical Review Officer approves the case, then the member can proceed with the\n",
      "treatment. If the Medical Review Officer does not approve the case, then the member is not\n",
      "eligible to receive the treatment.  \n",
      "The Northwind Standard plan also offers several exceptions to the clinical review process.\n",
      "For example, certain types of medical services are exempt from clinical review and can be\n",
      "approved without going through the process. Additionally, certain time-sensitive services\n",
      "may be approved without going through the clinical review process if the member's health\n",
      "is in immediate danger.  \n",
      "It is important for members to understand the clinical review process and the exceptions\n",
      "that are available. Members should be aware that some medical services may require pre-\n",
      "authorization before they can be approved, and that the clinical review process may take\n",
      "some time. Additionally, members should keep in mind that the clinical review process is\n",
      "designed to ensure that medically necessary treatments are provided in a timely and cost-\n",
      "effective manner.  \n",
      "To help ensure that the clinical review process runs smoothly and quickly, members should\n",
      "provide accurate and detailed information about their medical needs when requesting\n",
      "treatment. This includes a complete list of their current medications, as well as all relevant\n",
      "medical history. Additionally, members should provide any necessary documentation that\n",
      "may be required, such as test results or lab reports. Finally, members should make sure that\n",
      "they understand the process and any exceptions that may apply.  \n",
      "Overall, the clinical review process is an important component of the Northwind Standard )\n",
      "\n",
      "SOURCE NO 3. Northwind_Standard_Benefits_Details.md(Northwind_Standard_Benefits_Details_0106): Overall, the clinical review process is an important component of the Northwind Standard\n",
      "plan, and it helps to ensure that members receive high-quality, cost-effective care. The\n",
      "process is designed to be straightforward and efficient, and the exceptions that are available\n",
      "can help to ensure that members receive the care they need in a timely manner. By  \n",
      "<!-- PageBreak -->  \n",
      "understanding the clinical review process and the exceptions that are available, members\n",
      "can help to ensure that they receive the care they need in a timely and cost-effective\n",
      "manner. )\n",
      "\n",
      "SOURCE NO 4. Northwind_Standard_Benefits_Details.md(Northwind_Standard_Benefits_Details_0104): help you understand the process of prior authorization.  \n",
      "Clinical Review\n",
      "CARE MANAGEMENT: Clinical Review  \n",
      "The Northwind Standard plan offers a variety of care management services to help ensure\n",
      "that members receive quality, cost-effective care. These services include clinical review,\n",
      "which is a process that evaluates the medical necessity and appropriateness of a proposed\n",
      "course of treatment, as well as any adjustment or changes to existing treatments.  \n",
      "Clinical review is conducted by Northwind Health's Medical Management Department,\n",
      "which is staffed by licensed clinicians who are experienced in the various medical\n",
      "conditions and treatments that are covered by the Northwind Standard plan. These\n",
      "clinicians use evidence-based guidelines and other important criteria to evaluate the\n",
      "proposed course of treatment and make sure that it is medically necessary and appropriate.  \n",
      "<!-- PageBreak -->  \n",
      "Northwind Health utilizes a three-level clinical review process. The first level of review\n",
      "involves a Registered Nurse (RN) or Medical Doctor (MD) evaluating the proposed course of\n",
      "treatment. If the RN or MD determines that the proposed course of treatment is medically\n",
      "necessary, then the case is approved and the member can proceed with the treatment. If the\n",
      "RN or MD determines that the proposed course of treatment is not medically necessary,\n",
      "then the case is referred to the next level of review.  \n",
      "At the second level of review, the case is evaluated by a Medical Director, who is an MD or\n",
      "Doctor of Osteopathic Medicine (DO). The Medical Director reviews the case and makes a\n",
      "final determination as to whether the proposed course of treatment is medically necessary\n",
      "or not. If the Medical Director approves the case, then the member can proceed with the\n",
      "treatment. If the Medical Director does not approve the case, then the case is referred to the\n",
      "third level of review.  \n",
      "At the third and final level of review, the case is evaluated by a Medical Review Officer, who )\n",
      "\n",
      "SOURCE NO 5. Northwind_Standard_Benefits_Details.md(Northwind_Standard_Benefits_Details_0126): . Keep a copy of your appeal for your records.  \n",
      ". Don't hesitate to contact your plan if you need assistance with the appeal process.  \n",
      "· Follow up with your plan if you don't receive a response to your appeal within a\n",
      "reasonable amount of time.  \n",
      ". Consider hiring a lawyer if you need help with your appeal.  \n",
      "Once The IRO Decides\n",
      "Once The IRO Decides  \n",
      "<!-- PageBreak -->  \n",
      "The Independent Review Organization (IRO) is a third-party organization that reviews\n",
      "appeals and complaints about healthcare services that have been denied coverage under the\n",
      "Northwind Standard plan. If an employee is not satisfied with the decision made by\n",
      "Northwind Health, they can submit a written complaint or request an appeal by filing a\n",
      "formal grievance.  \n",
      "What Happens After The IRO Decides?  \n",
      "Once the IRO has completed its review, it will issue a formal decision either upholding the\n",
      "original decision or reversing it. The decision made by the IRO is considered final and\n",
      "binding.  \n",
      "#### Exceptions  \n",
      "There are some exceptions to the IRO decision that could be applicable to your case. If the\n",
      "IRO determines that the decision was the result of a misapplication of plan provisions or\n",
      "incorrect information, the decision can be reversed. Additionally, if the IRO finds that the\n",
      "decision was not made in accordance with the terms of the plan, the decision can be\n",
      "reversed.  \n",
      "#### Tips For Employees  \n",
      "If you are not satisfied with the decision made by Northwind Health, there are some tips\n",
      "that can help you in the appeals process.  \n",
      "· Familiarize yourself with the Northwind Standard plan provisions and the process for\n",
      "filing an appeal.  \n",
      "· Gather all relevant information, including medical records, reports, and documents related\n",
      "to the decision that you are appealing.  \n",
      "· Ensure that all relevant information is included in the appeal.  \n",
      "· Submit the appeal within the timeframe specified in the plan.  \n",
      ". Keep a copy of your appeal and all supporting documentation. )\n",
      "\n",
      "Semantic Answer:\n",
      "\n",
      "\n"
     ]
    }
   ],
   "source": [
    "GROUNDED_PROMPT.format(sources=joined_sources, semantic_response=semantic_response)\n",
    "print(GROUNDED_PROMPT.format(sources=joined_sources, semantic_response=semantic_response))"
   ]
  },
  {
   "cell_type": "code",
   "execution_count": 125,
   "metadata": {},
   "outputs": [],
   "source": [
    "response = client.responses.create(\n",
    "    model=model,\n",
    "    input=[\n",
    "        {\"role\": \"system\", \"content\": GROUNDED_PROMPT.format(sources=joined_sources, semantic_response=semantic_response)},\n",
    "        {\"role\": \"user\", \"content\": user_query}\n",
    "    ]\n",
    ")"
   ]
  },
  {
   "cell_type": "code",
   "execution_count": 126,
   "metadata": {},
   "outputs": [
    {
     "name": "stdout",
     "output_type": "stream",
     "text": [
      "What is the process for performance reviews?\n",
      "performance review process steps and best practices\n"
     ]
    }
   ],
   "source": [
    "print(user_query)\n",
    "print(search_query)"
   ]
  },
  {
   "cell_type": "code",
   "execution_count": 127,
   "metadata": {},
   "outputs": [
    {
     "data": {
      "text/markdown": [
       "- Performance reviews are conducted annually and are part of career development at Contoso Electronics. (SOURCE NO 1. employee_handbook.md(employee_handbook_0004))  \n",
       "- During the review, your supervisor discusses your performance over the past year and provides feedback on areas for improvement. (SOURCE NO 1. employee_handbook.md(employee_handbook_0004))  \n",
       "- Reviews provide an opportunity to discuss goals and objectives for the upcoming year. (SOURCE NO 1. employee_handbook.md(employee_handbook_0004))  \n",
       "- Reviews are a two-way dialogue; employees are encouraged to be honest and open about successes and challenges. (SOURCE NO 1. employee_handbook.md(employee_handbook_0004))  \n",
       "- The company aims to provide positive, constructive feedback to help employees develop and grow. (SOURCE NO 1. employee_handbook.md(employee_handbook_0004))  \n",
       "- Employees receive a written summary of the performance review (including a performance rating, feedback, and goals/objectives), and this summary is discussed during the review session. (SOURCE NO 1. employee_handbook.md(employee_handbook_0004))  \n",
       "- Employees are encouraged to reach out to their managers with any questions or concerns and are supported throughout the process. (SOURCE NO 1. employee_handbook.md(employee_handbook_0004))\n",
       "\n",
       "### Sources:\n",
       "- SOURCE NO 1. employee_handbook.md(employee_handbook_0004))"
      ],
      "text/plain": [
       "<IPython.core.display.Markdown object>"
      ]
     },
     "metadata": {},
     "output_type": "display_data"
    }
   ],
   "source": [
    "\n",
    "\n",
    "display(Markdown(response.output_text))\n"
   ]
  }
 ],
 "metadata": {
  "kernelspec": {
   "display_name": "md_env",
   "language": "python",
   "name": "python3"
  },
  "language_info": {
   "codemirror_mode": {
    "name": "ipython",
    "version": 3
   },
   "file_extension": ".py",
   "mimetype": "text/x-python",
   "name": "python",
   "nbconvert_exporter": "python",
   "pygments_lexer": "ipython3",
   "version": "3.13.7"
  }
 },
 "nbformat": 4,
 "nbformat_minor": 2
}
