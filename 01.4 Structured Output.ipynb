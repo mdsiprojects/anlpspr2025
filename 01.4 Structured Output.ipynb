{
 "cells": [
  {
   "cell_type": "markdown",
   "metadata": {},
   "source": [
    "# Setup"
   ]
  },
  {
   "cell_type": "code",
   "execution_count": 1,
   "metadata": {},
   "outputs": [
    {
     "name": "stdout",
     "output_type": "stream",
     "text": [
      "sk-proj-eUanLfMUnbXn ...\n",
      "org-8d28 ...\n",
      "proj_30j ...\n"
     ]
    }
   ],
   "source": [
    "from openai import OpenAI\n",
    "from openai import embeddings\n",
    "from dotenv import load_dotenv\n",
    "import os\n",
    "import json\n",
    "\n",
    "load_dotenv(dotenv_path=\".openaidev.env\")\n",
    "print(os.getenv(\"OPENAI_API_KEY\")[:20], \"...\")\n",
    "print(os.getenv(\"OPENAI_ORG\")[:8], \"...\")\n",
    "print(os.getenv(\"OPENAI_PROJECT\")[:8], \"...\")\n",
    "# Set the API key and endpoint\n",
    "api_key = os.getenv('OPENAI_API_KEY')\n",
    "org = os.getenv('OPENAI_ORG')\n",
    "project = os.getenv('OPENAI_PROJECT')\n",
    "model = \"gpt-4.1-mini\""
   ]
  },
  {
   "cell_type": "code",
   "execution_count": 2,
   "metadata": {},
   "outputs": [],
   "source": [
    "client = OpenAI(\n",
    "    api_key=api_key,\n",
    "    organization=org,\n",
    "    project=project\n",
    ")"
   ]
  },
  {
   "cell_type": "markdown",
   "metadata": {},
   "source": [
    "## Responses API "
   ]
  },
  {
   "cell_type": "code",
   "execution_count": 37,
   "metadata": {},
   "outputs": [
    {
     "name": "stdout",
     "output_type": "stream",
     "text": [
      "Hello! How can I assist you today?\n"
     ]
    }
   ],
   "source": [
    "response = client.responses.create(\n",
    "    model=model,\n",
    "    input=\"Hello, world!\"\n",
    ")\n",
    "\n",
    "print(response.output_text)"
   ]
  },
  {
   "cell_type": "code",
   "execution_count": 39,
   "metadata": {},
   "outputs": [
    {
     "name": "stdout",
     "output_type": "stream",
     "text": [
      "Hello! How can I assist you today?\n"
     ]
    }
   ],
   "source": [
    "response = client.chat.completions.create(\n",
    "    model=model,\n",
    "    messages=[\n",
    "        {\"role\": \"user\", \"content\": \"Hello, world!\"}\n",
    "    ]\n",
    ")\n",
    "print(response.choices[0].message.content)\n"
   ]
  },
  {
   "cell_type": "markdown",
   "metadata": {},
   "source": [
    "# pydantic models"
   ]
  },
  {
   "cell_type": "code",
   "execution_count": 4,
   "metadata": {},
   "outputs": [],
   "source": [
    "from pydantic import BaseModel, HttpUrl\n",
    "from typing import List, Union, Optional\n",
    "\n",
    "class InputText(BaseModel):\n",
    "    type: str = \"input_text\"\n",
    "    text: str\n",
    "\n",
    "class InputImage(BaseModel):\n",
    "    type: str = \"input_image\"\n",
    "    image_url: HttpUrl\n",
    "\n",
    "class InputData(BaseModel):\n",
    "    role: str = \"user\"\n",
    "    content: List[Union[InputText, InputImage]]\n"
   ]
  },
  {
   "cell_type": "code",
   "execution_count": 5,
   "metadata": {},
   "outputs": [
    {
     "name": "stdout",
     "output_type": "stream",
     "text": [
      "role='user' content=[InputText(type='input_text', text=\"what's in this image?\"), InputImage(type='input_image', image_url=HttpUrl('https://upload.wikimedia.org/wikipedia/commons/thumb/d/dd/Gfp-wisconsin-madison-the-nature-boardwalk.jpg/2560px-Gfp-wisconsin-madison-the-nature-boardwalk.jpg'))]\n",
      "<class '__main__.InputData'>\n",
      "{\n",
      "  \"role\": \"user\",\n",
      "  \"content\": [\n",
      "    {\n",
      "      \"type\": \"input_text\",\n",
      "      \"text\": \"what's in this image?\"\n",
      "    },\n",
      "    {\n",
      "      \"type\": \"input_image\",\n",
      "      \"image_url\": \"https://upload.wikimedia.org/wikipedia/commons/thumb/d/dd/Gfp-wisconsin-madison-the-nature-boardwalk.jpg/2560px-Gfp-wisconsin-madison-the-nature-boardwalk.jpg\"\n",
      "    }\n",
      "  ]\n",
      "}\n"
     ]
    }
   ],
   "source": [
    "\n",
    "# Example usage\n",
    "input_data = {\n",
    "        \"role\": \"user\",\n",
    "        \"content\": [\n",
    "            {\"type\": \"input_text\", \"text\": \"what's in this image?\"},\n",
    "            {\n",
    "                \"type\": \"input_image\",\n",
    "                \"image_url\": \"https://upload.wikimedia.org/wikipedia/commons/thumb/d/dd/Gfp-wisconsin-madison-the-nature-boardwalk.jpg/2560px-Gfp-wisconsin-madison-the-nature-boardwalk.jpg\",\n",
    "            },\n",
    "        ],\n",
    "    }\n",
    "\n",
    "\n",
    "input_date_parsed = InputData.model_validate(input_data)\n",
    "\n",
    "print(input_date_parsed)\n",
    "print(type(input_date_parsed))\n",
    "\n",
    "print(input_date_parsed.model_dump_json(indent=2))"
   ]
  },
  {
   "cell_type": "code",
   "execution_count": 6,
   "metadata": {},
   "outputs": [
    {
     "name": "stdout",
     "output_type": "stream",
     "text": [
      "{\n",
      "  \"role\": \"assistant\",\n",
      "  \"content\": [\n",
      "    {\n",
      "      \"type\": \"input_text\",\n",
      "      \"text\": \"This is a text response\"\n",
      "    }\n",
      "  ]\n",
      "}\n"
     ]
    }
   ],
   "source": [
    "new_input = InputData(\n",
    "    role=\"assistant\",\n",
    "    content=[\n",
    "        InputText(text=\"This is a text response\"),\n",
    "\n",
    "    ]\n",
    ")\n",
    "\n",
    "print(new_input.model_dump_json(indent=2))"
   ]
  },
  {
   "cell_type": "code",
   "execution_count": 7,
   "metadata": {},
   "outputs": [
    {
     "name": "stdout",
     "output_type": "stream",
     "text": [
      "{\n",
      "  \"role\": \"assistant\",\n",
      "  \"content\": [\n",
      "    {\n",
      "      \"type\": \"input_image\",\n",
      "      \"image_url\": \"https://example.com/another-image.jpg\"\n",
      "    }\n",
      "  ]\n",
      "}\n"
     ]
    }
   ],
   "source": [
    "new_input2 = InputData(\n",
    "    role=\"assistant\",\n",
    "    content=[\n",
    "        InputImage(image_url=\"https://example.com/another-image.jpg\"),\n",
    "    ]\n",
    ")\n",
    "\n",
    "print(new_input2.model_dump_json(indent=2))"
   ]
  },
  {
   "cell_type": "code",
   "execution_count": 8,
   "metadata": {},
   "outputs": [
    {
     "name": "stdout",
     "output_type": "stream",
     "text": [
      "{\n",
      "  \"role\": \"user\",\n",
      "  \"content\": [\n",
      "    {\n",
      "      \"type\": \"input_text\",\n",
      "      \"text\": \"what's in this image?\"\n",
      "    },\n",
      "    {\n",
      "      \"type\": \"input_image\",\n",
      "      \"image_url\": \"https://upload.wikimedia.org/wikipedia/commons/thumb/d/dd/Gfp-wisconsin-madison-the-nature-boardwalk.jpg/2560px-Gfp-wisconsin-madison-the-nature-boardwalk.jpg\"\n",
      "    }\n",
      "  ]\n",
      "}\n"
     ]
    }
   ],
   "source": [
    "new_content = InputData(\n",
    "    content=[\n",
    "        InputText(text=\"what's in this image?\"),\n",
    "        InputImage(\n",
    "            image_url=\"https://upload.wikimedia.org/wikipedia/commons/thumb/d/dd/Gfp-wisconsin-madison-the-nature-boardwalk.jpg/2560px-Gfp-wisconsin-madison-the-nature-boardwalk.jpg\"\n",
    "        ),\n",
    "    ]\n",
    ")\n",
    "\n",
    "\n",
    "print(new_content.model_dump_json(indent=2))"
   ]
  },
  {
   "cell_type": "code",
   "execution_count": 9,
   "metadata": {},
   "outputs": [],
   "source": [
    "input=[\n",
    "    {\n",
    "        \"role\": \"user\",\n",
    "        \"content\": [\n",
    "\n",
    "                { \"type\": \"input_text\", \"text\": \"describe \" },\n",
    "                {\n",
    "                    \"type\": \"input_image\",\n",
    "                    \"image_url\": \"https://upload.wikimedia.org/wikipedia/commons/thumb/d/dd/Gfp-wisconsin-madison-the-nature-boardwalk.jpg/2560px-Gfp-wisconsin-madison-the-nature-boardwalk.jpg\"\n",
    "                }\n",
    "        ]\n",
    "    }\n",
    "]\n",
    "response = client.responses.create(\n",
    "    model=model,\n",
    "    input=input\n",
    ")\n"
   ]
  },
  {
   "cell_type": "code",
   "execution_count": 10,
   "metadata": {},
   "outputs": [
    {
     "name": "stdout",
     "output_type": "stream",
     "text": [
      "This image shows a wooden boardwalk path leading into a scenic field filled with tall green grass and various bushes. The path extends straight toward the horizon, becoming narrower in the distance. On either side of the pathway, the grass is lush and vibrant, suggesting a healthy, natural environment. The sky above is mostly clear with some scattered clouds, painted with soft shades of blue and white, indicating a calm and pleasant day. The overall atmosphere of the scene is peaceful and inviting, perfect for a nature walk or outdoor exploration.\n"
     ]
    }
   ],
   "source": [
    "print(response.output_text)"
   ]
  },
  {
   "cell_type": "code",
   "execution_count": 11,
   "metadata": {},
   "outputs": [
    {
     "name": "stdout",
     "output_type": "stream",
     "text": [
      "{\n",
      "  \"id\": \"resp_68d3301f98b88191a6f9904249c730bc08f76dc9c4c0b5a2\",\n",
      "  \"created_at\": 1758670880.0,\n",
      "  \"error\": null,\n",
      "  \"incomplete_details\": null,\n",
      "  \"instructions\": null,\n",
      "  \"metadata\": {},\n",
      "  \"model\": \"gpt-4.1-mini-2025-04-14\",\n",
      "  \"object\": \"response\",\n",
      "  \"output\": [\n",
      "    {\n",
      "      \"id\": \"msg_68d33021d5dc81918b850f37bf99010608f76dc9c4c0b5a2\",\n",
      "      \"content\": [\n",
      "        {\n",
      "          \"annotations\": [],\n",
      "          \"text\": \"This image shows a wooden boardwalk path leading into a scenic field filled with tall green grass and various bushes. The path extends straight toward the horizon, becoming narrower in the distance. On either side of the pathway, the grass is lush and vibrant, suggesting a healthy, natural environment. The sky above is mostly clear with some scattered clouds, painted with soft shades of blue and white, indicating a calm and pleasant day. The overall atmosphere of the scene is peaceful and inviting, perfect for a nature walk or outdoor exploration.\",\n",
      "          \"type\": \"output_text\",\n",
      "          \"logprobs\": []\n",
      "        }\n",
      "      ],\n",
      "      \"role\": \"assistant\",\n",
      "      \"status\": \"completed\",\n",
      "      \"type\": \"message\"\n",
      "    }\n",
      "  ],\n",
      "  \"parallel_tool_calls\": true,\n",
      "  \"temperature\": 1.0,\n",
      "  \"tool_choice\": \"auto\",\n",
      "  \"tools\": [],\n",
      "  \"top_p\": 1.0,\n",
      "  \"background\": false,\n",
      "  \"max_output_tokens\": null,\n",
      "  \"max_tool_calls\": null,\n",
      "  \"previous_response_id\": null,\n",
      "  \"prompt_cache_key\": null,\n",
      "  \"reasoning\": {\n",
      "    \"effort\": null,\n",
      "    \"summary\": null\n",
      "  },\n",
      "  \"safety_identifier\": null,\n",
      "  \"service_tier\": \"default\",\n",
      "  \"status\": \"completed\",\n",
      "  \"text\": {\n",
      "    \"format\": {\n",
      "      \"type\": \"text\"\n",
      "    },\n",
      "    \"verbosity\": \"medium\"\n",
      "  },\n",
      "  \"top_logprobs\": 0,\n",
      "  \"truncation\": \"disabled\",\n",
      "  \"usage\": {\n",
      "    \"input_tokens\": 2421,\n",
      "    \"input_tokens_details\": {\n",
      "      \"cached_tokens\": 0\n",
      "    },\n",
      "    \"output_tokens\": 105,\n",
      "    \"output_tokens_details\": {\n",
      "      \"reasoning_tokens\": 0\n",
      "    },\n",
      "    \"total_tokens\": 2526\n",
      "  },\n",
      "  \"user\": null,\n",
      "  \"billing\": {\n",
      "    \"payer\": \"developer\"\n",
      "  },\n",
      "  \"store\": true\n",
      "}\n"
     ]
    }
   ],
   "source": [
    "\n",
    "print(response.to_json())"
   ]
  },
  {
   "cell_type": "code",
   "execution_count": 13,
   "metadata": {},
   "outputs": [],
   "source": [
    "image_url = 'https://thumbs.dreamstime.com/z/worksheet-mathematical-puzzle-game-learning-mathematics-tasks-addition-preschool-children-kids-vector-186763165.jpg'\n",
    "\n",
    "\n",
    "input=[\n",
    "    {\n",
    "        \"role\": \"user\",\n",
    "        \"content\": [\n",
    "\n",
    "                { \"type\": \"input_text\", \"text\": \"solve \" },\n",
    "                {\n",
    "                    \"type\": \"input_image\",\n",
    "                    \"image_url\": image_url\n",
    "                }\n",
    "        ]\n",
    "    }\n",
    "]\n",
    "response = client.responses.create(\n",
    "    model=model,\n",
    "    input=input\n",
    ")\n"
   ]
  },
  {
   "cell_type": "code",
   "execution_count": 14,
   "metadata": {},
   "outputs": [
    {
     "name": "stdout",
     "output_type": "stream",
     "text": [
      "Let's solve it step by step using the given equations:\n",
      "\n",
      "1. Butterfly = 5\n",
      "\n",
      "2. Grapes = Butterfly + 4\n",
      "   Substitute Butterfly = 5:\n",
      "   Grapes = 5 + 4 = 9\n",
      "\n",
      "3. Apple = Grapes - 7\n",
      "   Substitute Grapes = 9:\n",
      "   Apple = 9 - 7 = 2\n",
      "\n",
      "Answer:\n",
      "Apple = 2\n"
     ]
    }
   ],
   "source": [
    "print(response.output_text)"
   ]
  },
  {
   "cell_type": "code",
   "execution_count": 15,
   "metadata": {},
   "outputs": [
    {
     "data": {
      "text/html": [
       "<img src=\"https://thumbs.dreamstime.com/z/worksheet-mathematical-puzzle-game-learning-mathematics-tasks-addition-preschool-children-kids-vector-186763165.jpg\" height=\"300\"/>"
      ],
      "text/plain": [
       "<IPython.core.display.Image object>"
      ]
     },
     "execution_count": 15,
     "metadata": {},
     "output_type": "execute_result"
    }
   ],
   "source": [
    "# display image from url\n",
    "from IPython.display import Image\n",
    "Image(url=image_url, height=300)\n"
   ]
  },
  {
   "cell_type": "markdown",
   "metadata": {},
   "source": [
    "# Model Structured Output"
   ]
  },
  {
   "cell_type": "code",
   "execution_count": 16,
   "metadata": {},
   "outputs": [
    {
     "name": "stdout",
     "output_type": "stream",
     "text": [
      "Here are the extracted product names and prices:\n",
      "\n",
      "- Apples: $4\n",
      "- Bananas: $3\n",
      "- Cherries: $5 (quantity 9)\n"
     ]
    }
   ],
   "source": [
    "user_input = \"Extract product names and prices: apples, $4, bananas, $3, cherries, $5 qty 9\"\n",
    "\n",
    "response = client.responses.create(\n",
    "    model=model,\n",
    "    input=[\n",
    "        {\n",
    "            \"role\": \"user\",\n",
    "            \"content\": [\n",
    "                {\"type\": \"input_text\", \"text\": user_input}\n",
    "            ]\n",
    "        }\n",
    "    ]\n",
    ")\n",
    "\n",
    "\n",
    "\n",
    "print(response.output_text)"
   ]
  },
  {
   "cell_type": "markdown",
   "metadata": {},
   "source": [
    "https://platform.openai.com/logs/resp_68d3303cac888196a858e970cf3ff0870e2cae486f8a9e9c "
   ]
  },
  {
   "cell_type": "code",
   "execution_count": 17,
   "metadata": {},
   "outputs": [
    {
     "name": "stdout",
     "output_type": "stream",
     "text": [
      "```json\n",
      "{\n",
      "  \"products\": [\n",
      "    {\n",
      "      \"name\": \"apples\",\n",
      "      \"price\": 4\n",
      "    },\n",
      "    {\n",
      "      \"name\": \"bananas\",\n",
      "      \"price\": 3\n",
      "    },\n",
      "    {\n",
      "      \"name\": \"cherries\",\n",
      "      \"price\": 5,\n",
      "      \"quantity\": 9\n",
      "    }\n",
      "  ]\n",
      "}\n",
      "```\n"
     ]
    }
   ],
   "source": [
    "system_message = \"Where necessary, respond in JSON format\"\n",
    "\n",
    "response = client.responses.create(\n",
    "    model=model,\n",
    "    input=[\n",
    "        {\n",
    "            \"role\": \"system\",\n",
    "            \"content\": [\n",
    "                {\"type\": \"input_text\", \"text\": system_message}\n",
    "            ]\n",
    "        },\n",
    "        {\n",
    "            \"role\": \"user\",\n",
    "            \"content\": [\n",
    "                {\"type\": \"input_text\", \"text\": user_input}\n",
    "            ]\n",
    "        }\n",
    "    ]\n",
    ")\n",
    "print(response.output_text)\n"
   ]
  },
  {
   "cell_type": "markdown",
   "metadata": {},
   "source": [
    "https://platform.openai.com/logs/resp_68d33050c6788193be0dc2c3ae5e1faf07d35316f9fc8ec9"
   ]
  },
  {
   "cell_type": "code",
   "execution_count": 18,
   "metadata": {},
   "outputs": [],
   "source": [
    "class ItemPrice(BaseModel):\n",
    "    item: str\n",
    "    price: float\n",
    "    quantity: Optional[int]\n",
    "\n",
    "class ItemPriceResponse(BaseModel):\n",
    "    items: List[ItemPrice]\n",
    "\n",
    "structured_output_response = client.responses.parse(\n",
    "    model=model,\n",
    "    input=[\n",
    "        {\n",
    "            \"role\": \"user\",\n",
    "            \"content\": [\n",
    "                {\"type\": \"input_text\", \"text\": user_input}\n",
    "            ]\n",
    "        }\n",
    "    ],\n",
    "    text_format=ItemPriceResponse\n",
    ")\n",
    "\n",
    "item_prices = structured_output_response.output_parsed"
   ]
  },
  {
   "cell_type": "markdown",
   "metadata": {},
   "source": [
    "https://platform.openai.com/logs/resp_68d3306fb14081a3830327ee11a3b59903a52f9ad0c1bb7d"
   ]
  },
  {
   "cell_type": "code",
   "execution_count": 19,
   "metadata": {},
   "outputs": [
    {
     "data": {
      "text/plain": [
       "[ItemPrice(item='apples', price=4.0, quantity=None),\n",
       " ItemPrice(item='bananas', price=3.0, quantity=None),\n",
       " ItemPrice(item='cherries', price=5.0, quantity=9)]"
      ]
     },
     "execution_count": 19,
     "metadata": {},
     "output_type": "execute_result"
    }
   ],
   "source": [
    "[i for i in item_prices.items]"
   ]
  },
  {
   "cell_type": "code",
   "execution_count": 20,
   "metadata": {},
   "outputs": [
    {
     "name": "stdout",
     "output_type": "stream",
     "text": [
      "{\n",
      "  \"items\": [\n",
      "    {\n",
      "      \"item\": \"apples\",\n",
      "      \"price\": 4.0,\n",
      "      \"quantity\": null\n",
      "    },\n",
      "    {\n",
      "      \"item\": \"bananas\",\n",
      "      \"price\": 3.0,\n",
      "      \"quantity\": null\n",
      "    },\n",
      "    {\n",
      "      \"item\": \"cherries\",\n",
      "      \"price\": 5.0,\n",
      "      \"quantity\": 9\n",
      "    }\n",
      "  ]\n",
      "}\n"
     ]
    }
   ],
   "source": [
    "print(structured_output_response.output_parsed.model_dump_json(indent=2))"
   ]
  },
  {
   "cell_type": "code",
   "execution_count": 25,
   "metadata": {},
   "outputs": [
    {
     "name": "stdout",
     "output_type": "stream",
     "text": [
      "ParsedChoice[ItemPriceResponse](finish_reason='stop', index=0, logprobs=None, message=ParsedChatCompletionMessage[ItemPriceResponse](content='{\"items\":[{\"item\":\"apples\",\"price\":4,\"quantity\":null},{\"item\":\"bananas\",\"price\":3,\"quantity\":null},{\"item\":\"cherries\",\"price\":5,\"quantity\":9}]}', refusal=None, role='assistant', annotations=[], audio=None, function_call=None, tool_calls=None, parsed=ItemPriceResponse(items=[ItemPrice(item='apples', price=4.0, quantity=None), ItemPrice(item='bananas', price=3.0, quantity=None), ItemPrice(item='cherries', price=5.0, quantity=9)])))\n",
      "[ItemPrice(item='apples', price=4.0, quantity=None), ItemPrice(item='bananas', price=3.0, quantity=None), ItemPrice(item='cherries', price=5.0, quantity=9)]\n"
     ]
    }
   ],
   "source": [
    "structured_output_response = client.chat.completions.parse(\n",
    "    model=model,\n",
    "    messages=[\n",
    "        {\"role\": \"system\", \"content\": \"You are a helpful assistant.\"},\n",
    "        {\"role\": \"user\", \"content\": user_input},\n",
    "        # {\"role\": \"user\", \"content\":\n",
    "        # \"List 3 items with prices in a JSON array, with fields item and price.\"}\n",
    "    ],\n",
    "    response_format=ItemPriceResponse\n",
    ")\n",
    "print(structured_output_response.choices[0])\n",
    "\n",
    "\n",
    "print(structured_output_response.choices[0].message.parsed.items)"
   ]
  },
  {
   "cell_type": "markdown",
   "metadata": {},
   "source": [
    "https://platform.openai.com/logs/chatcmpl-CJ6z10766cRoNBNzsAr1H3i72UhB2"
   ]
  },
  {
   "cell_type": "code",
   "execution_count": 34,
   "metadata": {},
   "outputs": [
    {
     "name": "stdout",
     "output_type": "stream",
     "text": [
      "<class '__main__.ItemPriceResponse'>\n",
      "apples: $4.0 (qty: None)\n",
      "bananas: $3.0 (qty: None)\n",
      "cherries: $5.0 (qty: 9)\n"
     ]
    }
   ],
   "source": [
    "parsed_items : ItemPriceResponse = structured_output_response.choices[0].message.parsed\n",
    "\n",
    "print(type(parsed_items))\n",
    "\n",
    "for item in parsed_items.items:\n",
    "    print(f\"{item.item}: ${item.price} (qty: {item.quantity})\")"
   ]
  }
 ],
 "metadata": {
  "kernelspec": {
   "display_name": "openai_env",
   "language": "python",
   "name": "python3"
  },
  "language_info": {
   "codemirror_mode": {
    "name": "ipython",
    "version": 3
   },
   "file_extension": ".py",
   "mimetype": "text/x-python",
   "name": "python",
   "nbconvert_exporter": "python",
   "pygments_lexer": "ipython3",
   "version": "3.13.5"
  }
 },
 "nbformat": 4,
 "nbformat_minor": 2
}
