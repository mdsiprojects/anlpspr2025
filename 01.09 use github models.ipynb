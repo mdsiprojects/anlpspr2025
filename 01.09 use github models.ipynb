{
 "cells": [
  {
   "cell_type": "markdown",
   "id": "97a9ef1e",
   "metadata": {},
   "source": [
    "# GITHUB Models\n",
    "\n",
    "Only support the use of chat completion API, Responses API is not supported.\n",
    "\n",
    "\n",
    "\n",
    "<svg aria-hidden=\"true\" focusable=\"false\" class=\"octicon octicon-mark-github pb-3\" viewBox=\"0 0 24 24\" width=\"64\" height=\"64\" fill=\"currentColor\" display=\"inline-block\" overflow=\"visible\" style=\"vertical-align: text-bottom;\">\n",
    "\n",
    "<path d=\"M12 1C5.9225 1 1 5.9225 1 12C1 16.8675 4.14875 20.9787 8.52125 22.4362C9.07125 22.5325 9.2775 22.2025 9.2775 21.9137C9.2775 21.6525 9.26375 20.7862 9.26375 19.865C6.5 20.3737 5.785 19.1912 5.565 18.5725C5.44125 18.2562 4.905 17.28 4.4375 17.0187C4.0525 16.8125 3.5025 16.3037 4.42375 16.29C5.29 16.2762 5.90875 17.0875 6.115 17.4175C7.105 19.0812 8.68625 18.6137 9.31875 18.325C9.415 17.61 9.70375 17.1287 10.02 16.8537C7.5725 16.5787 5.015 15.63 5.015 11.4225C5.015 10.2262 5.44125 9.23625 6.1425 8.46625C6.0325 8.19125 5.6475 7.06375 6.2525 5.55125C6.2525 5.55125 7.17375 5.2625 9.2775 6.67875C10.1575 6.43125 11.0925 6.3075 12.0275 6.3075C12.9625 6.3075 13.8975 6.43125 14.7775 6.67875C16.8813 5.24875 17.8025 5.55125 17.8025 5.55125C18.4075 7.06375 18.0225 8.19125 17.9125 8.46625C18.6138 9.23625 19.04 10.2125 19.04 11.4225C19.04 15.6437 16.4688 16.5787 14.0213 16.8537C14.42 17.1975 14.7638 17.8575 14.7638 18.8887C14.7638 20.36 14.75 21.5425 14.75 21.9137C14.75 22.2025 14.9563 22.5462 15.5063 22.4362C19.8513 20.9787 23 16.8537 23 12C23 5.9225 18.0775 1 12 1Z\">\n",
    "\n",
    "</path>\n",
    "\n",
    "</svg>\n",
    "\n",
    "\n",
    "## ****GitHub Marketplace Models****\n",
    "\n",
    "A catalog and playground of AI models to help you build AI features and products.\n",
    "\n",
    "* **Model switching**: A single API key for all models & billing.\n",
    "\n",
    "* **Quick personal setup**: GitHub PAT to install models in your projects.\n",
    "\n",
    "* **Free to start**: No charges until you hit our rate limits.\n",
    "\n",
    "Explore the full [model catalog](https://github.com/marketplace/models)."
   ]
  },
  {
   "cell_type": "code",
   "execution_count": null,
   "id": "8e84cb37",
   "metadata": {},
   "outputs": [],
   "source": [
    "import os\n",
    "GITHUB_TOKEN = os.environ[\"GITHUB_TOKEN\"]\n",
    "github_endpoint = \"https://models.github.ai/inference\"\n",
    "\n",
    "model = \"openai/gpt-4.1-mini\""
   ]
  },
  {
   "cell_type": "code",
   "execution_count": 12,
   "id": "b04eb18b",
   "metadata": {},
   "outputs": [
    {
     "name": "stdout",
     "output_type": "stream",
     "text": [
      "Gulls pin the blue air\n",
      "Tide writes, then tide erases\n",
      "Shore breathes in and out\n"
     ]
    }
   ],
   "source": [
    "from openai import OpenAI\n",
    "\n",
    "client = OpenAI(\n",
    "    base_url=github_endpoint,\n",
    "    api_key=GITHUB_TOKEN,\n",
    ")\n",
    "\n",
    "response = client.chat.completions.create(\n",
    "    model=model,\n",
    "    messages=[\n",
    "        {\"role\": \"user\", \"content\": \"Write a haiku about the sea.\"}\n",
    "    ]\n",
    ")\n",
    "\n",
    "print(response.choices[0].message.content)"
   ]
  },
  {
   "cell_type": "code",
   "execution_count": null,
   "id": "09c7f9a4",
   "metadata": {},
   "outputs": [
    {
     "name": "stdout",
     "output_type": "stream",
     "text": [
      "Error: 404 page not found\n"
     ]
    }
   ],
   "source": [
    "try:\n",
    "    response = client.responses.create(\n",
    "        model=model,\n",
    "        prompt=\"Write a haiku about the sea.\"\n",
    "    )\n",
    "    print(response.output_text)\n",
    "except Exception as e:\n",
    "    print(f\"Error: {e}\")"
   ]
  },
  {
   "cell_type": "code",
   "execution_count": 11,
   "id": "3476b6b0",
   "metadata": {},
   "outputs": [
    {
     "name": "stdout",
     "output_type": "stream",
     "text": [
      "Paris.\n"
     ]
    }
   ],
   "source": [
    "import os\n",
    "from azure.ai.inference import ChatCompletionsClient\n",
    "from azure.ai.inference.models import SystemMessage, UserMessage\n",
    "from azure.core.credentials import AzureKeyCredential\n",
    "\n",
    "endpoint = \"https://models.github.ai/inference\"\n",
    "endpoint = \"https://models.inference.ai.azure.com\"\n",
    "model = \"gpt-5\"\n",
    "token = os.environ[\"GITHUB_TOKEN\"]\n",
    "\n",
    "inference_client = ChatCompletionsClient(\n",
    "    endpoint=endpoint,\n",
    "    credential=AzureKeyCredential(token),\n",
    ")\n",
    "\n",
    "response = inference_client.complete(\n",
    "    messages=[\n",
    "        SystemMessage(\"You are a helpful assistant.\"),\n",
    "        UserMessage(\"What is the capital of France?\"),\n",
    "    ],\n",
    "    model=model\n",
    ")\n",
    "\n",
    "print(response.choices[0].message.content)\n",
    "\n"
   ]
  },
  {
   "cell_type": "code",
   "execution_count": 16,
   "id": "103fdf62",
   "metadata": {},
   "outputs": [
    {
     "name": "stdout",
     "output_type": "stream",
     "text": [
      "Error: Error code: 404 - {'error': {'code': 'api_not_supported', 'message': 'Requested API is currently not supported', 'details': 'Requested API is currently not supported'}}\n"
     ]
    }
   ],
   "source": [
    "azureai_client = OpenAI(\n",
    "    base_url=\"https://models.inference.ai.azure.com/\",\n",
    "    api_key=GITHUB_TOKEN,\n",
    ")\n",
    "\n",
    "\n",
    "\n",
    "try:\n",
    "    response = azureai_client.responses.create(\n",
    "        model=\"gpt-5\",\n",
    "        prompt=\"Write a haiku about the sea.\"\n",
    "    )\n",
    "\n",
    "    print(response.output_text)\n",
    "except Exception as e:\n",
    "    print(f\"Error: {e}\")\n",
    "\n"
   ]
  }
 ],
 "metadata": {
  "kernelspec": {
   "display_name": "md_env",
   "language": "python",
   "name": "python3"
  },
  "language_info": {
   "codemirror_mode": {
    "name": "ipython",
    "version": 3
   },
   "file_extension": ".py",
   "mimetype": "text/x-python",
   "name": "python",
   "nbconvert_exporter": "python",
   "pygments_lexer": "ipython3",
   "version": "3.13.7"
  }
 },
 "nbformat": 4,
 "nbformat_minor": 5
}
