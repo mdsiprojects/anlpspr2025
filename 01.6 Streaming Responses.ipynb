{
 "cells": [
  {
   "cell_type": "markdown",
   "metadata": {},
   "source": [
    "# Setup"
   ]
  },
  {
   "cell_type": "code",
   "execution_count": 1,
   "metadata": {},
   "outputs": [
    {
     "name": "stdout",
     "output_type": "stream",
     "text": [
      "sk-proj-eUanLfMUnbXn ...\n",
      "org-8d28 ...\n",
      "proj_30j ...\n"
     ]
    }
   ],
   "source": [
    "from openai import OpenAI\n",
    "from openai import embeddings\n",
    "\n",
    "from dotenv import load_dotenv\n",
    "import os\n",
    "import json\n",
    "\n",
    "load_dotenv()\n",
    "\n",
    "print(os.getenv(\"OPENAI_API_KEY\")[:20], \"...\")\n",
    "print(os.getenv(\"OPENAI_ORG\")[:8], \"...\")\n",
    "print(os.getenv(\"OPENAI_PROJECT\")[:8], \"...\")"
   ]
  },
  {
   "cell_type": "markdown",
   "metadata": {},
   "source": [
    "## Envinronment Variables\n",
    "\n",
    "Create a .env File: In the root of your project directory, create a file named `.env`. This file will hold your environment variables in the form of key-value pairs. For example:\n",
    "\n",
    "```ini\n",
    "    OPENAI_API_KEY = <openai_apikey>\n",
    "\n",
    "\n",
    "    # optional \n",
    "    OPENAI_ORG = <openai_org_id>\n",
    "    OPENAI_PROJECT = <openai_project_id>\n",
    "\n",
    "```"
   ]
  },
  {
   "cell_type": "code",
   "execution_count": 2,
   "metadata": {},
   "outputs": [],
   "source": [
    "\n",
    "# Set the API key and endpoint\n",
    "api_key = os.getenv('OPENAI_API_KEY')\n",
    "org = os.getenv('OPENAI_ORG')\n",
    "project = os.getenv('OPENAI_PROJECT')\n",
    "# model = \"gpt-5-mini-2025-08-07\"\n",
    "model = \"gpt-4.1-mini\""
   ]
  },
  {
   "cell_type": "markdown",
   "metadata": {},
   "source": [
    "## OpenAI Client\n"
   ]
  },
  {
   "cell_type": "code",
   "execution_count": 3,
   "metadata": {},
   "outputs": [],
   "source": [
    "client = OpenAI(\n",
    "    api_key=api_key,\n",
    "    organization=org,\n",
    "    project=project\n",
    ")"
   ]
  },
  {
   "cell_type": "code",
   "execution_count": 4,
   "metadata": {},
   "outputs": [
    {
     "data": {
      "text/plain": [
       "['gpt-4.1-2025-04-14',\n",
       " 'gpt-4.1',\n",
       " 'gpt-4.1-mini-2025-04-14',\n",
       " 'gpt-4.1-mini',\n",
       " 'gpt-4.1-nano-2025-04-14',\n",
       " 'gpt-4.1-nano']"
      ]
     },
     "execution_count": 4,
     "metadata": {},
     "output_type": "execute_result"
    }
   ],
   "source": [
    "[m.id for m in client.models.list().data if m.id.startswith(\"gpt-4.1\")]"
   ]
  },
  {
   "cell_type": "markdown",
   "metadata": {},
   "source": [
    "## Responses API "
   ]
  },
  {
   "cell_type": "code",
   "execution_count": 5,
   "metadata": {},
   "outputs": [
    {
     "name": "stdout",
     "output_type": "stream",
     "text": [
      "Hello! How can I assist you today?\n"
     ]
    }
   ],
   "source": [
    "response = client.responses.create(\n",
    "    model=model,\n",
    "    input=\"Hello, world!\"\n",
    ")\n",
    "\n",
    "print(response.output_text)"
   ]
  },
  {
   "cell_type": "code",
   "execution_count": 6,
   "metadata": {},
   "outputs": [],
   "source": [
    "input=[\n",
    "    {\n",
    "        \"role\": \"user\",\n",
    "        \"content\": [\n",
    "\n",
    "                { \"type\": \"input_text\", \"text\": \"describe \" },\n",
    "                {\n",
    "                    \"type\": \"input_image\",\n",
    "                    \"image_url\": \"https://upload.wikimedia.org/wikipedia/commons/thumb/d/dd/Gfp-wisconsin-madison-the-nature-boardwalk.jpg/2560px-Gfp-wisconsin-madison-the-nature-boardwalk.jpg\"\n",
    "                }\n",
    "        ]\n",
    "    }\n",
    "]\n",
    "response = client.responses.create(\n",
    "    model=model,\n",
    "    input=input\n",
    ")\n"
   ]
  },
  {
   "cell_type": "code",
   "execution_count": 7,
   "metadata": {},
   "outputs": [
    {
     "name": "stdout",
     "output_type": "stream",
     "text": [
      "The image depicts a serene natural landscape featuring a wooden boardwalk that stretches into the distance, leading through a vast area of lush green grass. On either side of the boardwalk, tall grasses and some scattered bushes extend to the horizon. The sky above is expansive and mostly clear, with streaks of wispy clouds and a few scattered, fluffy clouds. The lighting suggests it could be either early morning or late afternoon, casting a soft, warm glow over the scene. The overall atmosphere is peaceful and inviting, ideal for a leisurely walk in nature.\n"
     ]
    }
   ],
   "source": [
    "print(response.output_text)"
   ]
  },
  {
   "cell_type": "markdown",
   "metadata": {},
   "source": [
    "## Responses API Streaming\n"
   ]
  },
  {
   "cell_type": "code",
   "execution_count": 8,
   "metadata": {},
   "outputs": [],
   "source": [
    "response_stream = client.responses.create(\n",
    "    model=model,\n",
    "    input=\"write a long essage on a topic of your own!\",\n",
    "    stream=True\n",
    ")\n"
   ]
  },
  {
   "cell_type": "code",
   "execution_count": 9,
   "metadata": {},
   "outputs": [
    {
     "name": "stdout",
     "output_type": "stream",
     "text": [
      "Certainly! Here’s a thoughtful message on the importance of kindness in today’s world:\n",
      "\n",
      "---\n",
      "\n",
      "In a world that often feels fast-paced, competitive, and at times, divided, kindness remains one of the most powerful forces we possess. It’s easy to underestimate the impact a small act of kindness can have—whether it’s a genuine smile, a few encouraging words, or helping someone in need. Yet these simple gestures have the power to transform lives, build bridges between people, and create ripples that extend far beyond the immediate moment.\n",
      "\n",
      "Kindness is universal; it transcends languages, cultures, and backgrounds. Everyone, regardless of who they are or where they come from, understands the warmth that comes from being treated with compassion and respect. In an era dominated by digital connections, where misunderstandings and negativity can spread rapidly, kindness acts as a balm—reminding us of our shared humanity.\n",
      "\n",
      "Moreover, kindness benefits not only the receiver but also the giver. Research has shown that acts of kindness can improve mental health, reduce stress, and foster a sense of fulfillment and purpose. When we choose kindness, we are investing in our own well-being as much as in the well-being of others. It cultivates empathy, patience, and understanding—qualities that are essential for creating harmonious communities.\n",
      "\n",
      "Importantly, kindness does not require grand gestures. It can be as simple as listening attentively to someone who needs to be heard, offering a helping hand without expecting anything in return, or expressing gratitude for something often taken for granted. These small actions accumulate into a culture of kindness that can soften conflicts, heal wounds, and inspire others to pay it forward.\n",
      "\n",
      "In summary, kindness is a quiet yet potent revolution we can all partake in. It’s a choice we make every day—to approach the world with an open heart and a willingness to lift others up. If more people embraced kindness wholeheartedly, imagine the kind of world we could build: one marked by understanding, cooperation, and genuine happiness.\n",
      "\n",
      "So let us remember that kindness costs nothing but can mean everything. In every interaction, big or small, let us choose to be kind. Our world needs it now more than ever.\n",
      "\n",
      "---\n",
      "\n",
      "If you’d like a message on a different topic or style, just let me know!"
     ]
    }
   ],
   "source": [
    "for event in response_stream:\n",
    "    if event.type == 'response.output_text.delta':\n",
    "        print(event.delta, end='')\n"
   ]
  },
  {
   "cell_type": "code",
   "execution_count": 12,
   "metadata": {},
   "outputs": [
    {
     "name": "stdout",
     "output_type": "stream",
     "text": [
      "{\n",
      "  \"response\": {\n",
      "    \"id\": \"resp_68d5e4204ec481918fb54b0ad4346bac0cf1b91d7926f884\",\n",
      "    \"created_at\": 1758848032.0,\n",
      "    \"error\": null,\n",
      "    \"incomplete_details\": null,\n",
      "    \"instructions\": null,\n",
      "    \"metadata\": {},\n",
      "    \"model\": \"gpt-4.1-mini-2025-04-14\",\n",
      "    \"object\": \"response\",\n",
      "    \"output\": [\n",
      "      {\n",
      "        \"id\": \"msg_68d5e4209d9c81919f8529a2f736ed8e0cf1b91d7926f884\",\n",
      "        \"content\": [\n",
      "          {\n",
      "            \"annotations\": [],\n",
      "            \"text\": \"Certainly! Here’s a thoughtful message on the importance of kindness in today’s world:\\n\\n---\\n\\nIn a world that often feels fast-paced, competitive, and at times, divided, kindness remains one of the most powerful forces we possess. It’s easy to underestimate the impact a small act of kindness can have—whether it’s a genuine smile, a few encouraging words, or helping someone in need. Yet these simple gestures have the power to transform lives, build bridges between people, and create ripples that extend far beyond the immediate moment.\\n\\nKindness is universal; it transcends languages, cultures, and backgrounds. Everyone, regardless of who they are or where they come from, understands the warmth that comes from being treated with compassion and respect. In an era dominated by digital connections, where misunderstandings and negativity can spread rapidly, kindness acts as a balm—reminding us of our shared humanity.\\n\\nMoreover, kindness benefits not only the receiver but also the giver. Research has shown that acts of kindness can improve mental health, reduce stress, and foster a sense of fulfillment and purpose. When we choose kindness, we are investing in our own well-being as much as in the well-being of others. It cultivates empathy, patience, and understanding—qualities that are essential for creating harmonious communities.\\n\\nImportantly, kindness does not require grand gestures. It can be as simple as listening attentively to someone who needs to be heard, offering a helping hand without expecting anything in return, or expressing gratitude for something often taken for granted. These small actions accumulate into a culture of kindness that can soften conflicts, heal wounds, and inspire others to pay it forward.\\n\\nIn summary, kindness is a quiet yet potent revolution we can all partake in. It’s a choice we make every day—to approach the world with an open heart and a willingness to lift others up. If more people embraced kindness wholeheartedly, imagine the kind of world we could build: one marked by understanding, cooperation, and genuine happiness.\\n\\nSo let us remember that kindness costs nothing but can mean everything. In every interaction, big or small, let us choose to be kind. Our world needs it now more than ever.\\n\\n---\\n\\nIf you’d like a message on a different topic or style, just let me know!\",\n",
      "            \"type\": \"output_text\",\n",
      "            \"logprobs\": []\n",
      "          }\n",
      "        ],\n",
      "        \"role\": \"assistant\",\n",
      "        \"status\": \"completed\",\n",
      "        \"type\": \"message\"\n",
      "      }\n",
      "    ],\n",
      "    \"parallel_tool_calls\": true,\n",
      "    \"temperature\": 1.0,\n",
      "    \"tool_choice\": \"auto\",\n",
      "    \"tools\": [],\n",
      "    \"top_p\": 1.0,\n",
      "    \"background\": false,\n",
      "    \"max_output_tokens\": null,\n",
      "    \"max_tool_calls\": null,\n",
      "    \"previous_response_id\": null,\n",
      "    \"prompt_cache_key\": null,\n",
      "    \"reasoning\": {\n",
      "      \"effort\": null,\n",
      "      \"summary\": null\n",
      "    },\n",
      "    \"safety_identifier\": null,\n",
      "    \"service_tier\": \"default\",\n",
      "    \"status\": \"completed\",\n",
      "    \"text\": {\n",
      "      \"format\": {\n",
      "        \"type\": \"text\"\n",
      "      },\n",
      "      \"verbosity\": \"medium\"\n",
      "    },\n",
      "    \"top_logprobs\": 0,\n",
      "    \"truncation\": \"disabled\",\n",
      "    \"usage\": {\n",
      "      \"input_tokens\": 19,\n",
      "      \"input_tokens_details\": {\n",
      "        \"cached_tokens\": 0\n",
      "      },\n",
      "      \"output_tokens\": 454,\n",
      "      \"output_tokens_details\": {\n",
      "        \"reasoning_tokens\": 0\n",
      "      },\n",
      "      \"total_tokens\": 473\n",
      "    },\n",
      "    \"user\": null,\n",
      "    \"store\": true\n",
      "  },\n",
      "  \"sequence_number\": 460,\n",
      "  \"type\": \"response.completed\"\n",
      "}\n"
     ]
    }
   ],
   "source": [
    "print(event.to_json())"
   ]
  }
 ],
 "metadata": {
  "kernelspec": {
   "display_name": "md_env",
   "language": "python",
   "name": "python3"
  },
  "language_info": {
   "codemirror_mode": {
    "name": "ipython",
    "version": 3
   },
   "file_extension": ".py",
   "mimetype": "text/x-python",
   "name": "python",
   "nbconvert_exporter": "python",
   "pygments_lexer": "ipython3",
   "version": "3.13.7"
  }
 },
 "nbformat": 4,
 "nbformat_minor": 2
}
