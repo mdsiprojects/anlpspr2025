{
 "cells": [
  {
   "cell_type": "code",
   "execution_count": 1,
   "id": "58744cae",
   "metadata": {},
   "outputs": [
    {
     "data": {
      "text/plain": [
       "True"
      ]
     },
     "execution_count": 1,
     "metadata": {},
     "output_type": "execute_result"
    }
   ],
   "source": [
    "from IPython.display import Markdown, display\n",
    "\n",
    "from dotenv import load_dotenv\n",
    "import os\n",
    "\n",
    "load_dotenv()"
   ]
  },
  {
   "cell_type": "markdown",
   "id": "22c27672",
   "metadata": {},
   "source": [
    "# Search"
   ]
  },
  {
   "cell_type": "markdown",
   "id": "78b3cbf3",
   "metadata": {},
   "source": [
    "## Genereate Embeddings"
   ]
  },
  {
   "cell_type": "code",
   "execution_count": 2,
   "id": "8d72a2ce",
   "metadata": {},
   "outputs": [],
   "source": [
    "from dotenv import load_dotenv\n",
    "from azure.identity import DefaultAzureCredential\n",
    "from azure.core.credentials import AzureKeyCredential\n",
    "import os\n",
    "\n",
    "\n",
    "# Variables not used here do not need to be updated in your .env file\n",
    "endpoint = os.environ[\"AZURE_SEARCH_SERVICE_ENDPOINT\"]\n",
    "credential = AzureKeyCredential(os.environ[\"AZURE_SEARCH_ADMIN_KEY\"]) if len(os.environ[\"AZURE_SEARCH_ADMIN_KEY\"]) > 0 else DefaultAzureCredential()\n",
    "index_name = os.environ[\"AZURE_SEARCH_INDEX\"]"
   ]
  },
  {
   "cell_type": "code",
   "execution_count": 3,
   "id": "16392a3a",
   "metadata": {},
   "outputs": [],
   "source": [
    "from openai import OpenAI\n",
    "from openai import embeddings\n",
    "\n",
    "\n",
    "# Set the API key and endpoint\n",
    "api_key = os.getenv('OPENAI_API_KEY')\n",
    "org = os.getenv('OPENAI_ORG')\n",
    "project = os.getenv('OPENAI_PROJECT')\n",
    "# model = \"gpt-5-mini-2025-08-07\"\n",
    "embedding_model = \"text-embedding-3-small\"\n",
    "\n"
   ]
  },
  {
   "cell_type": "code",
   "execution_count": 6,
   "id": "e975b18d",
   "metadata": {},
   "outputs": [
    {
     "name": "stdout",
     "output_type": "stream",
     "text": [
      "[-0.019143931567668915, -0.025292053818702698, -0.0017211713129654527, 0.01883450709283352, -0.03382139280438423, -0.019682060927152634, -0.02102738246321678, 0.05160655081272125, -0.03218010067939758, -0.03043118305504322]\n"
     ]
    }
   ],
   "source": [
    "\n",
    "def generate_embeddings(text):\n",
    "    client = OpenAI(\n",
    "        api_key=api_key,\n",
    "        organization=org,\n",
    "        project=project\n",
    "    )\n",
    "\n",
    "    embedding = client.embeddings.create(\n",
    "        model=embedding_model,\n",
    "        input=text\n",
    "    )\n",
    "    embedding = embedding.data[0].embedding\n",
    "    return embedding\n",
    "\n",
    "print(generate_embeddings(\"Hello, world!\")[:10])"
   ]
  },
  {
   "cell_type": "markdown",
   "id": "1e2f651e",
   "metadata": {},
   "source": [
    "## query\n",
    "\n"
   ]
  },
  {
   "cell_type": "code",
   "execution_count": 7,
   "id": "f7573869",
   "metadata": {},
   "outputs": [],
   "source": [
    "from azure.search.documents import SearchClient\n",
    "from azure.search.documents.models import VectorizableTextQuery, VectorQuery, VectorizedQuery, QueryType\n",
    "\n",
    "# Pure Vector Search\n",
    "query = \"eye test\"\n",
    "# \"Which is more comprehensive, Northwind Health Plus vs Northwind Standard?\"\n",
    "\n",
    "topk = 5\n",
    "\n",
    "search_client = SearchClient(endpoint, index_name, credential=credential)\n"
   ]
  },
  {
   "cell_type": "code",
   "execution_count": 8,
   "id": "16f29cc4",
   "metadata": {},
   "outputs": [
    {
     "data": {
      "text/plain": [
       "[<QueryType.SIMPLE: 'simple'>,\n",
       " <QueryType.FULL: 'full'>,\n",
       " <QueryType.SEMANTIC: 'semantic'>]"
      ]
     },
     "execution_count": 8,
     "metadata": {},
     "output_type": "execute_result"
    }
   ],
   "source": [
    "[qt for qt in QueryType]"
   ]
  },
  {
   "cell_type": "code",
   "execution_count": 9,
   "id": "5a3107a9",
   "metadata": {},
   "outputs": [
    {
     "name": "stdout",
     "output_type": "stream",
     "text": [
      "chunk_id: dometic_fridge_stove_Sept_2025_20250918_114057_0001\n",
      "Score: 0.01666666753590107\n",
      "Content: # TAX INVOICE  \n",
      "<table>\n",
      "<tr>\n",
      "<th colspan=\"2\">Invoice No. PSI1454426</th>\n",
      "</tr>\n",
      "<tr>\n",
      "<th>PAGE</th>\n",
      "<th>DATE</th>\n",
      "</tr>\n",
      "<tr>\n",
      "<td>1</td>\n",
      "<td>16/09/25</td>\n",
      "</tr>\n",
      "</table>  \n",
      "$ 1,613.01\n",
      "\\* Due and Payable by\n",
      "16 September 2025  \n",
      "Dometic Australia Pty Ltd\n",
      "ABN: 62086366305\n",
      "7 Nursery Ave\n",
      "CLAYTON SOUTH VIC 3169\n",
      "Australia\n",
      "Tel: 1300 304 220  \n",
      "ACCOUNT NAME:\n",
      "Mutaz Abu Ghazaleh - +61 447 663 887\n",
      "VARSITY LAKES QLD 4227\n",
      "Australia  \n",
      "DELIVER TO:  \n",
      "Mutaz Abu Ghazaleh - +61 447 663 887  \n",
      "3 Jack McNamee Place  \n",
      "KELLYVILLE NSW 2155  \n",
      "Australia  \n",
      "<table>\n",
      "<tr>\n",
      "<th>CUSTOMER NO.</th>\n",
      "<th>OUR REF.</th>\n",
      "<th>CUSTOMER REF.</th>\n",
      "<th>ORDER DATE</th>\n",
      "<th>INPUT</th>\n",
      "<th>SENT BY</th>\n",
      "</tr>\n",
      "<tr>\n",
      "<td>9454</td>\n",
      "<td>SO3318449</td>\n",
      "<td>2392S</td>\n",
      "<td>15/09/25</td>\n",
      "<td>MAT.GRAH</td>\n",
      "<td>BORDER EXPRESS</td>\n",
      "</tr>\n",
      "</table>  \n",
      "<table>\n",
      "<tr>\n",
      "<th>QTY</th>\n",
      "<th>ITEM CODE</th>\n",
      "<th>DESCRIPTION</th>\n",
      "<th>UNIT PRICE</th>\n",
      "<th>UNIT</th>\n",
      "<th>DISC %</th>\n",
      "<th>LINE TOTAL EXCL. GST</th>\n",
      "<th>LOC</th>\n",
      "</tr>\n",
      "<tr>\n",
      "<td>1</td>\n",
      "<td>9620001868</td>\n",
      "<td>REF/FZR 1DOOR COMP ACDC NRX80 Serial No: 51800028</td>\n",
      "<td>$ 1,177.27</td>\n",
      "<td>Each</td>\n",
      "<td></td>\n",
      "<td>$ 1,177.27</td>\n",
      "<td>1CL</td>\n",
      "</tr>\n",
      "<tr>\n",
      "<td>1</td>\n",
      "<td>9610004436</td>\n",
      "<td>2 COOK 3 PRO DELUXE</td>\n",
      "<td>$ 244.55</td>\n",
      "<td>Each</td>\n",
      "<td></td>\n",
      "<td>$ 244.55</td>\n",
      "<td>1CL</td>\n",
      "</tr>\n",
      "<tr>\n",
      "<td>1</td>\n",
      "<td>9630000028</td>\n",
      "<td>NRX BOTTOM HANDLE ASSEMBLY</td>\n",
      "<td>$ 44.55</td>\n",
      "<td>Each</td>\n",
      "<td></td>\n",
      "<td>$ 44.55</td>\n",
      "<td>1CL</td>\n",
      "</tr>\n",
      "<tr>\n",
      "<td></td>\n",
      "<td></td>\n",
      "<td>Serial No: 52800165</td>\n",
      "<td></td>\n",
      "<td></td>\n",
      "<td></td>\n",
      "<td></td>\n",
      "<td></td>\n",
      "</tr>\n",
      "<tr>\n",
      "<td></td>\n",
      "<td></td>\n",
      "<td>Sydney 4×4 mutazag@hotmail.com</td>\n",
      "<td></td>\n",
      "<td></td>\n",
      "<td></td>\n",
      "<td></td>\n",
      "<td></td>\n",
      "</tr>\n",
      "<tr>\n",
      "<td></td>\n",
      "<td></td>\n",
      "<td></td>\n",
      "<td></td>\n",
      "<td></td>\n",
      "<td></td>\n",
      "<td></td>\n",
      "<td></td>\n",
      "</tr>\n",
      "</table>  \n",
      "SPECIAL DELIVERY INSTRUCTIONS:  \n",
      "TERMS:  \n",
      "CBD  \n",
      "SHIPMENT NO:\n",
      "DMSS1359770  \n",
      "SUB TOTAL  \n",
      "$ 1,466.37  \n",
      "GST (10%)  \n",
      "$ 146.64  \n",
      "<table>\n",
      "<tr>\n",
      "<th>CARTONS</th>\n",
      "<th>KG</th>\n",
      "<th>CUBIC M</th>\n",
      "<th>TOTAL INCL. GST</th>\n",
      "<th>$ 1,613.01</th>\n",
      "</tr>\n",
      "<tr>\n",
      "chunk_id: Northwind_Standard_Benefits_Details_0074\n",
      "Score: 0.01666666753590107\n",
      "Content: associated with psychological or neuropsychological testing that is done for non-medical\n",
      "reasons such as pre-employment screening or for legal purposes.  \n",
      "In order to ensure that your psychological or neuropsychological testing services are\n",
      "covered under the Northwind Standard plan, it is important to review your plan's Summary\n",
      "of Benefits and Coverage (SBC) document. This document will provide you with a full list of\n",
      "covered services, as well as any exceptions that may apply.  \n",
      "Overall, the Northwind Standard plan provides coverage for psychological and\n",
      "neuropsychological testing services when they are prescribed or ordered by a health care\n",
      "professional and when they are provided by an in-network provider. It is important to be\n",
      "aware of any exceptions that may apply, as well as to select a highly qualified in-network\n",
      "provider for your tests in order to ensure that your services are covered in full.  \n",
      "<!-- PageBreak -->\n",
      "chunk_id: Northwind_Health_Plus_Benefits_Details_0073\n",
      "Score: 0.016393441706895828\n",
      "Content: ### Psychological and Neuropsychological Testing COVERED SERVICES - Psychological and Neuropsychological Testing  \n",
      "Northwind Health Plus recognizes the importance of mental health care and offers\n",
      "psychological and neuropsychological testing as a covered service. In this section, we will\n",
      "cover what these tests are, what they cover, and what the exceptions are.  \n",
      "What are Psychological and Neuropsychological Tests?  \n",
      "Psychological and neuropsychological tests are tests used to diagnose and treat mental\n",
      "health conditions and disorders. Psychological tests are used to assess personality,\n",
      "behavior, and emotions, while neuropsychological tests are used to diagnose and treat\n",
      "neurological disorders.  \n",
      "What do these Tests Cover?  \n",
      "Psychological and neuropsychological testing can cover a wide range of topics, including\n",
      "memory, concentration, and attention; language and communication; motor skills; problem-\n",
      "solving; and executive functioning. Tests may also assess mood and behavior and can help\n",
      "to diagnose conditions such as anxiety, depression, and bipolar disorder.\n",
      "chunk_id: Northwind_Health_Plus_Benefits_Details_0075\n",
      "Score: 0.016129031777381897\n",
      "Content: ## Tips for Employees  \n",
      "If you think you may need psychological or neuropsychological testing, be sure to discuss\n",
      "this with your primary care physician or mental health provider. These tests can be\n",
      "expensive and time-consuming, so it's important to make sure that any testing you have is\n",
      "necessary and covered under your health plan. In addition, you should research providers\n",
      "who offer these services and make sure they are in-network with Northwind Health Plus so\n",
      "that you can receive the maximum benefit. Finally, make sure to keep track of all of your\n",
      "medical records and any tests you have so that you can provide this information to your\n",
      "providers if necessary.  \n",
      "By understanding what psychological and neuropsychological tests are, what they cover,\n",
      "and any exceptions to coverage, you can make sure that you are getting the most out of your  \n",
      "<!-- PageBreak -->  \n",
      "Northwind Health Plus plan. By taking the time to research providers in-network with\n",
      "Northwind Health Plus and keeping track of your medical records and tests, you can make\n",
      "sure you are receiving the care and coverage you need.\n",
      "chunk_id: Northwind_Health_Plus_Benefits_Details_0074\n",
      "Score: 0.01587301678955555\n",
      "Content: ## Exceptions  \n",
      "There are some exceptions to the coverage for psychological and neuropsychological tests.\n",
      "These include tests for intelligence, achievement, and aptitude. In addition, tests that are\n",
      "intended to evaluate an individual's ability to perform specific job functions are also not\n",
      "covered under Northwind Health Plus.\n"
     ]
    }
   ],
   "source": [
    "\n",
    "\n",
    "# vector_fields = [\"content_vector\"]\n",
    "\n",
    "# vector_queries = [VectorizableTextQuery(\n",
    "#         text = query,\n",
    "#         k_nearest_neighbors=topk,\n",
    "#         fields=vector,\n",
    "#         exhaustive=True,\n",
    "#     ) for vector in vector_fields]\n",
    "\n",
    "\n",
    "# vector_queries = [VectorQuery(\n",
    "#     k_nearest_neighbors=topk,\n",
    "#     fields=\"content_vector\",\n",
    "#     exhaustive=True,\n",
    "# )]\n",
    "\n",
    "# https://github.com/Azure/azure-search-vector-samples/blob/main/demo-python/code/basic-vector-workflow/azure-search-vector-python-sample.ipynb\n",
    "# https://learn.microsoft.com/en-us/python/api/azure-search-documents/azure.search.documents.models.vectorizedquery?view=azure-python\n",
    "vector_query = VectorizedQuery(\n",
    "    vector=generate_embeddings(query),\n",
    "    k_nearest_neighbors=topk,\n",
    "    fields=\"content_vector\",\n",
    "    exhaustive=True,\n",
    "\n",
    ")\n",
    "\n",
    "\n",
    "# vector_query = VectorizableTextQuery(text=query, k_nearest_neighbors=topk, fields=\"vector\", exhaustive=True)\n",
    "# Use the below query to pass in the raw vector query instead of the query vectorization\n",
    "# vector_query = RawVectorQuery(vector=generate_embeddings(query), k_nearest_neighbors=3, fields=\"vector\")\n",
    "\n",
    "# VectorizedQuery Class\n",
    "# The query parameters to use for vector search when a raw vector value is provided.\n",
    "# VectorizableTextQuery Class\n",
    "# The query parameters to use for vector search when a text value that needs to be vectorized is provided.\n",
    "\n",
    "# results = search_client.search(\n",
    "#     search_text=None,\n",
    "#     vector_queries= vector_queries,\n",
    "#     select=[\"parent_id\", \"chunk_id\", \"chunk\",\"title\"],\n",
    "#     top=topk\n",
    "# )\n",
    "\n",
    "# check basic vector workflow sample: https://github.com/Azure/azure-search-vector-samples/blob/main/demo-python/code/basic-vector-workflow/azure-search-vector-python-sample.ipynb\n",
    "# when providing search_text, this bcomes a hybrid search\n",
    "# adding semantic_configuration_name enables semantic ranking of the results\n",
    "# query rewriting is an additional feature that can be enabled\n",
    "results = search_client.search(\n",
    "        search_text = \"PSI1454426\",\n",
    "        vector_queries=[VectorizedQuery(\n",
    "            vector=generate_embeddings(query),\n",
    "            k_nearest_neighbors=topk,\n",
    "            fields=\"content_vector\",\n",
    "            exhaustive=True,\n",
    "\n",
    "        )],\n",
    "        select=[\"chunk_id\", \"file_name\", \"base_name\", \"content\", \"content_vector\"],\n",
    "        top=topk,\n",
    "        include_total_count=True,\n",
    "        # query_type=QueryType.FULL,\n",
    "        semantic_configuration_name=\"my-semantic-config\",\n",
    "\n",
    "    )\n",
    "\n",
    "\n",
    "\n",
    "\n",
    "for result in results:\n",
    "    print(f\"chunk_id: {result['chunk_id']}\")\n",
    "    print(f\"Score: {result['@search.score']}\")\n",
    "    print(f\"Content: {result['content']}\")\n",
    "\n",
    "\n",
    "    # print(f\"Content: {result['chunk']}\")\n"
   ]
  },
  {
   "cell_type": "code",
   "execution_count": 10,
   "id": "235014bd",
   "metadata": {},
   "outputs": [],
   "source": [
    "# define a search function\n",
    "\n",
    "def search_query(query_text, top_k=5, vector_only=False):\n",
    "    vector = generate_embeddings(query_text)\n",
    "    vector_query = VectorizedQuery(\n",
    "        vector=vector,\n",
    "        k_nearest_neighbors=top_k,\n",
    "        fields=\"content_vector\",\n",
    "        exhaustive=True,\n",
    "    )\n",
    "\n",
    "    search_text = None if vector_only else query_text\n",
    "    results = search_client.search(\n",
    "        search_text=search_text,\n",
    "        vector_queries=[vector_query],\n",
    "        select=[\"chunk_id\", \"file_name\", \"base_name\", \"content\", \"content_vector\"],\n",
    "        top=top_k,\n",
    "        include_total_count=True,\n",
    "        # query_type=QueryType.FULL,\n",
    "        semantic_configuration_name=\"my-semantic-config\",\n",
    "    )\n",
    "    return list(results)"
   ]
  },
  {
   "cell_type": "code",
   "execution_count": 11,
   "id": "3776d0ac",
   "metadata": {},
   "outputs": [],
   "source": [
    "def search_display_result(query_text, vector_only=False):\n",
    "    results  = search_query(query_text, vector_only=vector_only)\n",
    "    for i, result in enumerate(results):\n",
    "        display(Markdown(f\"### Result {i+1}\"))\n",
    "        display(Markdown(f\"**Chunk ID:** {result['chunk_id']}\"))\n",
    "        display(Markdown(f\"**Score:** {result['@search.score']}\"))\n",
    "        display(Markdown(f\"**Content:** {result['content']}\"))\n",
    "        display(Markdown(\"---\"))"
   ]
  },
  {
   "cell_type": "code",
   "execution_count": 12,
   "id": "0c0f4218",
   "metadata": {},
   "outputs": [
    {
     "data": {
      "text/markdown": [
       "### Result 1"
      ],
      "text/plain": [
       "<IPython.core.display.Markdown object>"
      ]
     },
     "metadata": {},
     "output_type": "display_data"
    },
    {
     "data": {
      "text/markdown": [
       "**Chunk ID:** dometic_fridge_stove_Sept_2025_20250918_114057_0001"
      ],
      "text/plain": [
       "<IPython.core.display.Markdown object>"
      ]
     },
     "metadata": {},
     "output_type": "display_data"
    },
    {
     "data": {
      "text/markdown": [
       "**Score:** 0.03333333507180214"
      ],
      "text/plain": [
       "<IPython.core.display.Markdown object>"
      ]
     },
     "metadata": {},
     "output_type": "display_data"
    },
    {
     "data": {
      "text/markdown": [
       "**Content:** # TAX INVOICE  \n",
       "<table>\n",
       "<tr>\n",
       "<th colspan=\"2\">Invoice No. PSI1454426</th>\n",
       "</tr>\n",
       "<tr>\n",
       "<th>PAGE</th>\n",
       "<th>DATE</th>\n",
       "</tr>\n",
       "<tr>\n",
       "<td>1</td>\n",
       "<td>16/09/25</td>\n",
       "</tr>\n",
       "</table>  \n",
       "$ 1,613.01\n",
       "\\* Due and Payable by\n",
       "16 September 2025  \n",
       "Dometic Australia Pty Ltd\n",
       "ABN: 62086366305\n",
       "7 Nursery Ave\n",
       "CLAYTON SOUTH VIC 3169\n",
       "Australia\n",
       "Tel: 1300 304 220  \n",
       "ACCOUNT NAME:\n",
       "Mutaz Abu Ghazaleh - +61 447 663 887\n",
       "VARSITY LAKES QLD 4227\n",
       "Australia  \n",
       "DELIVER TO:  \n",
       "Mutaz Abu Ghazaleh - +61 447 663 887  \n",
       "3 Jack McNamee Place  \n",
       "KELLYVILLE NSW 2155  \n",
       "Australia  \n",
       "<table>\n",
       "<tr>\n",
       "<th>CUSTOMER NO.</th>\n",
       "<th>OUR REF.</th>\n",
       "<th>CUSTOMER REF.</th>\n",
       "<th>ORDER DATE</th>\n",
       "<th>INPUT</th>\n",
       "<th>SENT BY</th>\n",
       "</tr>\n",
       "<tr>\n",
       "<td>9454</td>\n",
       "<td>SO3318449</td>\n",
       "<td>2392S</td>\n",
       "<td>15/09/25</td>\n",
       "<td>MAT.GRAH</td>\n",
       "<td>BORDER EXPRESS</td>\n",
       "</tr>\n",
       "</table>  \n",
       "<table>\n",
       "<tr>\n",
       "<th>QTY</th>\n",
       "<th>ITEM CODE</th>\n",
       "<th>DESCRIPTION</th>\n",
       "<th>UNIT PRICE</th>\n",
       "<th>UNIT</th>\n",
       "<th>DISC %</th>\n",
       "<th>LINE TOTAL EXCL. GST</th>\n",
       "<th>LOC</th>\n",
       "</tr>\n",
       "<tr>\n",
       "<td>1</td>\n",
       "<td>9620001868</td>\n",
       "<td>REF/FZR 1DOOR COMP ACDC NRX80 Serial No: 51800028</td>\n",
       "<td>$ 1,177.27</td>\n",
       "<td>Each</td>\n",
       "<td></td>\n",
       "<td>$ 1,177.27</td>\n",
       "<td>1CL</td>\n",
       "</tr>\n",
       "<tr>\n",
       "<td>1</td>\n",
       "<td>9610004436</td>\n",
       "<td>2 COOK 3 PRO DELUXE</td>\n",
       "<td>$ 244.55</td>\n",
       "<td>Each</td>\n",
       "<td></td>\n",
       "<td>$ 244.55</td>\n",
       "<td>1CL</td>\n",
       "</tr>\n",
       "<tr>\n",
       "<td>1</td>\n",
       "<td>9630000028</td>\n",
       "<td>NRX BOTTOM HANDLE ASSEMBLY</td>\n",
       "<td>$ 44.55</td>\n",
       "<td>Each</td>\n",
       "<td></td>\n",
       "<td>$ 44.55</td>\n",
       "<td>1CL</td>\n",
       "</tr>\n",
       "<tr>\n",
       "<td></td>\n",
       "<td></td>\n",
       "<td>Serial No: 52800165</td>\n",
       "<td></td>\n",
       "<td></td>\n",
       "<td></td>\n",
       "<td></td>\n",
       "<td></td>\n",
       "</tr>\n",
       "<tr>\n",
       "<td></td>\n",
       "<td></td>\n",
       "<td>Sydney 4×4 mutazag@hotmail.com</td>\n",
       "<td></td>\n",
       "<td></td>\n",
       "<td></td>\n",
       "<td></td>\n",
       "<td></td>\n",
       "</tr>\n",
       "<tr>\n",
       "<td></td>\n",
       "<td></td>\n",
       "<td></td>\n",
       "<td></td>\n",
       "<td></td>\n",
       "<td></td>\n",
       "<td></td>\n",
       "<td></td>\n",
       "</tr>\n",
       "</table>  \n",
       "SPECIAL DELIVERY INSTRUCTIONS:  \n",
       "TERMS:  \n",
       "CBD  \n",
       "SHIPMENT NO:\n",
       "DMSS1359770  \n",
       "SUB TOTAL  \n",
       "$ 1,466.37  \n",
       "GST (10%)  \n",
       "$ 146.64  \n",
       "<table>\n",
       "<tr>\n",
       "<th>CARTONS</th>\n",
       "<th>KG</th>\n",
       "<th>CUBIC M</th>\n",
       "<th>TOTAL INCL. GST</th>\n",
       "<th>$ 1,613.01</th>\n",
       "</tr>\n",
       "<tr>"
      ],
      "text/plain": [
       "<IPython.core.display.Markdown object>"
      ]
     },
     "metadata": {},
     "output_type": "display_data"
    },
    {
     "data": {
      "text/markdown": [
       "---"
      ],
      "text/plain": [
       "<IPython.core.display.Markdown object>"
      ]
     },
     "metadata": {},
     "output_type": "display_data"
    },
    {
     "data": {
      "text/markdown": [
       "### Result 2"
      ],
      "text/plain": [
       "<IPython.core.display.Markdown object>"
      ]
     },
     "metadata": {},
     "output_type": "display_data"
    },
    {
     "data": {
      "text/markdown": [
       "**Chunk ID:** dometic_fridge_stove_Sept_2025_20250918_114057_0002"
      ],
      "text/plain": [
       "<IPython.core.display.Markdown object>"
      ]
     },
     "metadata": {},
     "output_type": "display_data"
    },
    {
     "data": {
      "text/markdown": [
       "**Score:** 0.016393441706895828"
      ],
      "text/plain": [
       "<IPython.core.display.Markdown object>"
      ]
     },
     "metadata": {},
     "output_type": "display_data"
    },
    {
     "data": {
      "text/markdown": [
       "**Content:** <th>KG</th>\n",
       "<th>CUBIC M</th>\n",
       "<th>TOTAL INCL. GST</th>\n",
       "<th>$ 1,613.01</th>\n",
       "</tr>\n",
       "<tr>\n",
       "<td></td>\n",
       "<td>28.50</td>\n",
       "<td>0.31</td>\n",
       "<td></td>\n",
       "<td></td>\n",
       "</tr>\n",
       "</table>  \n",
       "<figure>  \n",
       "iB PAY  \n",
       "</figure>  \n",
       "Biller Code: 818997\n",
       "Ref:\n",
       "BPAY limit Min $100 Max $99,990  \n",
       "<table>\n",
       "<tr>\n",
       "<td>Banking Details:</td>\n",
       "<td>National Australia Bank VARSITY</td>\n",
       "</tr>\n",
       "<tr>\n",
       "<td>A/C Name:</td>\n",
       "<td>Dometic Australia Pty Ltd</td>\n",
       "</tr>\n",
       "<tr>\n",
       "<td>BSB: 083-166</td>\n",
       "<td>ACC: 567374492</td>\n",
       "</tr>\n",
       "</table>"
      ],
      "text/plain": [
       "<IPython.core.display.Markdown object>"
      ]
     },
     "metadata": {},
     "output_type": "display_data"
    },
    {
     "data": {
      "text/markdown": [
       "---"
      ],
      "text/plain": [
       "<IPython.core.display.Markdown object>"
      ]
     },
     "metadata": {},
     "output_type": "display_data"
    },
    {
     "data": {
      "text/markdown": [
       "### Result 3"
      ],
      "text/plain": [
       "<IPython.core.display.Markdown object>"
      ]
     },
     "metadata": {},
     "output_type": "display_data"
    },
    {
     "data": {
      "text/markdown": [
       "**Chunk ID:** Northwind_Health_Plus_Benefits_Details_0107"
      ],
      "text/plain": [
       "<IPython.core.display.Markdown object>"
      ]
     },
     "metadata": {},
     "output_type": "display_data"
    },
    {
     "data": {
      "text/markdown": [
       "**Score:** 0.016393441706895828"
      ],
      "text/plain": [
       "<IPython.core.display.Markdown object>"
      ]
     },
     "metadata": {},
     "output_type": "display_data"
    },
    {
     "data": {
      "text/markdown": [
       "**Content:** 2\\. Find out if the type of care you need requires prior authorization.  \n",
       "3\\. Ask your provider if they will be submitting the prior authorization request for you.  \n",
       "4\\. Ask Northwind Health about any limitations or conditions that may be placed on the prior\n",
       "authorization.  \n",
       "5\\. Understand that certain services may not require prior authorization.  \n",
       "Remember, if you have any questions about the prior authorization process or coverage for\n",
       "an out-of-network provider, contact Northwind Health directly. Northwind Health is\n",
       "available to answer any questions you may have and provide more information about the\n",
       "prior authorization process."
      ],
      "text/plain": [
       "<IPython.core.display.Markdown object>"
      ]
     },
     "metadata": {},
     "output_type": "display_data"
    },
    {
     "data": {
      "text/markdown": [
       "---"
      ],
      "text/plain": [
       "<IPython.core.display.Markdown object>"
      ]
     },
     "metadata": {},
     "output_type": "display_data"
    },
    {
     "data": {
      "text/markdown": [
       "### Result 4"
      ],
      "text/plain": [
       "<IPython.core.display.Markdown object>"
      ]
     },
     "metadata": {},
     "output_type": "display_data"
    },
    {
     "data": {
      "text/markdown": [
       "**Chunk ID:** Northwind_Health_Plus_Benefits_Details_0000"
      ],
      "text/plain": [
       "<IPython.core.display.Markdown object>"
      ]
     },
     "metadata": {},
     "output_type": "display_data"
    },
    {
     "data": {
      "text/markdown": [
       "**Score:** 0.016129031777381897"
      ],
      "text/plain": [
       "<IPython.core.display.Markdown object>"
      ]
     },
     "metadata": {},
     "output_type": "display_data"
    },
    {
     "data": {
      "text/markdown": [
       "**Content:** # Contoso Electronics  \n",
       "Northwind Health Plus Plan  \n",
       "<figure>  \n",
       "Contoso\n",
       "Electronics  \n",
       "</figure>  \n",
       "<!-- PageBreak -->  \n",
       "This document contains information generated using a language model (Azure OpenAI). The\n",
       "information contained in this document is only for demonstration purposes and does not\n",
       "reflect the opinions or beliefs of Microsoft. Microsoft makes no representations or\n",
       "warranties of any kind, express or implied, about the completeness, accuracy, reliability,\n",
       "suitability or availability with respect to the information contained in this document.  \n",
       "All rights reserved to Microsoft  \n",
       "<!-- PageBreak -->"
      ],
      "text/plain": [
       "<IPython.core.display.Markdown object>"
      ]
     },
     "metadata": {},
     "output_type": "display_data"
    },
    {
     "data": {
      "text/markdown": [
       "---"
      ],
      "text/plain": [
       "<IPython.core.display.Markdown object>"
      ]
     },
     "metadata": {},
     "output_type": "display_data"
    },
    {
     "data": {
      "text/markdown": [
       "### Result 5"
      ],
      "text/plain": [
       "<IPython.core.display.Markdown object>"
      ]
     },
     "metadata": {},
     "output_type": "display_data"
    },
    {
     "data": {
      "text/markdown": [
       "**Chunk ID:** Northwind_Health_Plus_Benefits_Details_0131"
      ],
      "text/plain": [
       "<IPython.core.display.Markdown object>"
      ]
     },
     "metadata": {},
     "output_type": "display_data"
    },
    {
     "data": {
      "text/markdown": [
       "**Score:** 0.016129031777381897"
      ],
      "text/plain": [
       "<IPython.core.display.Markdown object>"
      ]
     },
     "metadata": {},
     "output_type": "display_data"
    },
    {
     "data": {
      "text/markdown": [
       "**Content:** department.  \n",
       ". You may also want to contact a legal professional to help you with the appeals process.  \n",
       "· If Northwind Health Plus denies your appeal, you may be able to file a lawsuit against\n",
       "them.  \n",
       "· If Northwind Health Plus denies your appeal, you may be able to file a complaint with the\n",
       "California Department of Managed Health Care.  \n",
       "Understanding the appeals process can help you get the coverage and care you need. It is\n",
       "important to remember that you have the right to appeal a decision made by Northwind\n",
       "Health Plus or your provider. It is also important to remember that you must file your\n",
       "appeal within 60 days of the date of the denial letter or other written notification from\n",
       "Northwind Health Plus, unless Northwind Health Plus has given you more time. You should\n",
       "also include all relevant medical and other information with your appeal and contact a legal\n",
       "professional if you need help.  \n",
       "Appeal Levels  \n",
       "COMPLAINTS AND APPEALS  \n",
       "At Northwind Health Plus, we take complaints and appeals seriously, and we strive to\n",
       "provide our members with the highest quality of care. We have a multi-level process in\n",
       "place to ensure that any grievances are addressed and resolved quickly and fairly.  \n",
       "Level 1: Initial Review  \n",
       "This is the first step in the appeals process. If you have a problem with a service or product\n",
       "received, contact the plan's Customer Service team. The team will review your complaint to\n",
       "determine if a solution can be reached or if the complaint should be escalated to the next\n",
       "level.  \n",
       "Level 2: Formal Complaint  \n",
       "If a satisfactory resolution is not reached at Level 1, you may submit a formal written\n",
       "complaint to Northwind Health Plus. This should include details of the issue, the date and\n",
       "time of the incident, and the names of any involved personnel. It should also include any\n",
       "relevant documentation or other evidence that supports your claim.  \n",
       "Level 3: External Review  \n",
       "<!-- PageBreak -->"
      ],
      "text/plain": [
       "<IPython.core.display.Markdown object>"
      ]
     },
     "metadata": {},
     "output_type": "display_data"
    },
    {
     "data": {
      "text/markdown": [
       "---"
      ],
      "text/plain": [
       "<IPython.core.display.Markdown object>"
      ]
     },
     "metadata": {},
     "output_type": "display_data"
    }
   ],
   "source": [
    "search_display_result(\"3 Jack Mcnamee Place\")"
   ]
  },
  {
   "cell_type": "code",
   "execution_count": 13,
   "id": "1e36fa7e",
   "metadata": {},
   "outputs": [
    {
     "data": {
      "text/markdown": [
       "### Result 1"
      ],
      "text/plain": [
       "<IPython.core.display.Markdown object>"
      ]
     },
     "metadata": {},
     "output_type": "display_data"
    },
    {
     "data": {
      "text/markdown": [
       "**Chunk ID:** employee_handbook_0017"
      ],
      "text/plain": [
       "<IPython.core.display.Markdown object>"
      ]
     },
     "metadata": {},
     "output_type": "display_data"
    },
    {
     "data": {
      "text/markdown": [
       "**Score:** 0.03306011110544205"
      ],
      "text/plain": [
       "<IPython.core.display.Markdown object>"
      ]
     },
     "metadata": {},
     "output_type": "display_data"
    },
    {
     "data": {
      "text/markdown": [
       "**Content:** ## Job Roles  \n",
       "1\\. Chief Executive Officer  \n",
       "2\\. Chief Operating Officer  \n",
       "3\\. Chief Financial Officer  \n",
       "4\\. Chief Technology Officer  \n",
       "5\\. Vice President of Sales  \n",
       "6\\. Vice President of Marketing  \n",
       "7\\. Vice President of Operations  \n",
       "8\\. Vice President of Human Resources  \n",
       "9\\. Vice President of Research and Development  \n",
       "10\\. Vice President of Product Management  \n",
       "11\\. Director of Sales  \n",
       "12\\. Director of Marketing  \n",
       "13\\. Director of Operations  \n",
       "14\\. Director of Human Resources  \n",
       "<!-- PageBreak -->  \n",
       "15\\. Director of Research and Development  \n",
       "16\\. Director of Product Management  \n",
       "17\\. Senior Manager of Sales  \n",
       "18\\. Senior Manager of Marketing\n",
       "19\\. Senior Manager of Operations  \n",
       "20\\. Senior Manager of Human Resources  \n",
       "21\\. Senior Manager of Research and Development  \n",
       "22\\. Senior Manager of Product Management  \n",
       "23\\. Manager of Sales  \n",
       "24\\. Manager of Marketing\n",
       "25\\. Manager of Operations  \n",
       "26\\. Manager of Human Resources\n",
       "27\\. Manager of Research and Development  \n",
       "28\\. Manager of Product Management  \n",
       "29\\. Sales Representative  \n",
       "30\\. Customer Service Representative"
      ],
      "text/plain": [
       "<IPython.core.display.Markdown object>"
      ]
     },
     "metadata": {},
     "output_type": "display_data"
    },
    {
     "data": {
      "text/markdown": [
       "---"
      ],
      "text/plain": [
       "<IPython.core.display.Markdown object>"
      ]
     },
     "metadata": {},
     "output_type": "display_data"
    },
    {
     "data": {
      "text/markdown": [
       "### Result 2"
      ],
      "text/plain": [
       "<IPython.core.display.Markdown object>"
      ]
     },
     "metadata": {},
     "output_type": "display_data"
    },
    {
     "data": {
      "text/markdown": [
       "**Chunk ID:** employee_handbook_0004"
      ],
      "text/plain": [
       "<IPython.core.display.Markdown object>"
      ]
     },
     "metadata": {},
     "output_type": "display_data"
    },
    {
     "data": {
      "text/markdown": [
       "**Score:** 0.03229166567325592"
      ],
      "text/plain": [
       "<IPython.core.display.Markdown object>"
      ]
     },
     "metadata": {},
     "output_type": "display_data"
    },
    {
     "data": {
      "text/markdown": [
       "**Content:** ## Performance Reviews  \n",
       "### Performance Reviews at Contoso Electronics  \n",
       "At Contoso Electronics, we strive to ensure our employees are getting the feedback they\n",
       "need to continue growing and developing in their roles. We understand that performance\n",
       "reviews are a key part of this process and it is important to us that they are conducted in an\n",
       "effective and efficient manner.  \n",
       "Performance reviews are conducted annually and are an important part of your career\n",
       "development. During the review, your supervisor will discuss your performance over the\n",
       "past year and provide feedback on areas for improvement. They will also provide you with\n",
       "an opportunity to discuss your goals and objectives for the upcoming year.  \n",
       "Performance reviews are a two-way dialogue between managers and employees. We\n",
       "encourage all employees to be honest and open during the review process, as it is an\n",
       "important opportunity to discuss successes and challenges in the workplace.  \n",
       "We aim to provide positive and constructive feedback during performance reviews. This\n",
       "feedback should be used as an opportunity to help employees develop and grow in their\n",
       "roles.  \n",
       "Employees will receive a written summary of their performance review which will be\n",
       "discussed during the review session. This written summary will include a rating of the\n",
       "employee's performance, feedback, and goals and objectives for the upcoming year.  \n",
       "We understand that performance reviews can be a stressful process. We are committed to\n",
       "making sure that all employees feel supported and empowered during the process. We\n",
       "encourage all employees to reach out to their managers with any questions or concerns\n",
       "they may have.  \n",
       "We look forward to conducting performance reviews with all our employees. They are an\n",
       "important part of our commitment to helping our employees grow and develop in their\n",
       "roles.  \n",
       "<!-- PageBreak -->"
      ],
      "text/plain": [
       "<IPython.core.display.Markdown object>"
      ]
     },
     "metadata": {},
     "output_type": "display_data"
    },
    {
     "data": {
      "text/markdown": [
       "---"
      ],
      "text/plain": [
       "<IPython.core.display.Markdown object>"
      ]
     },
     "metadata": {},
     "output_type": "display_data"
    },
    {
     "data": {
      "text/markdown": [
       "### Result 3"
      ],
      "text/plain": [
       "<IPython.core.display.Markdown object>"
      ]
     },
     "metadata": {},
     "output_type": "display_data"
    },
    {
     "data": {
      "text/markdown": [
       "**Chunk ID:** employee_handbook_0003"
      ],
      "text/plain": [
       "<IPython.core.display.Markdown object>"
      ]
     },
     "metadata": {},
     "output_type": "display_data"
    },
    {
     "data": {
      "text/markdown": [
       "**Score:** 0.016393441706895828"
      ],
      "text/plain": [
       "<IPython.core.display.Markdown object>"
      ]
     },
     "metadata": {},
     "output_type": "display_data"
    },
    {
     "data": {
      "text/markdown": [
       "**Content:** ## Values  \n",
       "At Contoso Electronics, we strive to create an environment that values hard work,\n",
       "innovation, and collaboration. Our core values serve as the foundation for our success, and\n",
       "they guide our employees in how we should act and interact with each other and our\n",
       "customers.  \n",
       "Company Values:  \n",
       "1\\. Quality: We strive to provide the highest quality products and services to our customers.  \n",
       "2\\. Integrity: We value honesty, respect, and trustworthiness in all our interactions.  \n",
       "3\\. Innovation: We encourage creativity and support new ideas and approaches to our\n",
       "business.  \n",
       "4\\. Teamwork: We believe that by working together, we can achieve greater success.  \n",
       "5\\. Respect: We treat all our employees, customers, and partners with respect and dignity.  \n",
       "6\\. Excellence: We strive to exceed expectations and provide excellent service.  \n",
       "<!-- PageBreak -->  \n",
       "7\\. Accountability: We take responsibility for our actions and hold ourselves and others\n",
       "accountable for their performance.  \n",
       "8\\. Community: We are committed to making a positive impact in the communities in which\n",
       "we work and live."
      ],
      "text/plain": [
       "<IPython.core.display.Markdown object>"
      ]
     },
     "metadata": {},
     "output_type": "display_data"
    },
    {
     "data": {
      "text/markdown": [
       "---"
      ],
      "text/plain": [
       "<IPython.core.display.Markdown object>"
      ]
     },
     "metadata": {},
     "output_type": "display_data"
    },
    {
     "data": {
      "text/markdown": [
       "### Result 4"
      ],
      "text/plain": [
       "<IPython.core.display.Markdown object>"
      ]
     },
     "metadata": {},
     "output_type": "display_data"
    },
    {
     "data": {
      "text/markdown": [
       "**Chunk ID:** employee_handbook_0002"
      ],
      "text/plain": [
       "<IPython.core.display.Markdown object>"
      ]
     },
     "metadata": {},
     "output_type": "display_data"
    },
    {
     "data": {
      "text/markdown": [
       "**Score:** 0.016129031777381897"
      ],
      "text/plain": [
       "<IPython.core.display.Markdown object>"
      ]
     },
     "metadata": {},
     "output_type": "display_data"
    },
    {
     "data": {
      "text/markdown": [
       "**Content:** ## Our Mission  \n",
       "Contoso Electronics is a leader in the aerospace industry, providing advanced electronic\n",
       "components for both commercial and military aircraft. We specialize in creating cutting-\n",
       "edge systems that are both reliable and efficient. Our mission is to provide the highest\n",
       "quality aircraft components to our customers, while maintaining a commitment to safety\n",
       "and excellence. We are proud to have built a strong reputation in the aerospace industry\n",
       "and strive to continually improve our products and services. Our experienced team of\n",
       "engineers and technicians are dedicated to providing the best products and services to our\n",
       "customers. With our commitment to excellence, we are sure to remain a leader in the\n",
       "aerospace industry for years to come."
      ],
      "text/plain": [
       "<IPython.core.display.Markdown object>"
      ]
     },
     "metadata": {},
     "output_type": "display_data"
    },
    {
     "data": {
      "text/markdown": [
       "---"
      ],
      "text/plain": [
       "<IPython.core.display.Markdown object>"
      ]
     },
     "metadata": {},
     "output_type": "display_data"
    },
    {
     "data": {
      "text/markdown": [
       "### Result 5"
      ],
      "text/plain": [
       "<IPython.core.display.Markdown object>"
      ]
     },
     "metadata": {},
     "output_type": "display_data"
    },
    {
     "data": {
      "text/markdown": [
       "**Chunk ID:** Northwind_Health_Plus_Benefits_Details_0114"
      ],
      "text/plain": [
       "<IPython.core.display.Markdown object>"
      ]
     },
     "metadata": {},
     "output_type": "display_data"
    },
    {
     "data": {
      "text/markdown": [
       "**Score:** 0.016129031777381897"
      ],
      "text/plain": [
       "<IPython.core.display.Markdown object>"
      ]
     },
     "metadata": {},
     "output_type": "display_data"
    },
    {
     "data": {
      "text/markdown": [
       "**Content:** ### Personal Health Support Programs CARE MANAGEMENT  \n",
       "Northwind Health Plus offers a number of personal health support programs to help\n",
       "members stay healthy and manage their health care costs. Through this program, members\n",
       "can access a range of services, programs, and benefits including:  \n",
       "Case Management: Northwind Health Plus provides a case management program that\n",
       "connects members with a team of health professionals, depending on the individual's needs.\n",
       "These professionals will help assess the member's health situation, develop a plan of care,\n",
       "coordinate care and resources, and provide support and education.  \n",
       "Disease Management: Northwind Health Plus offers disease management programs for\n",
       "members with certain chronic conditions. These programs provide members with support,\n",
       "information, and resources about their conditions, as well as assistance in managing their\n",
       "health care.  \n",
       "Wellness Programs: Northwind Health Plus provides wellness programs to help members\n",
       "stay healthy and manage their health care costs. These programs include programs to help\n",
       "members quit smoking, manage stress, and improve their overall health and well-being.  \n",
       "Exceptions:  \n",
       "· Members must be enrolled in Northwind Health Plus to be eligible for these programs.  \n",
       ".These programs may not be available in all areas.  \n",
       ".Some services may not be covered by Northwind Health Plus.  \n",
       "Tips:  \n",
       "·Take advantage of the services and programs offered through Northwind Health Plus.  \n",
       ".Talk to your doctor or other health care provider about your health and any treatments\n",
       "that may be available.  \n",
       ".Take an active role in your health care. Ask questions and be informed about your health\n",
       "and any treatments that may be available.  \n",
       ". Make sure to follow your doctor's instructions and stay up to date on your health care.  \n",
       ". If you have any questions or concerns about your health, contact Northwind Health Plus\n",
       "for assistance.  \n",
       "<!-- PageBreak -->"
      ],
      "text/plain": [
       "<IPython.core.display.Markdown object>"
      ]
     },
     "metadata": {},
     "output_type": "display_data"
    },
    {
     "data": {
      "text/markdown": [
       "---"
      ],
      "text/plain": [
       "<IPython.core.display.Markdown object>"
      ]
     },
     "metadata": {},
     "output_type": "display_data"
    }
   ],
   "source": [
    "search_display_result(\"Role of a CEO\")"
   ]
  },
  {
   "cell_type": "code",
   "execution_count": 18,
   "id": "0076b2de",
   "metadata": {},
   "outputs": [
    {
     "data": {
      "text/markdown": [
       "### Result 1"
      ],
      "text/plain": [
       "<IPython.core.display.Markdown object>"
      ]
     },
     "metadata": {},
     "output_type": "display_data"
    },
    {
     "data": {
      "text/markdown": [
       "**Chunk ID:** dometic_fridge_stove_Sept_2025_20250918_114057_0001"
      ],
      "text/plain": [
       "<IPython.core.display.Markdown object>"
      ]
     },
     "metadata": {},
     "output_type": "display_data"
    },
    {
     "data": {
      "text/markdown": [
       "**Score:** 0.01666666753590107"
      ],
      "text/plain": [
       "<IPython.core.display.Markdown object>"
      ]
     },
     "metadata": {},
     "output_type": "display_data"
    },
    {
     "data": {
      "text/markdown": [
       "**Content:** # TAX INVOICE  \n",
       "<table>\n",
       "<tr>\n",
       "<th colspan=\"2\">Invoice No. PSI1454426</th>\n",
       "</tr>\n",
       "<tr>\n",
       "<th>PAGE</th>\n",
       "<th>DATE</th>\n",
       "</tr>\n",
       "<tr>\n",
       "<td>1</td>\n",
       "<td>16/09/25</td>\n",
       "</tr>\n",
       "</table>  \n",
       "$ 1,613.01\n",
       "\\* Due and Payable by\n",
       "16 September 2025  \n",
       "Dometic Australia Pty Ltd\n",
       "ABN: 62086366305\n",
       "7 Nursery Ave\n",
       "CLAYTON SOUTH VIC 3169\n",
       "Australia\n",
       "Tel: 1300 304 220  \n",
       "ACCOUNT NAME:\n",
       "Mutaz Abu Ghazaleh - +61 447 663 887\n",
       "VARSITY LAKES QLD 4227\n",
       "Australia  \n",
       "DELIVER TO:  \n",
       "Mutaz Abu Ghazaleh - +61 447 663 887  \n",
       "3 Jack McNamee Place  \n",
       "KELLYVILLE NSW 2155  \n",
       "Australia  \n",
       "<table>\n",
       "<tr>\n",
       "<th>CUSTOMER NO.</th>\n",
       "<th>OUR REF.</th>\n",
       "<th>CUSTOMER REF.</th>\n",
       "<th>ORDER DATE</th>\n",
       "<th>INPUT</th>\n",
       "<th>SENT BY</th>\n",
       "</tr>\n",
       "<tr>\n",
       "<td>9454</td>\n",
       "<td>SO3318449</td>\n",
       "<td>2392S</td>\n",
       "<td>15/09/25</td>\n",
       "<td>MAT.GRAH</td>\n",
       "<td>BORDER EXPRESS</td>\n",
       "</tr>\n",
       "</table>  \n",
       "<table>\n",
       "<tr>\n",
       "<th>QTY</th>\n",
       "<th>ITEM CODE</th>\n",
       "<th>DESCRIPTION</th>\n",
       "<th>UNIT PRICE</th>\n",
       "<th>UNIT</th>\n",
       "<th>DISC %</th>\n",
       "<th>LINE TOTAL EXCL. GST</th>\n",
       "<th>LOC</th>\n",
       "</tr>\n",
       "<tr>\n",
       "<td>1</td>\n",
       "<td>9620001868</td>\n",
       "<td>REF/FZR 1DOOR COMP ACDC NRX80 Serial No: 51800028</td>\n",
       "<td>$ 1,177.27</td>\n",
       "<td>Each</td>\n",
       "<td></td>\n",
       "<td>$ 1,177.27</td>\n",
       "<td>1CL</td>\n",
       "</tr>\n",
       "<tr>\n",
       "<td>1</td>\n",
       "<td>9610004436</td>\n",
       "<td>2 COOK 3 PRO DELUXE</td>\n",
       "<td>$ 244.55</td>\n",
       "<td>Each</td>\n",
       "<td></td>\n",
       "<td>$ 244.55</td>\n",
       "<td>1CL</td>\n",
       "</tr>\n",
       "<tr>\n",
       "<td>1</td>\n",
       "<td>9630000028</td>\n",
       "<td>NRX BOTTOM HANDLE ASSEMBLY</td>\n",
       "<td>$ 44.55</td>\n",
       "<td>Each</td>\n",
       "<td></td>\n",
       "<td>$ 44.55</td>\n",
       "<td>1CL</td>\n",
       "</tr>\n",
       "<tr>\n",
       "<td></td>\n",
       "<td></td>\n",
       "<td>Serial No: 52800165</td>\n",
       "<td></td>\n",
       "<td></td>\n",
       "<td></td>\n",
       "<td></td>\n",
       "<td></td>\n",
       "</tr>\n",
       "<tr>\n",
       "<td></td>\n",
       "<td></td>\n",
       "<td>Sydney 4×4 mutazag@hotmail.com</td>\n",
       "<td></td>\n",
       "<td></td>\n",
       "<td></td>\n",
       "<td></td>\n",
       "<td></td>\n",
       "</tr>\n",
       "<tr>\n",
       "<td></td>\n",
       "<td></td>\n",
       "<td></td>\n",
       "<td></td>\n",
       "<td></td>\n",
       "<td></td>\n",
       "<td></td>\n",
       "<td></td>\n",
       "</tr>\n",
       "</table>  \n",
       "SPECIAL DELIVERY INSTRUCTIONS:  \n",
       "TERMS:  \n",
       "CBD  \n",
       "SHIPMENT NO:\n",
       "DMSS1359770  \n",
       "SUB TOTAL  \n",
       "$ 1,466.37  \n",
       "GST (10%)  \n",
       "$ 146.64  \n",
       "<table>\n",
       "<tr>\n",
       "<th>CARTONS</th>\n",
       "<th>KG</th>\n",
       "<th>CUBIC M</th>\n",
       "<th>TOTAL INCL. GST</th>\n",
       "<th>$ 1,613.01</th>\n",
       "</tr>\n",
       "<tr>"
      ],
      "text/plain": [
       "<IPython.core.display.Markdown object>"
      ]
     },
     "metadata": {},
     "output_type": "display_data"
    },
    {
     "data": {
      "text/markdown": [
       "---"
      ],
      "text/plain": [
       "<IPython.core.display.Markdown object>"
      ]
     },
     "metadata": {},
     "output_type": "display_data"
    },
    {
     "data": {
      "text/markdown": [
       "### Result 2"
      ],
      "text/plain": [
       "<IPython.core.display.Markdown object>"
      ]
     },
     "metadata": {},
     "output_type": "display_data"
    },
    {
     "data": {
      "text/markdown": [
       "**Chunk ID:** PerksPlus_0000"
      ],
      "text/plain": [
       "<IPython.core.display.Markdown object>"
      ]
     },
     "metadata": {},
     "output_type": "display_data"
    },
    {
     "data": {
      "text/markdown": [
       "**Score:** 0.016393441706895828"
      ],
      "text/plain": [
       "<IPython.core.display.Markdown object>"
      ]
     },
     "metadata": {},
     "output_type": "display_data"
    },
    {
     "data": {
      "text/markdown": [
       "**Content:** PerksPlus Health and Wellness\n",
       "Reimbursement Program for\n",
       "Contoso Electronics Employees  \n",
       "<figure>  \n",
       "Contoso\n",
       "Electronics  \n",
       "</figure>  \n",
       "<!-- PageBreak -->  \n",
       "This document contains information generated using a language model (Azure OpenAI). The information\n",
       "contained in this document is only for demonstration purposes and does not reflect the opinions or\n",
       "beliefs of Microsoft. Microsoft makes no representations or warranties of any kind, express or implied,\n",
       "about the completeness, accuracy, reliability, suitability or availability with respect to the information\n",
       "contained in this document.  \n",
       "All rights reserved to Microsoft  \n",
       "<!-- PageBreak -->"
      ],
      "text/plain": [
       "<IPython.core.display.Markdown object>"
      ]
     },
     "metadata": {},
     "output_type": "display_data"
    },
    {
     "data": {
      "text/markdown": [
       "---"
      ],
      "text/plain": [
       "<IPython.core.display.Markdown object>"
      ]
     },
     "metadata": {},
     "output_type": "display_data"
    },
    {
     "data": {
      "text/markdown": [
       "### Result 3"
      ],
      "text/plain": [
       "<IPython.core.display.Markdown object>"
      ]
     },
     "metadata": {},
     "output_type": "display_data"
    },
    {
     "data": {
      "text/markdown": [
       "**Chunk ID:** employee_handbook_0000"
      ],
      "text/plain": [
       "<IPython.core.display.Markdown object>"
      ]
     },
     "metadata": {},
     "output_type": "display_data"
    },
    {
     "data": {
      "text/markdown": [
       "**Score:** 0.016129031777381897"
      ],
      "text/plain": [
       "<IPython.core.display.Markdown object>"
      ]
     },
     "metadata": {},
     "output_type": "display_data"
    },
    {
     "data": {
      "text/markdown": [
       "**Content:** # Contoso Electronics Employee Handbook  \n",
       "<figure>  \n",
       "Contoso\n",
       "Electronics  \n",
       "</figure>  \n",
       "<!-- PageBreak -->  \n",
       "This document contains information generated using a language model (Azure OpenAI). The\n",
       "information contained in this document is only for demonstration purposes and does not\n",
       "reflect the opinions or beliefs of Microsoft. Microsoft makes no representations or\n",
       "warranties of any kind, express or implied, about the completeness, accuracy, reliability,\n",
       "suitability or availability with respect to the information contained in this document.  \n",
       "All rights reserved to Microsoft  \n",
       "<!-- PageBreak -->"
      ],
      "text/plain": [
       "<IPython.core.display.Markdown object>"
      ]
     },
     "metadata": {},
     "output_type": "display_data"
    },
    {
     "data": {
      "text/markdown": [
       "---"
      ],
      "text/plain": [
       "<IPython.core.display.Markdown object>"
      ]
     },
     "metadata": {},
     "output_type": "display_data"
    },
    {
     "data": {
      "text/markdown": [
       "### Result 4"
      ],
      "text/plain": [
       "<IPython.core.display.Markdown object>"
      ]
     },
     "metadata": {},
     "output_type": "display_data"
    },
    {
     "data": {
      "text/markdown": [
       "**Chunk ID:** Northwind_Health_Plus_Benefits_Details_0000"
      ],
      "text/plain": [
       "<IPython.core.display.Markdown object>"
      ]
     },
     "metadata": {},
     "output_type": "display_data"
    },
    {
     "data": {
      "text/markdown": [
       "**Score:** 0.01587301678955555"
      ],
      "text/plain": [
       "<IPython.core.display.Markdown object>"
      ]
     },
     "metadata": {},
     "output_type": "display_data"
    },
    {
     "data": {
      "text/markdown": [
       "**Content:** # Contoso Electronics  \n",
       "Northwind Health Plus Plan  \n",
       "<figure>  \n",
       "Contoso\n",
       "Electronics  \n",
       "</figure>  \n",
       "<!-- PageBreak -->  \n",
       "This document contains information generated using a language model (Azure OpenAI). The\n",
       "information contained in this document is only for demonstration purposes and does not\n",
       "reflect the opinions or beliefs of Microsoft. Microsoft makes no representations or\n",
       "warranties of any kind, express or implied, about the completeness, accuracy, reliability,\n",
       "suitability or availability with respect to the information contained in this document.  \n",
       "All rights reserved to Microsoft  \n",
       "<!-- PageBreak -->"
      ],
      "text/plain": [
       "<IPython.core.display.Markdown object>"
      ]
     },
     "metadata": {},
     "output_type": "display_data"
    },
    {
     "data": {
      "text/markdown": [
       "---"
      ],
      "text/plain": [
       "<IPython.core.display.Markdown object>"
      ]
     },
     "metadata": {},
     "output_type": "display_data"
    },
    {
     "data": {
      "text/markdown": [
       "### Result 5"
      ],
      "text/plain": [
       "<IPython.core.display.Markdown object>"
      ]
     },
     "metadata": {},
     "output_type": "display_data"
    },
    {
     "data": {
      "text/markdown": [
       "**Chunk ID:** Northwind_Standard_Benefits_Details_0000"
      ],
      "text/plain": [
       "<IPython.core.display.Markdown object>"
      ]
     },
     "metadata": {},
     "output_type": "display_data"
    },
    {
     "data": {
      "text/markdown": [
       "**Score:** 0.015625"
      ],
      "text/plain": [
       "<IPython.core.display.Markdown object>"
      ]
     },
     "metadata": {},
     "output_type": "display_data"
    },
    {
     "data": {
      "text/markdown": [
       "**Content:** # Contoso Electronics  \n",
       "Northwind Health Standard Plan  \n",
       "<figure>  \n",
       "Contoso\n",
       "Electronics  \n",
       "</figure>  \n",
       "<!-- PageBreak -->  \n",
       "This document contains information generated using a language model (Azure OpenAI). The\n",
       "information contained in this document is only for demonstration purposes and does not\n",
       "reflect the opinions or beliefs of Microsoft. Microsoft makes no representations or\n",
       "warranties of any kind, express or implied, about the completeness, accuracy, reliability,\n",
       "suitability or availability with respect to the information contained in this document.  \n",
       "All rights reserved to Microsoft  \n",
       "<!-- PageBreak -->"
      ],
      "text/plain": [
       "<IPython.core.display.Markdown object>"
      ]
     },
     "metadata": {},
     "output_type": "display_data"
    },
    {
     "data": {
      "text/markdown": [
       "---"
      ],
      "text/plain": [
       "<IPython.core.display.Markdown object>"
      ]
     },
     "metadata": {},
     "output_type": "display_data"
    }
   ],
   "source": [
    "search_display_result(\"PSI14554426\")"
   ]
  },
  {
   "cell_type": "code",
   "execution_count": null,
   "id": "4e06580b",
   "metadata": {},
   "outputs": [],
   "source": [
    "search_display_result(\"PSI14554426\", vector_only=True)"
   ]
  },
  {
   "cell_type": "code",
   "execution_count": null,
   "id": "bbe3b895",
   "metadata": {},
   "outputs": [],
   "source": []
  }
 ],
 "metadata": {
  "kernelspec": {
   "display_name": "md_env",
   "language": "python",
   "name": "python3"
  },
  "language_info": {
   "codemirror_mode": {
    "name": "ipython",
    "version": 3
   },
   "file_extension": ".py",
   "mimetype": "text/x-python",
   "name": "python",
   "nbconvert_exporter": "python",
   "pygments_lexer": "ipython3",
   "version": "3.13.7"
  }
 },
 "nbformat": 4,
 "nbformat_minor": 5
}
